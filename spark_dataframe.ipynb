{
 "cells": [
  {
   "cell_type": "code",
   "execution_count": 1,
   "id": "739f85c8-2b5e-4b52-b47a-ac2765f5f4e3",
   "metadata": {},
   "outputs": [],
   "source": [
    "from pyspark.sql import SparkSession"
   ]
  },
  {
   "cell_type": "code",
   "execution_count": 2,
   "id": "6b0a0fcf-c7de-4be2-8393-1927e0445472",
   "metadata": {},
   "outputs": [],
   "source": [
    "spark = SparkSession.builder.appName(\"Data_wrangling\").getOrCreate()"
   ]
  },
  {
   "cell_type": "code",
   "execution_count": 3,
   "id": "cc47ec4f-a837-47f8-8d46-5638b8edaf4e",
   "metadata": {},
   "outputs": [],
   "source": [
    "df = spark.read.format(\"csv\") \\\n",
    "    .option(\"inferSchema\", \"True\") \\\n",
    "    .option(\"header\", \"True\") \\\n",
    "    .option(\"sep\", \",\") \\\n",
    "    .load(\"./data/Online_Retail.csv\")"
   ]
  },
  {
   "cell_type": "code",
   "execution_count": 4,
   "id": "d94743fd-6a1f-4ea9-975e-e0019c02dbd8",
   "metadata": {},
   "outputs": [
    {
     "data": {
      "text/plain": [
       "DataFrame[InvoiceNo: string, StockCode: string, Description: string, Quantity: int, InvoiceDate: timestamp, UnitPrice: double, CustomerID: int, Country: string]"
      ]
     },
     "execution_count": 4,
     "metadata": {},
     "output_type": "execute_result"
    }
   ],
   "source": [
    "df"
   ]
  },
  {
   "cell_type": "code",
   "execution_count": 5,
   "id": "0f2c4462-2b71-4a2c-bf6e-2a2876555c6d",
   "metadata": {},
   "outputs": [
    {
     "name": "stdout",
     "output_type": "stream",
     "text": [
      "+---------+---------+--------------------+--------+-------------------+---------+----------+--------------+\n",
      "|InvoiceNo|StockCode|         Description|Quantity|        InvoiceDate|UnitPrice|CustomerID|       Country|\n",
      "+---------+---------+--------------------+--------+-------------------+---------+----------+--------------+\n",
      "|   536365|   85123A|WHITE HANGING HEA...|       6|2010-12-01 08:26:00|     2.55|     17850|United Kingdom|\n",
      "|   536365|    71053| WHITE METAL LANTERN|       6|2010-12-01 08:26:00|     3.39|     17850|United Kingdom|\n",
      "|   536365|   84406B|CREAM CUPID HEART...|       8|2010-12-01 08:26:00|     2.75|     17850|United Kingdom|\n",
      "|   536365|   84029G|KNITTED UNION FLA...|       6|2010-12-01 08:26:00|     3.39|     17850|United Kingdom|\n",
      "|   536365|   84029E|RED WOOLLY HOTTIE...|       6|2010-12-01 08:26:00|     3.39|     17850|United Kingdom|\n",
      "|   536365|    22752|SET 7 BABUSHKA NE...|       2|2010-12-01 08:26:00|     7.65|     17850|United Kingdom|\n",
      "|   536365|    21730|GLASS STAR FROSTE...|       6|2010-12-01 08:26:00|     4.25|     17850|United Kingdom|\n",
      "|   536366|    22633|HAND WARMER UNION...|       6|2010-12-01 08:28:00|     1.85|     17850|United Kingdom|\n",
      "|   536366|    22632|HAND WARMER RED P...|       6|2010-12-01 08:28:00|     1.85|     17850|United Kingdom|\n",
      "|   536367|    84879|ASSORTED COLOUR B...|      32|2010-12-01 08:34:00|     1.69|     13047|United Kingdom|\n",
      "|   536367|    22745|POPPY'S PLAYHOUSE...|       6|2010-12-01 08:34:00|      2.1|     13047|United Kingdom|\n",
      "|   536367|    22748|POPPY'S PLAYHOUSE...|       6|2010-12-01 08:34:00|      2.1|     13047|United Kingdom|\n",
      "|   536367|    22749|FELTCRAFT PRINCES...|       8|2010-12-01 08:34:00|     3.75|     13047|United Kingdom|\n",
      "|   536367|    22310|IVORY KNITTED MUG...|       6|2010-12-01 08:34:00|     1.65|     13047|United Kingdom|\n",
      "|   536367|    84969|BOX OF 6 ASSORTED...|       6|2010-12-01 08:34:00|     4.25|     13047|United Kingdom|\n",
      "|   536367|    22623|BOX OF VINTAGE JI...|       3|2010-12-01 08:34:00|     4.95|     13047|United Kingdom|\n",
      "|   536367|    22622|BOX OF VINTAGE AL...|       2|2010-12-01 08:34:00|     9.95|     13047|United Kingdom|\n",
      "|   536367|    21754|HOME BUILDING BLO...|       3|2010-12-01 08:34:00|     5.95|     13047|United Kingdom|\n",
      "|   536367|    21755|LOVE BUILDING BLO...|       3|2010-12-01 08:34:00|     5.95|     13047|United Kingdom|\n",
      "|   536367|    21777|RECIPE BOX WITH M...|       4|2010-12-01 08:34:00|     7.95|     13047|United Kingdom|\n",
      "+---------+---------+--------------------+--------+-------------------+---------+----------+--------------+\n",
      "only showing top 20 rows\n",
      "\n"
     ]
    }
   ],
   "source": [
    "df.show()"
   ]
  },
  {
   "cell_type": "code",
   "execution_count": 6,
   "id": "639057c9-b2b3-4384-b9b1-f78df84615d2",
   "metadata": {},
   "outputs": [
    {
     "data": {
      "text/plain": [
       "pyspark.sql.dataframe.DataFrame"
      ]
     },
     "execution_count": 6,
     "metadata": {},
     "output_type": "execute_result"
    }
   ],
   "source": [
    "type(df)"
   ]
  },
  {
   "cell_type": "code",
   "execution_count": 7,
   "id": "fa771d75-925c-4390-95df-343e4c9cc699",
   "metadata": {},
   "outputs": [
    {
     "name": "stdout",
     "output_type": "stream",
     "text": [
      "root\n",
      " |-- InvoiceNo: string (nullable = true)\n",
      " |-- StockCode: string (nullable = true)\n",
      " |-- Description: string (nullable = true)\n",
      " |-- Quantity: integer (nullable = true)\n",
      " |-- InvoiceDate: timestamp (nullable = true)\n",
      " |-- UnitPrice: double (nullable = true)\n",
      " |-- CustomerID: integer (nullable = true)\n",
      " |-- Country: string (nullable = true)\n",
      "\n"
     ]
    }
   ],
   "source": [
    "df.printSchema()"
   ]
  },
  {
   "cell_type": "markdown",
   "id": "490f5e66-43e7-4682-bb85-5395207a4642",
   "metadata": {},
   "source": [
    "# スキーマを指定してファイル読み込み"
   ]
  },
  {
   "cell_type": "code",
   "execution_count": 8,
   "id": "ebaa06fc-d906-46a1-a49d-14e582f49d11",
   "metadata": {},
   "outputs": [],
   "source": [
    "from pyspark.sql.types import StructType, StructField, StringType, IntegerType, FloatType, DateType"
   ]
  },
  {
   "cell_type": "code",
   "execution_count": 9,
   "id": "65f1c803-60f9-415c-a5f3-90e6b1349904",
   "metadata": {},
   "outputs": [
    {
     "data": {
      "text/plain": [
       "'3.5.0'"
      ]
     },
     "execution_count": 9,
     "metadata": {},
     "output_type": "execute_result"
    }
   ],
   "source": [
    "spark.version"
   ]
  },
  {
   "cell_type": "code",
   "execution_count": 10,
   "id": "2e174cd2-2bca-4c5c-a698-b85cda08ee77",
   "metadata": {},
   "outputs": [],
   "source": [
    "schema = StructType([\n",
    "    StructField(\"InvoiceNo\", StringType(), False),\n",
    "    StructField(\"StockCode\", StringType(), False),\n",
    "    StructField(\"Description\", StringType(), False),\n",
    "    StructField(\"Quantity\", IntegerType(), False),\n",
    "    StructField(\"InvoiceDate\", DateType(), False),\n",
    "    StructField(\"UnitPrice\", FloatType(), False),\n",
    "    StructField(\"CustomerID\", IntegerType(), False),\n",
    "    StructField(\"Country\", StringType(), False)\n",
    "])"
   ]
  },
  {
   "cell_type": "code",
   "execution_count": 11,
   "id": "083a468b-ea17-4125-84cf-d3eb6bed769c",
   "metadata": {},
   "outputs": [],
   "source": [
    "df = spark.read.format(\"csv\") \\\n",
    "    .option(\"header\", \"True\") \\\n",
    "    .option(\"sep\", \",\") \\\n",
    "    .load(\"./data/Online_Retail.csv\", schema=schema)"
   ]
  },
  {
   "cell_type": "code",
   "execution_count": 12,
   "id": "f7b6f064-ae4b-47fe-adf0-d8f331d24fa8",
   "metadata": {},
   "outputs": [
    {
     "name": "stdout",
     "output_type": "stream",
     "text": [
      "+---------+---------+-----------------------------------+--------+-----------+---------+----------+--------------+\n",
      "|InvoiceNo|StockCode|Description                        |Quantity|InvoiceDate|UnitPrice|CustomerID|Country       |\n",
      "+---------+---------+-----------------------------------+--------+-----------+---------+----------+--------------+\n",
      "|536365   |85123A   |WHITE HANGING HEART T-LIGHT HOLDER |6       |2010-12-01 |2.55     |17850     |United Kingdom|\n",
      "|536365   |71053    |WHITE METAL LANTERN                |6       |2010-12-01 |3.39     |17850     |United Kingdom|\n",
      "|536365   |84406B   |CREAM CUPID HEARTS COAT HANGER     |8       |2010-12-01 |2.75     |17850     |United Kingdom|\n",
      "|536365   |84029G   |KNITTED UNION FLAG HOT WATER BOTTLE|6       |2010-12-01 |3.39     |17850     |United Kingdom|\n",
      "|536365   |84029E   |RED WOOLLY HOTTIE WHITE HEART.     |6       |2010-12-01 |3.39     |17850     |United Kingdom|\n",
      "|536365   |22752    |SET 7 BABUSHKA NESTING BOXES       |2       |2010-12-01 |7.65     |17850     |United Kingdom|\n",
      "|536365   |21730    |GLASS STAR FROSTED T-LIGHT HOLDER  |6       |2010-12-01 |4.25     |17850     |United Kingdom|\n",
      "|536366   |22633    |HAND WARMER UNION JACK             |6       |2010-12-01 |1.85     |17850     |United Kingdom|\n",
      "|536366   |22632    |HAND WARMER RED POLKA DOT          |6       |2010-12-01 |1.85     |17850     |United Kingdom|\n",
      "|536367   |84879    |ASSORTED COLOUR BIRD ORNAMENT      |32      |2010-12-01 |1.69     |13047     |United Kingdom|\n",
      "|536367   |22745    |POPPY'S PLAYHOUSE BEDROOM          |6       |2010-12-01 |2.1      |13047     |United Kingdom|\n",
      "|536367   |22748    |POPPY'S PLAYHOUSE KITCHEN          |6       |2010-12-01 |2.1      |13047     |United Kingdom|\n",
      "|536367   |22749    |FELTCRAFT PRINCESS CHARLOTTE DOLL  |8       |2010-12-01 |3.75     |13047     |United Kingdom|\n",
      "|536367   |22310    |IVORY KNITTED MUG COSY             |6       |2010-12-01 |1.65     |13047     |United Kingdom|\n",
      "|536367   |84969    |BOX OF 6 ASSORTED COLOUR TEASPOONS |6       |2010-12-01 |4.25     |13047     |United Kingdom|\n",
      "|536367   |22623    |BOX OF VINTAGE JIGSAW BLOCKS       |3       |2010-12-01 |4.95     |13047     |United Kingdom|\n",
      "|536367   |22622    |BOX OF VINTAGE ALPHABET BLOCKS     |2       |2010-12-01 |9.95     |13047     |United Kingdom|\n",
      "|536367   |21754    |HOME BUILDING BLOCK WORD           |3       |2010-12-01 |5.95     |13047     |United Kingdom|\n",
      "|536367   |21755    |LOVE BUILDING BLOCK WORD           |3       |2010-12-01 |5.95     |13047     |United Kingdom|\n",
      "|536367   |21777    |RECIPE BOX WITH METAL HEART        |4       |2010-12-01 |7.95     |13047     |United Kingdom|\n",
      "+---------+---------+-----------------------------------+--------+-----------+---------+----------+--------------+\n",
      "only showing top 20 rows\n",
      "\n"
     ]
    }
   ],
   "source": [
    "df.show(truncate=False)"
   ]
  },
  {
   "cell_type": "code",
   "execution_count": 13,
   "id": "1ecf45fa-289e-47d2-80b5-2bd69a9418df",
   "metadata": {},
   "outputs": [
    {
     "data": {
      "text/plain": [
       "[('InvoiceNo', 'string'),\n",
       " ('StockCode', 'string'),\n",
       " ('Description', 'string'),\n",
       " ('Quantity', 'int'),\n",
       " ('InvoiceDate', 'date'),\n",
       " ('UnitPrice', 'float'),\n",
       " ('CustomerID', 'int'),\n",
       " ('Country', 'string')]"
      ]
     },
     "execution_count": 13,
     "metadata": {},
     "output_type": "execute_result"
    }
   ],
   "source": [
    "df.dtypes"
   ]
  },
  {
   "cell_type": "code",
   "execution_count": 14,
   "id": "88929fda-4d60-4260-a58a-84a23e562fc3",
   "metadata": {},
   "outputs": [
    {
     "name": "stdout",
     "output_type": "stream",
     "text": [
      "+---------+--------------------+\n",
      "|StockCode|         Description|\n",
      "+---------+--------------------+\n",
      "|   85123A|WHITE HANGING HEA...|\n",
      "|    71053| WHITE METAL LANTERN|\n",
      "|   84406B|CREAM CUPID HEART...|\n",
      "|   84029G|KNITTED UNION FLA...|\n",
      "|   84029E|RED WOOLLY HOTTIE...|\n",
      "|    22752|SET 7 BABUSHKA NE...|\n",
      "|    21730|GLASS STAR FROSTE...|\n",
      "|    22633|HAND WARMER UNION...|\n",
      "|    22632|HAND WARMER RED P...|\n",
      "|    84879|ASSORTED COLOUR B...|\n",
      "|    22745|POPPY'S PLAYHOUSE...|\n",
      "|    22748|POPPY'S PLAYHOUSE...|\n",
      "|    22749|FELTCRAFT PRINCES...|\n",
      "|    22310|IVORY KNITTED MUG...|\n",
      "|    84969|BOX OF 6 ASSORTED...|\n",
      "|    22623|BOX OF VINTAGE JI...|\n",
      "|    22622|BOX OF VINTAGE AL...|\n",
      "|    21754|HOME BUILDING BLO...|\n",
      "|    21755|LOVE BUILDING BLO...|\n",
      "|    21777|RECIPE BOX WITH M...|\n",
      "+---------+--------------------+\n",
      "only showing top 20 rows\n",
      "\n"
     ]
    }
   ],
   "source": [
    "df.select(\"StockCode\", \"Description\").show()"
   ]
  },
  {
   "cell_type": "code",
   "execution_count": 15,
   "id": "402d8263-2537-4cc7-8672-2b1a25845d27",
   "metadata": {},
   "outputs": [
    {
     "data": {
      "text/plain": [
       "541909"
      ]
     },
     "execution_count": 15,
     "metadata": {},
     "output_type": "execute_result"
    }
   ],
   "source": [
    "df.count()"
   ]
  },
  {
   "cell_type": "markdown",
   "id": "84003522-b33f-40fe-9faa-007ff08cf3d1",
   "metadata": {},
   "source": [
    "# filter: 条件を満たすレコードの抽出"
   ]
  },
  {
   "cell_type": "code",
   "execution_count": 16,
   "id": "1c9c1f02-90eb-4a01-a42d-04b8325c4ecf",
   "metadata": {},
   "outputs": [
    {
     "name": "stdout",
     "output_type": "stream",
     "text": [
      "+---------+---------+--------------------+--------+-----------+---------+----------+--------------+\n",
      "|InvoiceNo|StockCode|         Description|Quantity|InvoiceDate|UnitPrice|CustomerID|       Country|\n",
      "+---------+---------+--------------------+--------+-----------+---------+----------+--------------+\n",
      "|   536392|    22827|RUSTIC  SEVENTEEN...|       1| 2010-12-01|    165.0|     13705|United Kingdom|\n",
      "|   536396|    22803|IVORY EMBROIDERED...|       2| 2010-12-01|    35.75|     17850|United Kingdom|\n",
      "|   536406|    22803|IVORY EMBROIDERED...|       2| 2010-12-01|    35.75|     17850|United Kingdom|\n",
      "|   536540|       C2|            CARRIAGE|       1| 2010-12-01|     50.0|     14911|          EIRE|\n",
      "|   536544|    22769|CHALKBOARD KITCHE...|       1| 2010-12-01|    51.02|      NULL|United Kingdom|\n",
      "|   536544|    22847|BREAD BIN DINER S...|       1| 2010-12-01|     34.0|      NULL|United Kingdom|\n",
      "|   536544|      DOT|      DOTCOM POSTAGE|       1| 2010-12-01|   569.77|      NULL|United Kingdom|\n",
      "|   536592|    22503|CABIN BAG VINTAGE...|       1| 2010-12-01|    59.53|      NULL|United Kingdom|\n",
      "|   536592|    22946|WOODEN ADVENT CAL...|       1| 2010-12-01|     34.0|      NULL|United Kingdom|\n",
      "|   536592|    22947|WOODEN ADVENT CAL...|       1| 2010-12-01|     34.0|      NULL|United Kingdom|\n",
      "|   536592|      DOT|      DOTCOM POSTAGE|       1| 2010-12-01|   607.49|      NULL|United Kingdom|\n",
      "|   536600|    22803|IVORY EMBROIDERED...|       2| 2010-12-02|    35.75|     17850|United Kingdom|\n",
      "|   536676|    21769|VINTAGE POST OFFI...|       1| 2010-12-02|    79.95|     16752|United Kingdom|\n",
      "|   536685|    22803|IVORY EMBROIDERED...|       2| 2010-12-02|    35.75|     17850|United Kingdom|\n",
      "|   536690|    22803|IVORY EMBROIDERED...|       2| 2010-12-02|    35.75|     17850|United Kingdom|\n",
      "|   536750|    22803|IVORY EMBROIDERED...|       2| 2010-12-02|    35.75|     17850|United Kingdom|\n",
      "|   536752|    22803|IVORY EMBROIDERED...|       2| 2010-12-02|    35.75|     17850|United Kingdom|\n",
      "|   536790|    22803|IVORY EMBROIDERED...|       3| 2010-12-02|    35.75|     17850|United Kingdom|\n",
      "|   536835|    22655|VINTAGE RED KITCH...|       1| 2010-12-02|    295.0|     13145|United Kingdom|\n",
      "|   536858|     POST|             POSTAGE|       2| 2010-12-03|     40.0|     13520|   Switzerland|\n",
      "+---------+---------+--------------------+--------+-----------+---------+----------+--------------+\n",
      "only showing top 20 rows\n",
      "\n"
     ]
    }
   ],
   "source": [
    "df.filter(df['UnitPrice'] > 30).show()"
   ]
  },
  {
   "cell_type": "code",
   "execution_count": 17,
   "id": "c8399572-78a1-4fb8-944e-55f0715063e7",
   "metadata": {},
   "outputs": [
    {
     "name": "stdout",
     "output_type": "stream",
     "text": [
      "+---------+---------+--------------------+--------+-----------+---------+----------+-----------+\n",
      "|InvoiceNo|StockCode|         Description|Quantity|InvoiceDate|UnitPrice|CustomerID|    Country|\n",
      "+---------+---------+--------------------+--------+-----------+---------+----------+-----------+\n",
      "|   536858|    22326|ROUND SNACK BOXES...|      30| 2010-12-03|     2.95|     13520|Switzerland|\n",
      "|   536858|    22554|PLASTERS IN TIN W...|      36| 2010-12-03|     1.65|     13520|Switzerland|\n",
      "|   536858|    21731|RED TOADSTOOL LED...|      24| 2010-12-03|     1.65|     13520|Switzerland|\n",
      "|   536858|    20677|  PINK POLKADOT BOWL|      16| 2010-12-03|     1.25|     13520|Switzerland|\n",
      "|   536858|    20750|RED RETROSPOT MIN...|       2| 2010-12-03|     7.95|     13520|Switzerland|\n",
      "|   536858|     POST|             POSTAGE|       2| 2010-12-03|     40.0|     13520|Switzerland|\n",
      "|   539488|    22837|HOT WATER BOTTLE ...|       8| 2010-12-20|     4.65|     12377|Switzerland|\n",
      "|   539488|    22112|CHOCOLATE HOT WAT...|      16| 2010-12-20|     4.95|     12377|Switzerland|\n",
      "|   539488|    22953|BIRTHDAY BANNER TAPE|      24| 2010-12-20|     1.25|     12377|Switzerland|\n",
      "|   539488|    22813|PACK 3 BOXES BIRD...|      24| 2010-12-20|     1.95|     12377|Switzerland|\n",
      "|   539488|    22314|OFFICE MUG WARMER...|      12| 2010-12-20|     4.95|     12377|Switzerland|\n",
      "|   539488|    22190|      LOCAL CAFE MUG|      12| 2010-12-20|      2.1|     12377|Switzerland|\n",
      "|   539488|    22540|MINI JIGSAW CIRCU...|      24| 2010-12-20|     0.42|     12377|Switzerland|\n",
      "|   539488|    22544|MINI JIGSAW SPACEBOY|      24| 2010-12-20|     0.42|     12377|Switzerland|\n",
      "|   539488|    22546|  MINI JIGSAW PURDEY|      24| 2010-12-20|     0.42|     12377|Switzerland|\n",
      "|   539488|    22545| MINI JIGSAW BUNNIES|      24| 2010-12-20|     0.42|     12377|Switzerland|\n",
      "|   539488|    22539|MINI JIGSAW DOLLY...|      24| 2010-12-20|     0.42|     12377|Switzerland|\n",
      "|   539488|    22538|MINI JIGSAW GO TO...|      24| 2010-12-20|     0.42|     12377|Switzerland|\n",
      "|   539488|    22555|PLASTERS IN TIN S...|      12| 2010-12-20|     1.65|     12377|Switzerland|\n",
      "|   539488|    22556|PLASTERS IN TIN C...|      12| 2010-12-20|     1.65|     12377|Switzerland|\n",
      "+---------+---------+--------------------+--------+-----------+---------+----------+-----------+\n",
      "only showing top 20 rows\n",
      "\n"
     ]
    }
   ],
   "source": [
    "df.filter(df['Country']==\"Switzerland\").show()"
   ]
  },
  {
   "cell_type": "code",
   "execution_count": 18,
   "id": "ea709a0a-a0b5-41ee-b252-23a75214f5e0",
   "metadata": {},
   "outputs": [
    {
     "data": {
      "text/plain": [
       "2002"
      ]
     },
     "execution_count": 18,
     "metadata": {},
     "output_type": "execute_result"
    }
   ],
   "source": [
    "df.filter(df['Country']==\"Switzerland\").count()"
   ]
  },
  {
   "cell_type": "markdown",
   "id": "1bb3f828-ebd4-4944-a2f1-cc1ad3567a3e",
   "metadata": {},
   "source": [
    "# where: 条件を満たすレコードの抽出"
   ]
  },
  {
   "cell_type": "code",
   "execution_count": 19,
   "id": "a1ea9063-acc5-4ed7-8102-d63f64ded578",
   "metadata": {},
   "outputs": [
    {
     "name": "stdout",
     "output_type": "stream",
     "text": [
      "+---------+---------+-----------------------------------+--------+-----------+---------+----------+--------------+\n",
      "|InvoiceNo|StockCode|Description                        |Quantity|InvoiceDate|UnitPrice|CustomerID|Country       |\n",
      "+---------+---------+-----------------------------------+--------+-----------+---------+----------+--------------+\n",
      "|536365   |84029G   |KNITTED UNION FLAG HOT WATER BOTTLE|6       |2010-12-01 |3.39     |17850     |United Kingdom|\n",
      "|536373   |84029G   |KNITTED UNION FLAG HOT WATER BOTTLE|6       |2010-12-01 |3.39     |17850     |United Kingdom|\n",
      "|536375   |84029G   |KNITTED UNION FLAG HOT WATER BOTTLE|6       |2010-12-01 |3.39     |17850     |United Kingdom|\n",
      "|536376   |22114    |HOT WATER BOTTLE TEA AND SYMPATHY  |48      |2010-12-01 |3.45     |15291     |United Kingdom|\n",
      "|536390   |21485    |RETROSPOT HEART HOT WATER BOTTLE   |24      |2010-12-01 |4.25     |17511     |United Kingdom|\n",
      "|536390   |84029G   |KNITTED UNION FLAG HOT WATER BOTTLE|24      |2010-12-01 |3.39     |17511     |United Kingdom|\n",
      "|536390   |84030E   |ENGLISH ROSE HOT WATER BOTTLE      |24      |2010-12-01 |3.75     |17511     |United Kingdom|\n",
      "|C536391  |21484    |CHICK GREY HOT WATER BOTTLE        |-12     |2010-12-01 |3.45     |17548     |United Kingdom|\n",
      "|536394   |21485    |RETROSPOT HEART HOT WATER BOTTLE   |12      |2010-12-01 |4.95     |13408     |United Kingdom|\n",
      "|536395   |21484    |CHICK GREY HOT WATER BOTTLE        |8       |2010-12-01 |3.45     |13767     |United Kingdom|\n",
      "|536395   |22114    |HOT WATER BOTTLE TEA AND SYMPATHY  |8       |2010-12-01 |3.95     |13767     |United Kingdom|\n",
      "|536396   |84029G   |KNITTED UNION FLAG HOT WATER BOTTLE|6       |2010-12-01 |3.39     |17850     |United Kingdom|\n",
      "|536398   |22114    |HOT WATER BOTTLE TEA AND SYMPATHY  |4       |2010-12-01 |3.95     |13448     |United Kingdom|\n",
      "|536398   |22835    |HOT WATER BOTTLE I AM SO POORLY    |8       |2010-12-01 |4.65     |13448     |United Kingdom|\n",
      "|536398   |22112    |CHOCOLATE HOT WATER BOTTLE         |9       |2010-12-01 |4.95     |13448     |United Kingdom|\n",
      "|536398   |21479    |WHITE SKULL HOT WATER BOTTLE       |4       |2010-12-01 |3.75     |13448     |United Kingdom|\n",
      "|536398   |22111    |SCOTTIE DOG HOT WATER BOTTLE       |9       |2010-12-01 |4.95     |13448     |United Kingdom|\n",
      "|536401   |22110    |BIRD HOUSE HOT WATER BOTTLE        |1       |2010-12-01 |2.55     |15862     |United Kingdom|\n",
      "|536401   |84030E   |ENGLISH ROSE HOT WATER BOTTLE      |1       |2010-12-01 |4.25     |15862     |United Kingdom|\n",
      "|536402   |22837    |HOT WATER BOTTLE BABUSHKA          |36      |2010-12-01 |4.25     |15513     |United Kingdom|\n",
      "+---------+---------+-----------------------------------+--------+-----------+---------+----------+--------------+\n",
      "only showing top 20 rows\n",
      "\n"
     ]
    }
   ],
   "source": [
    "df.where(df['Description'].contains(\"WATER\")).show(truncate=False)"
   ]
  },
  {
   "cell_type": "code",
   "execution_count": 20,
   "id": "45c90509-b4f2-41e9-bb79-6a11dfba06fc",
   "metadata": {},
   "outputs": [
    {
     "data": {
      "text/plain": [
       "11374"
      ]
     },
     "execution_count": 20,
     "metadata": {},
     "output_type": "execute_result"
    }
   ],
   "source": [
    "df.where(df['Description'].contains(\"WATER\")).count()"
   ]
  },
  {
   "cell_type": "markdown",
   "id": "614c7f04-b3e8-4b32-a3aa-e696a73f24fd",
   "metadata": {},
   "source": [
    "# 列の作成と削除"
   ]
  },
  {
   "cell_type": "code",
   "execution_count": 21,
   "id": "1788db9b-9369-40e8-8c61-22a36b5f7dee",
   "metadata": {},
   "outputs": [
    {
     "name": "stdout",
     "output_type": "stream",
     "text": [
      "+---------+---------+-----------------------------------+--------+-----------+---------+----------+--------------+---------+\n",
      "|InvoiceNo|StockCode|Description                        |Quantity|InvoiceDate|UnitPrice|CustomerID|Country       |amount   |\n",
      "+---------+---------+-----------------------------------+--------+-----------+---------+----------+--------------+---------+\n",
      "|536365   |85123A   |WHITE HANGING HEART T-LIGHT HOLDER |6       |2010-12-01 |2.55     |17850     |United Kingdom|15.299999|\n",
      "|536365   |71053    |WHITE METAL LANTERN                |6       |2010-12-01 |3.39     |17850     |United Kingdom|20.34    |\n",
      "|536365   |84406B   |CREAM CUPID HEARTS COAT HANGER     |8       |2010-12-01 |2.75     |17850     |United Kingdom|22.0     |\n",
      "|536365   |84029G   |KNITTED UNION FLAG HOT WATER BOTTLE|6       |2010-12-01 |3.39     |17850     |United Kingdom|20.34    |\n",
      "|536365   |84029E   |RED WOOLLY HOTTIE WHITE HEART.     |6       |2010-12-01 |3.39     |17850     |United Kingdom|20.34    |\n",
      "|536365   |22752    |SET 7 BABUSHKA NESTING BOXES       |2       |2010-12-01 |7.65     |17850     |United Kingdom|15.3     |\n",
      "|536365   |21730    |GLASS STAR FROSTED T-LIGHT HOLDER  |6       |2010-12-01 |4.25     |17850     |United Kingdom|25.5     |\n",
      "|536366   |22633    |HAND WARMER UNION JACK             |6       |2010-12-01 |1.85     |17850     |United Kingdom|11.1     |\n",
      "|536366   |22632    |HAND WARMER RED POLKA DOT          |6       |2010-12-01 |1.85     |17850     |United Kingdom|11.1     |\n",
      "|536367   |84879    |ASSORTED COLOUR BIRD ORNAMENT      |32      |2010-12-01 |1.69     |13047     |United Kingdom|54.08    |\n",
      "|536367   |22745    |POPPY'S PLAYHOUSE BEDROOM          |6       |2010-12-01 |2.1      |13047     |United Kingdom|12.599999|\n",
      "|536367   |22748    |POPPY'S PLAYHOUSE KITCHEN          |6       |2010-12-01 |2.1      |13047     |United Kingdom|12.599999|\n",
      "|536367   |22749    |FELTCRAFT PRINCESS CHARLOTTE DOLL  |8       |2010-12-01 |3.75     |13047     |United Kingdom|30.0     |\n",
      "|536367   |22310    |IVORY KNITTED MUG COSY             |6       |2010-12-01 |1.65     |13047     |United Kingdom|9.9      |\n",
      "|536367   |84969    |BOX OF 6 ASSORTED COLOUR TEASPOONS |6       |2010-12-01 |4.25     |13047     |United Kingdom|25.5     |\n",
      "|536367   |22623    |BOX OF VINTAGE JIGSAW BLOCKS       |3       |2010-12-01 |4.95     |13047     |United Kingdom|14.849999|\n",
      "|536367   |22622    |BOX OF VINTAGE ALPHABET BLOCKS     |2       |2010-12-01 |9.95     |13047     |United Kingdom|19.9     |\n",
      "|536367   |21754    |HOME BUILDING BLOCK WORD           |3       |2010-12-01 |5.95     |13047     |United Kingdom|17.849998|\n",
      "|536367   |21755    |LOVE BUILDING BLOCK WORD           |3       |2010-12-01 |5.95     |13047     |United Kingdom|17.849998|\n",
      "|536367   |21777    |RECIPE BOX WITH METAL HEART        |4       |2010-12-01 |7.95     |13047     |United Kingdom|31.8     |\n",
      "+---------+---------+-----------------------------------+--------+-----------+---------+----------+--------------+---------+\n",
      "only showing top 20 rows\n",
      "\n"
     ]
    }
   ],
   "source": [
    "df.withColumn(\"amount\", df[\"Quantity\"] * df[\"UnitPrice\"]).show(truncate=False)"
   ]
  },
  {
   "cell_type": "code",
   "execution_count": 22,
   "id": "df07a014-ce6e-436b-ae6d-a5643757484f",
   "metadata": {},
   "outputs": [],
   "source": [
    "df = df.withColumn(\"amount\", df[\"Quantity\"] * df[\"UnitPrice\"])"
   ]
  },
  {
   "cell_type": "code",
   "execution_count": 23,
   "id": "6c728b5a-e707-472e-aea5-21dfa96356cb",
   "metadata": {},
   "outputs": [
    {
     "name": "stdout",
     "output_type": "stream",
     "text": [
      "+---------+---------+-----------------------------------+--------+-----------+---------+----------+--------------+---------+\n",
      "|InvoiceNo|StockCode|Description                        |Quantity|InvoiceDate|UnitPrice|CustomerID|Country       |amount   |\n",
      "+---------+---------+-----------------------------------+--------+-----------+---------+----------+--------------+---------+\n",
      "|536365   |85123A   |WHITE HANGING HEART T-LIGHT HOLDER |6       |2010-12-01 |2.55     |17850     |United Kingdom|15.299999|\n",
      "|536365   |71053    |WHITE METAL LANTERN                |6       |2010-12-01 |3.39     |17850     |United Kingdom|20.34    |\n",
      "|536365   |84406B   |CREAM CUPID HEARTS COAT HANGER     |8       |2010-12-01 |2.75     |17850     |United Kingdom|22.0     |\n",
      "|536365   |84029G   |KNITTED UNION FLAG HOT WATER BOTTLE|6       |2010-12-01 |3.39     |17850     |United Kingdom|20.34    |\n",
      "|536365   |84029E   |RED WOOLLY HOTTIE WHITE HEART.     |6       |2010-12-01 |3.39     |17850     |United Kingdom|20.34    |\n",
      "|536365   |22752    |SET 7 BABUSHKA NESTING BOXES       |2       |2010-12-01 |7.65     |17850     |United Kingdom|15.3     |\n",
      "|536365   |21730    |GLASS STAR FROSTED T-LIGHT HOLDER  |6       |2010-12-01 |4.25     |17850     |United Kingdom|25.5     |\n",
      "|536366   |22633    |HAND WARMER UNION JACK             |6       |2010-12-01 |1.85     |17850     |United Kingdom|11.1     |\n",
      "|536366   |22632    |HAND WARMER RED POLKA DOT          |6       |2010-12-01 |1.85     |17850     |United Kingdom|11.1     |\n",
      "|536367   |84879    |ASSORTED COLOUR BIRD ORNAMENT      |32      |2010-12-01 |1.69     |13047     |United Kingdom|54.08    |\n",
      "|536367   |22745    |POPPY'S PLAYHOUSE BEDROOM          |6       |2010-12-01 |2.1      |13047     |United Kingdom|12.599999|\n",
      "|536367   |22748    |POPPY'S PLAYHOUSE KITCHEN          |6       |2010-12-01 |2.1      |13047     |United Kingdom|12.599999|\n",
      "|536367   |22749    |FELTCRAFT PRINCESS CHARLOTTE DOLL  |8       |2010-12-01 |3.75     |13047     |United Kingdom|30.0     |\n",
      "|536367   |22310    |IVORY KNITTED MUG COSY             |6       |2010-12-01 |1.65     |13047     |United Kingdom|9.9      |\n",
      "|536367   |84969    |BOX OF 6 ASSORTED COLOUR TEASPOONS |6       |2010-12-01 |4.25     |13047     |United Kingdom|25.5     |\n",
      "|536367   |22623    |BOX OF VINTAGE JIGSAW BLOCKS       |3       |2010-12-01 |4.95     |13047     |United Kingdom|14.849999|\n",
      "|536367   |22622    |BOX OF VINTAGE ALPHABET BLOCKS     |2       |2010-12-01 |9.95     |13047     |United Kingdom|19.9     |\n",
      "|536367   |21754    |HOME BUILDING BLOCK WORD           |3       |2010-12-01 |5.95     |13047     |United Kingdom|17.849998|\n",
      "|536367   |21755    |LOVE BUILDING BLOCK WORD           |3       |2010-12-01 |5.95     |13047     |United Kingdom|17.849998|\n",
      "|536367   |21777    |RECIPE BOX WITH METAL HEART        |4       |2010-12-01 |7.95     |13047     |United Kingdom|31.8     |\n",
      "+---------+---------+-----------------------------------+--------+-----------+---------+----------+--------------+---------+\n",
      "only showing top 20 rows\n",
      "\n"
     ]
    }
   ],
   "source": [
    "df.show(truncate=False)"
   ]
  },
  {
   "cell_type": "code",
   "execution_count": 24,
   "id": "9acfd119-5451-48e1-984e-7ec0b31e3aec",
   "metadata": {},
   "outputs": [
    {
     "name": "stdout",
     "output_type": "stream",
     "text": [
      "+---------+---------+--------------------+--------+-----------+---------+----------+--------------+\n",
      "|InvoiceNo|StockCode|         Description|Quantity|InvoiceDate|UnitPrice|CustomerID|       Country|\n",
      "+---------+---------+--------------------+--------+-----------+---------+----------+--------------+\n",
      "|   536365|   85123A|WHITE HANGING HEA...|       6| 2010-12-01|     2.55|     17850|United Kingdom|\n",
      "|   536365|    71053| WHITE METAL LANTERN|       6| 2010-12-01|     3.39|     17850|United Kingdom|\n",
      "|   536365|   84406B|CREAM CUPID HEART...|       8| 2010-12-01|     2.75|     17850|United Kingdom|\n",
      "|   536365|   84029G|KNITTED UNION FLA...|       6| 2010-12-01|     3.39|     17850|United Kingdom|\n",
      "|   536365|   84029E|RED WOOLLY HOTTIE...|       6| 2010-12-01|     3.39|     17850|United Kingdom|\n",
      "|   536365|    22752|SET 7 BABUSHKA NE...|       2| 2010-12-01|     7.65|     17850|United Kingdom|\n",
      "|   536365|    21730|GLASS STAR FROSTE...|       6| 2010-12-01|     4.25|     17850|United Kingdom|\n",
      "|   536366|    22633|HAND WARMER UNION...|       6| 2010-12-01|     1.85|     17850|United Kingdom|\n",
      "|   536366|    22632|HAND WARMER RED P...|       6| 2010-12-01|     1.85|     17850|United Kingdom|\n",
      "|   536367|    84879|ASSORTED COLOUR B...|      32| 2010-12-01|     1.69|     13047|United Kingdom|\n",
      "|   536367|    22745|POPPY'S PLAYHOUSE...|       6| 2010-12-01|      2.1|     13047|United Kingdom|\n",
      "|   536367|    22748|POPPY'S PLAYHOUSE...|       6| 2010-12-01|      2.1|     13047|United Kingdom|\n",
      "|   536367|    22749|FELTCRAFT PRINCES...|       8| 2010-12-01|     3.75|     13047|United Kingdom|\n",
      "|   536367|    22310|IVORY KNITTED MUG...|       6| 2010-12-01|     1.65|     13047|United Kingdom|\n",
      "|   536367|    84969|BOX OF 6 ASSORTED...|       6| 2010-12-01|     4.25|     13047|United Kingdom|\n",
      "|   536367|    22623|BOX OF VINTAGE JI...|       3| 2010-12-01|     4.95|     13047|United Kingdom|\n",
      "|   536367|    22622|BOX OF VINTAGE AL...|       2| 2010-12-01|     9.95|     13047|United Kingdom|\n",
      "|   536367|    21754|HOME BUILDING BLO...|       3| 2010-12-01|     5.95|     13047|United Kingdom|\n",
      "|   536367|    21755|LOVE BUILDING BLO...|       3| 2010-12-01|     5.95|     13047|United Kingdom|\n",
      "|   536367|    21777|RECIPE BOX WITH M...|       4| 2010-12-01|     7.95|     13047|United Kingdom|\n",
      "+---------+---------+--------------------+--------+-----------+---------+----------+--------------+\n",
      "only showing top 20 rows\n",
      "\n"
     ]
    }
   ],
   "source": [
    "df.drop(\"amount\").show()"
   ]
  },
  {
   "cell_type": "code",
   "execution_count": 25,
   "id": "d6c1bc60-b4ff-4c1a-9107-97c6ca174807",
   "metadata": {},
   "outputs": [
    {
     "name": "stdout",
     "output_type": "stream",
     "text": [
      "+---------+---------+-----------------------------------+--------+-----------+---------+----------+--------------+\n",
      "|InvoiceNo|StockCode|Description                        |Quantity|InvoiceDate|UnitPrice|CustomerID|Country       |\n",
      "+---------+---------+-----------------------------------+--------+-----------+---------+----------+--------------+\n",
      "|536365   |85123A   |WHITE HANGING HEART T-LIGHT HOLDER |6       |2010-12-01 |2.55     |17850     |United Kingdom|\n",
      "|536365   |71053    |WHITE METAL LANTERN                |6       |2010-12-01 |3.39     |17850     |United Kingdom|\n",
      "|536365   |84406B   |CREAM CUPID HEARTS COAT HANGER     |8       |2010-12-01 |2.75     |17850     |United Kingdom|\n",
      "|536365   |84029G   |KNITTED UNION FLAG HOT WATER BOTTLE|6       |2010-12-01 |3.39     |17850     |United Kingdom|\n",
      "|536365   |84029E   |RED WOOLLY HOTTIE WHITE HEART.     |6       |2010-12-01 |3.39     |17850     |United Kingdom|\n",
      "|536365   |22752    |SET 7 BABUSHKA NESTING BOXES       |2       |2010-12-01 |7.65     |17850     |United Kingdom|\n",
      "|536365   |21730    |GLASS STAR FROSTED T-LIGHT HOLDER  |6       |2010-12-01 |4.25     |17850     |United Kingdom|\n",
      "|536366   |22633    |HAND WARMER UNION JACK             |6       |2010-12-01 |1.85     |17850     |United Kingdom|\n",
      "|536366   |22632    |HAND WARMER RED POLKA DOT          |6       |2010-12-01 |1.85     |17850     |United Kingdom|\n",
      "|536367   |84879    |ASSORTED COLOUR BIRD ORNAMENT      |32      |2010-12-01 |1.69     |13047     |United Kingdom|\n",
      "|536367   |22745    |POPPY'S PLAYHOUSE BEDROOM          |6       |2010-12-01 |2.1      |13047     |United Kingdom|\n",
      "|536367   |22748    |POPPY'S PLAYHOUSE KITCHEN          |6       |2010-12-01 |2.1      |13047     |United Kingdom|\n",
      "|536367   |22749    |FELTCRAFT PRINCESS CHARLOTTE DOLL  |8       |2010-12-01 |3.75     |13047     |United Kingdom|\n",
      "|536367   |22310    |IVORY KNITTED MUG COSY             |6       |2010-12-01 |1.65     |13047     |United Kingdom|\n",
      "|536367   |84969    |BOX OF 6 ASSORTED COLOUR TEASPOONS |6       |2010-12-01 |4.25     |13047     |United Kingdom|\n",
      "|536367   |22623    |BOX OF VINTAGE JIGSAW BLOCKS       |3       |2010-12-01 |4.95     |13047     |United Kingdom|\n",
      "|536367   |22622    |BOX OF VINTAGE ALPHABET BLOCKS     |2       |2010-12-01 |9.95     |13047     |United Kingdom|\n",
      "|536367   |21754    |HOME BUILDING BLOCK WORD           |3       |2010-12-01 |5.95     |13047     |United Kingdom|\n",
      "|536367   |21755    |LOVE BUILDING BLOCK WORD           |3       |2010-12-01 |5.95     |13047     |United Kingdom|\n",
      "|536367   |21777    |RECIPE BOX WITH METAL HEART        |4       |2010-12-01 |7.95     |13047     |United Kingdom|\n",
      "+---------+---------+-----------------------------------+--------+-----------+---------+----------+--------------+\n",
      "only showing top 20 rows\n",
      "\n"
     ]
    }
   ],
   "source": [
    "df = df.drop(\"amount\")\n",
    "df.show(truncate=False)"
   ]
  },
  {
   "cell_type": "code",
   "execution_count": 26,
   "id": "a0424da9-f3a5-454e-bb12-e19566a9d9f1",
   "metadata": {},
   "outputs": [
    {
     "name": "stdout",
     "output_type": "stream",
     "text": [
      "+--------------------+--------+-----------+---------+----------+--------------+\n",
      "|         Description|Quantity|InvoiceDate|UnitPrice|CustomerID|       Country|\n",
      "+--------------------+--------+-----------+---------+----------+--------------+\n",
      "|WHITE HANGING HEA...|       6| 2010-12-01|     2.55|     17850|United Kingdom|\n",
      "| WHITE METAL LANTERN|       6| 2010-12-01|     3.39|     17850|United Kingdom|\n",
      "|CREAM CUPID HEART...|       8| 2010-12-01|     2.75|     17850|United Kingdom|\n",
      "|KNITTED UNION FLA...|       6| 2010-12-01|     3.39|     17850|United Kingdom|\n",
      "|RED WOOLLY HOTTIE...|       6| 2010-12-01|     3.39|     17850|United Kingdom|\n",
      "|SET 7 BABUSHKA NE...|       2| 2010-12-01|     7.65|     17850|United Kingdom|\n",
      "|GLASS STAR FROSTE...|       6| 2010-12-01|     4.25|     17850|United Kingdom|\n",
      "|HAND WARMER UNION...|       6| 2010-12-01|     1.85|     17850|United Kingdom|\n",
      "|HAND WARMER RED P...|       6| 2010-12-01|     1.85|     17850|United Kingdom|\n",
      "|ASSORTED COLOUR B...|      32| 2010-12-01|     1.69|     13047|United Kingdom|\n",
      "|POPPY'S PLAYHOUSE...|       6| 2010-12-01|      2.1|     13047|United Kingdom|\n",
      "|POPPY'S PLAYHOUSE...|       6| 2010-12-01|      2.1|     13047|United Kingdom|\n",
      "|FELTCRAFT PRINCES...|       8| 2010-12-01|     3.75|     13047|United Kingdom|\n",
      "|IVORY KNITTED MUG...|       6| 2010-12-01|     1.65|     13047|United Kingdom|\n",
      "|BOX OF 6 ASSORTED...|       6| 2010-12-01|     4.25|     13047|United Kingdom|\n",
      "|BOX OF VINTAGE JI...|       3| 2010-12-01|     4.95|     13047|United Kingdom|\n",
      "|BOX OF VINTAGE AL...|       2| 2010-12-01|     9.95|     13047|United Kingdom|\n",
      "|HOME BUILDING BLO...|       3| 2010-12-01|     5.95|     13047|United Kingdom|\n",
      "|LOVE BUILDING BLO...|       3| 2010-12-01|     5.95|     13047|United Kingdom|\n",
      "|RECIPE BOX WITH M...|       4| 2010-12-01|     7.95|     13047|United Kingdom|\n",
      "+--------------------+--------+-----------+---------+----------+--------------+\n",
      "only showing top 20 rows\n",
      "\n"
     ]
    }
   ],
   "source": [
    "df.drop(\"InvoiceNo\", \"StockCode\").show()"
   ]
  },
  {
   "cell_type": "markdown",
   "id": "613f5913-653a-449e-8423-259a9e2ab09f",
   "metadata": {},
   "source": [
    "# 列名の変更"
   ]
  },
  {
   "cell_type": "code",
   "execution_count": 27,
   "id": "c5618a6b-111d-45b5-8c9e-2bd9e4153d88",
   "metadata": {},
   "outputs": [
    {
     "name": "stdout",
     "output_type": "stream",
     "text": [
      "+---------+---------+--------------------+--------+-----------+---------+----------+--------------+\n",
      "|InvoiceNo|StockCode|         Description|Quantity|InvoiceDate|UnitPrice|CustomerID|   CountryName|\n",
      "+---------+---------+--------------------+--------+-----------+---------+----------+--------------+\n",
      "|   536365|   85123A|WHITE HANGING HEA...|       6| 2010-12-01|     2.55|     17850|United Kingdom|\n",
      "|   536365|    71053| WHITE METAL LANTERN|       6| 2010-12-01|     3.39|     17850|United Kingdom|\n",
      "|   536365|   84406B|CREAM CUPID HEART...|       8| 2010-12-01|     2.75|     17850|United Kingdom|\n",
      "|   536365|   84029G|KNITTED UNION FLA...|       6| 2010-12-01|     3.39|     17850|United Kingdom|\n",
      "|   536365|   84029E|RED WOOLLY HOTTIE...|       6| 2010-12-01|     3.39|     17850|United Kingdom|\n",
      "|   536365|    22752|SET 7 BABUSHKA NE...|       2| 2010-12-01|     7.65|     17850|United Kingdom|\n",
      "|   536365|    21730|GLASS STAR FROSTE...|       6| 2010-12-01|     4.25|     17850|United Kingdom|\n",
      "|   536366|    22633|HAND WARMER UNION...|       6| 2010-12-01|     1.85|     17850|United Kingdom|\n",
      "|   536366|    22632|HAND WARMER RED P...|       6| 2010-12-01|     1.85|     17850|United Kingdom|\n",
      "|   536367|    84879|ASSORTED COLOUR B...|      32| 2010-12-01|     1.69|     13047|United Kingdom|\n",
      "|   536367|    22745|POPPY'S PLAYHOUSE...|       6| 2010-12-01|      2.1|     13047|United Kingdom|\n",
      "|   536367|    22748|POPPY'S PLAYHOUSE...|       6| 2010-12-01|      2.1|     13047|United Kingdom|\n",
      "|   536367|    22749|FELTCRAFT PRINCES...|       8| 2010-12-01|     3.75|     13047|United Kingdom|\n",
      "|   536367|    22310|IVORY KNITTED MUG...|       6| 2010-12-01|     1.65|     13047|United Kingdom|\n",
      "|   536367|    84969|BOX OF 6 ASSORTED...|       6| 2010-12-01|     4.25|     13047|United Kingdom|\n",
      "|   536367|    22623|BOX OF VINTAGE JI...|       3| 2010-12-01|     4.95|     13047|United Kingdom|\n",
      "|   536367|    22622|BOX OF VINTAGE AL...|       2| 2010-12-01|     9.95|     13047|United Kingdom|\n",
      "|   536367|    21754|HOME BUILDING BLO...|       3| 2010-12-01|     5.95|     13047|United Kingdom|\n",
      "|   536367|    21755|LOVE BUILDING BLO...|       3| 2010-12-01|     5.95|     13047|United Kingdom|\n",
      "|   536367|    21777|RECIPE BOX WITH M...|       4| 2010-12-01|     7.95|     13047|United Kingdom|\n",
      "+---------+---------+--------------------+--------+-----------+---------+----------+--------------+\n",
      "only showing top 20 rows\n",
      "\n"
     ]
    }
   ],
   "source": [
    "df.withColumnRenamed(\"Country\", \"CountryName\").show()"
   ]
  },
  {
   "cell_type": "code",
   "execution_count": 28,
   "id": "09beb28c-0c59-432e-a53d-49134945ff60",
   "metadata": {},
   "outputs": [
    {
     "data": {
      "text/plain": [
       "['InvoiceNo',\n",
       " 'StockCode',\n",
       " 'Description',\n",
       " 'Quantity',\n",
       " 'InvoiceDate',\n",
       " 'UnitPrice',\n",
       " 'CustomerID',\n",
       " 'CountryName']"
      ]
     },
     "execution_count": 28,
     "metadata": {},
     "output_type": "execute_result"
    }
   ],
   "source": [
    "df.withColumnRenamed(\"Country\", \"CountryName\").columns"
   ]
  },
  {
   "cell_type": "markdown",
   "id": "e0df783f-6c5f-46e2-a1fb-c225418ec571",
   "metadata": {},
   "source": [
    "# キャスト (型変換)"
   ]
  },
  {
   "cell_type": "code",
   "execution_count": 29,
   "id": "9812a895-3715-4dfa-8035-88ae9715f978",
   "metadata": {},
   "outputs": [],
   "source": [
    "df = df.withColumn(\"Quantity\", df[\"Quantity\"].cast(\"int\"))"
   ]
  },
  {
   "cell_type": "code",
   "execution_count": 30,
   "id": "30e1f8bd-2732-45a9-b368-f0621f35ce64",
   "metadata": {},
   "outputs": [
    {
     "name": "stdout",
     "output_type": "stream",
     "text": [
      "+---------+---------+--------------------+--------+-----------+---------+----------+--------------+\n",
      "|InvoiceNo|StockCode|         Description|Quantity|InvoiceDate|UnitPrice|CustomerID|       Country|\n",
      "+---------+---------+--------------------+--------+-----------+---------+----------+--------------+\n",
      "|   536365|   85123A|WHITE HANGING HEA...|       6| 2010-12-01|     2.55|     17850|United Kingdom|\n",
      "|   536365|    71053| WHITE METAL LANTERN|       6| 2010-12-01|     3.39|     17850|United Kingdom|\n",
      "|   536365|   84406B|CREAM CUPID HEART...|       8| 2010-12-01|     2.75|     17850|United Kingdom|\n",
      "|   536365|   84029G|KNITTED UNION FLA...|       6| 2010-12-01|     3.39|     17850|United Kingdom|\n",
      "|   536365|   84029E|RED WOOLLY HOTTIE...|       6| 2010-12-01|     3.39|     17850|United Kingdom|\n",
      "|   536365|    22752|SET 7 BABUSHKA NE...|       2| 2010-12-01|     7.65|     17850|United Kingdom|\n",
      "|   536365|    21730|GLASS STAR FROSTE...|       6| 2010-12-01|     4.25|     17850|United Kingdom|\n",
      "|   536366|    22633|HAND WARMER UNION...|       6| 2010-12-01|     1.85|     17850|United Kingdom|\n",
      "|   536366|    22632|HAND WARMER RED P...|       6| 2010-12-01|     1.85|     17850|United Kingdom|\n",
      "|   536367|    84879|ASSORTED COLOUR B...|      32| 2010-12-01|     1.69|     13047|United Kingdom|\n",
      "|   536367|    22745|POPPY'S PLAYHOUSE...|       6| 2010-12-01|      2.1|     13047|United Kingdom|\n",
      "|   536367|    22748|POPPY'S PLAYHOUSE...|       6| 2010-12-01|      2.1|     13047|United Kingdom|\n",
      "|   536367|    22749|FELTCRAFT PRINCES...|       8| 2010-12-01|     3.75|     13047|United Kingdom|\n",
      "|   536367|    22310|IVORY KNITTED MUG...|       6| 2010-12-01|     1.65|     13047|United Kingdom|\n",
      "|   536367|    84969|BOX OF 6 ASSORTED...|       6| 2010-12-01|     4.25|     13047|United Kingdom|\n",
      "|   536367|    22623|BOX OF VINTAGE JI...|       3| 2010-12-01|     4.95|     13047|United Kingdom|\n",
      "|   536367|    22622|BOX OF VINTAGE AL...|       2| 2010-12-01|     9.95|     13047|United Kingdom|\n",
      "|   536367|    21754|HOME BUILDING BLO...|       3| 2010-12-01|     5.95|     13047|United Kingdom|\n",
      "|   536367|    21755|LOVE BUILDING BLO...|       3| 2010-12-01|     5.95|     13047|United Kingdom|\n",
      "|   536367|    21777|RECIPE BOX WITH M...|       4| 2010-12-01|     7.95|     13047|United Kingdom|\n",
      "+---------+---------+--------------------+--------+-----------+---------+----------+--------------+\n",
      "only showing top 20 rows\n",
      "\n"
     ]
    }
   ],
   "source": [
    "df.show()"
   ]
  },
  {
   "cell_type": "code",
   "execution_count": 31,
   "id": "1c599585-5d1b-4511-87c9-219d019388de",
   "metadata": {},
   "outputs": [
    {
     "data": {
      "text/plain": [
       "[('InvoiceNo', 'string'),\n",
       " ('StockCode', 'string'),\n",
       " ('Description', 'string'),\n",
       " ('Quantity', 'int'),\n",
       " ('InvoiceDate', 'date'),\n",
       " ('UnitPrice', 'float'),\n",
       " ('CustomerID', 'int'),\n",
       " ('Country', 'string')]"
      ]
     },
     "execution_count": 31,
     "metadata": {},
     "output_type": "execute_result"
    }
   ],
   "source": [
    "df.dtypes"
   ]
  },
  {
   "cell_type": "markdown",
   "id": "72789b2e-515a-4e88-a507-f83964084b54",
   "metadata": {},
   "source": [
    "# 日付の処理"
   ]
  },
  {
   "cell_type": "code",
   "execution_count": 32,
   "id": "5928eaa3-0661-4e6d-bfdf-41c04b62deb0",
   "metadata": {},
   "outputs": [],
   "source": [
    "from pyspark.sql.functions import year, month, dayofmonth"
   ]
  },
  {
   "cell_type": "code",
   "execution_count": 33,
   "id": "6b11774e-3423-4440-8b04-faf109a11721",
   "metadata": {},
   "outputs": [
    {
     "name": "stdout",
     "output_type": "stream",
     "text": [
      "+---------+---------+--------------------+--------+-----------+---------+----------+--------------+--------------+\n",
      "|InvoiceNo|StockCode|         Description|Quantity|InvoiceDate|UnitPrice|CustomerID|       Country|purchased_year|\n",
      "+---------+---------+--------------------+--------+-----------+---------+----------+--------------+--------------+\n",
      "|   536365|   85123A|WHITE HANGING HEA...|       6| 2010-12-01|     2.55|     17850|United Kingdom|          2010|\n",
      "|   536365|    71053| WHITE METAL LANTERN|       6| 2010-12-01|     3.39|     17850|United Kingdom|          2010|\n",
      "|   536365|   84406B|CREAM CUPID HEART...|       8| 2010-12-01|     2.75|     17850|United Kingdom|          2010|\n",
      "|   536365|   84029G|KNITTED UNION FLA...|       6| 2010-12-01|     3.39|     17850|United Kingdom|          2010|\n",
      "|   536365|   84029E|RED WOOLLY HOTTIE...|       6| 2010-12-01|     3.39|     17850|United Kingdom|          2010|\n",
      "|   536365|    22752|SET 7 BABUSHKA NE...|       2| 2010-12-01|     7.65|     17850|United Kingdom|          2010|\n",
      "|   536365|    21730|GLASS STAR FROSTE...|       6| 2010-12-01|     4.25|     17850|United Kingdom|          2010|\n",
      "|   536366|    22633|HAND WARMER UNION...|       6| 2010-12-01|     1.85|     17850|United Kingdom|          2010|\n",
      "|   536366|    22632|HAND WARMER RED P...|       6| 2010-12-01|     1.85|     17850|United Kingdom|          2010|\n",
      "|   536367|    84879|ASSORTED COLOUR B...|      32| 2010-12-01|     1.69|     13047|United Kingdom|          2010|\n",
      "|   536367|    22745|POPPY'S PLAYHOUSE...|       6| 2010-12-01|      2.1|     13047|United Kingdom|          2010|\n",
      "|   536367|    22748|POPPY'S PLAYHOUSE...|       6| 2010-12-01|      2.1|     13047|United Kingdom|          2010|\n",
      "|   536367|    22749|FELTCRAFT PRINCES...|       8| 2010-12-01|     3.75|     13047|United Kingdom|          2010|\n",
      "|   536367|    22310|IVORY KNITTED MUG...|       6| 2010-12-01|     1.65|     13047|United Kingdom|          2010|\n",
      "|   536367|    84969|BOX OF 6 ASSORTED...|       6| 2010-12-01|     4.25|     13047|United Kingdom|          2010|\n",
      "|   536367|    22623|BOX OF VINTAGE JI...|       3| 2010-12-01|     4.95|     13047|United Kingdom|          2010|\n",
      "|   536367|    22622|BOX OF VINTAGE AL...|       2| 2010-12-01|     9.95|     13047|United Kingdom|          2010|\n",
      "|   536367|    21754|HOME BUILDING BLO...|       3| 2010-12-01|     5.95|     13047|United Kingdom|          2010|\n",
      "|   536367|    21755|LOVE BUILDING BLO...|       3| 2010-12-01|     5.95|     13047|United Kingdom|          2010|\n",
      "|   536367|    21777|RECIPE BOX WITH M...|       4| 2010-12-01|     7.95|     13047|United Kingdom|          2010|\n",
      "+---------+---------+--------------------+--------+-----------+---------+----------+--------------+--------------+\n",
      "only showing top 20 rows\n",
      "\n"
     ]
    }
   ],
   "source": [
    "df_tmp = df.withColumn(\"purchased_year\", year(\"InvoiceDate\"))\n",
    "df_tmp.show()"
   ]
  },
  {
   "cell_type": "code",
   "execution_count": 34,
   "id": "77b0c1a5-137e-4353-b833-3c25ca5567c6",
   "metadata": {},
   "outputs": [
    {
     "name": "stdout",
     "output_type": "stream",
     "text": [
      "+---------+---------+--------------------+--------+-----------+---------+----------+--------------+--------------+---------------+\n",
      "|InvoiceNo|StockCode|         Description|Quantity|InvoiceDate|UnitPrice|CustomerID|       Country|purchased_year|purchased_month|\n",
      "+---------+---------+--------------------+--------+-----------+---------+----------+--------------+--------------+---------------+\n",
      "|   536365|   85123A|WHITE HANGING HEA...|       6| 2010-12-01|     2.55|     17850|United Kingdom|          2010|             12|\n",
      "|   536365|    71053| WHITE METAL LANTERN|       6| 2010-12-01|     3.39|     17850|United Kingdom|          2010|             12|\n",
      "|   536365|   84406B|CREAM CUPID HEART...|       8| 2010-12-01|     2.75|     17850|United Kingdom|          2010|             12|\n",
      "|   536365|   84029G|KNITTED UNION FLA...|       6| 2010-12-01|     3.39|     17850|United Kingdom|          2010|             12|\n",
      "|   536365|   84029E|RED WOOLLY HOTTIE...|       6| 2010-12-01|     3.39|     17850|United Kingdom|          2010|             12|\n",
      "|   536365|    22752|SET 7 BABUSHKA NE...|       2| 2010-12-01|     7.65|     17850|United Kingdom|          2010|             12|\n",
      "|   536365|    21730|GLASS STAR FROSTE...|       6| 2010-12-01|     4.25|     17850|United Kingdom|          2010|             12|\n",
      "|   536366|    22633|HAND WARMER UNION...|       6| 2010-12-01|     1.85|     17850|United Kingdom|          2010|             12|\n",
      "|   536366|    22632|HAND WARMER RED P...|       6| 2010-12-01|     1.85|     17850|United Kingdom|          2010|             12|\n",
      "|   536367|    84879|ASSORTED COLOUR B...|      32| 2010-12-01|     1.69|     13047|United Kingdom|          2010|             12|\n",
      "|   536367|    22745|POPPY'S PLAYHOUSE...|       6| 2010-12-01|      2.1|     13047|United Kingdom|          2010|             12|\n",
      "|   536367|    22748|POPPY'S PLAYHOUSE...|       6| 2010-12-01|      2.1|     13047|United Kingdom|          2010|             12|\n",
      "|   536367|    22749|FELTCRAFT PRINCES...|       8| 2010-12-01|     3.75|     13047|United Kingdom|          2010|             12|\n",
      "|   536367|    22310|IVORY KNITTED MUG...|       6| 2010-12-01|     1.65|     13047|United Kingdom|          2010|             12|\n",
      "|   536367|    84969|BOX OF 6 ASSORTED...|       6| 2010-12-01|     4.25|     13047|United Kingdom|          2010|             12|\n",
      "|   536367|    22623|BOX OF VINTAGE JI...|       3| 2010-12-01|     4.95|     13047|United Kingdom|          2010|             12|\n",
      "|   536367|    22622|BOX OF VINTAGE AL...|       2| 2010-12-01|     9.95|     13047|United Kingdom|          2010|             12|\n",
      "|   536367|    21754|HOME BUILDING BLO...|       3| 2010-12-01|     5.95|     13047|United Kingdom|          2010|             12|\n",
      "|   536367|    21755|LOVE BUILDING BLO...|       3| 2010-12-01|     5.95|     13047|United Kingdom|          2010|             12|\n",
      "|   536367|    21777|RECIPE BOX WITH M...|       4| 2010-12-01|     7.95|     13047|United Kingdom|          2010|             12|\n",
      "+---------+---------+--------------------+--------+-----------+---------+----------+--------------+--------------+---------------+\n",
      "only showing top 20 rows\n",
      "\n"
     ]
    }
   ],
   "source": [
    "df_tmp = df_tmp.withColumn(\"purchased_month\", month(\"InvoiceDate\"))\n",
    "df_tmp.show()"
   ]
  },
  {
   "cell_type": "code",
   "execution_count": 35,
   "id": "ce40f1b9-e17f-4224-ba0e-9f681c3e0e83",
   "metadata": {},
   "outputs": [
    {
     "name": "stdout",
     "output_type": "stream",
     "text": [
      "+---------+---------+--------------------+--------+-----------+---------+----------+--------------+--------------+---------------+-------------+\n",
      "|InvoiceNo|StockCode|         Description|Quantity|InvoiceDate|UnitPrice|CustomerID|       Country|purchased_year|purchased_month|purchased_day|\n",
      "+---------+---------+--------------------+--------+-----------+---------+----------+--------------+--------------+---------------+-------------+\n",
      "|   536365|   85123A|WHITE HANGING HEA...|       6| 2010-12-01|     2.55|     17850|United Kingdom|          2010|             12|            1|\n",
      "|   536365|    71053| WHITE METAL LANTERN|       6| 2010-12-01|     3.39|     17850|United Kingdom|          2010|             12|            1|\n",
      "|   536365|   84406B|CREAM CUPID HEART...|       8| 2010-12-01|     2.75|     17850|United Kingdom|          2010|             12|            1|\n",
      "|   536365|   84029G|KNITTED UNION FLA...|       6| 2010-12-01|     3.39|     17850|United Kingdom|          2010|             12|            1|\n",
      "|   536365|   84029E|RED WOOLLY HOTTIE...|       6| 2010-12-01|     3.39|     17850|United Kingdom|          2010|             12|            1|\n",
      "|   536365|    22752|SET 7 BABUSHKA NE...|       2| 2010-12-01|     7.65|     17850|United Kingdom|          2010|             12|            1|\n",
      "|   536365|    21730|GLASS STAR FROSTE...|       6| 2010-12-01|     4.25|     17850|United Kingdom|          2010|             12|            1|\n",
      "|   536366|    22633|HAND WARMER UNION...|       6| 2010-12-01|     1.85|     17850|United Kingdom|          2010|             12|            1|\n",
      "|   536366|    22632|HAND WARMER RED P...|       6| 2010-12-01|     1.85|     17850|United Kingdom|          2010|             12|            1|\n",
      "|   536367|    84879|ASSORTED COLOUR B...|      32| 2010-12-01|     1.69|     13047|United Kingdom|          2010|             12|            1|\n",
      "|   536367|    22745|POPPY'S PLAYHOUSE...|       6| 2010-12-01|      2.1|     13047|United Kingdom|          2010|             12|            1|\n",
      "|   536367|    22748|POPPY'S PLAYHOUSE...|       6| 2010-12-01|      2.1|     13047|United Kingdom|          2010|             12|            1|\n",
      "|   536367|    22749|FELTCRAFT PRINCES...|       8| 2010-12-01|     3.75|     13047|United Kingdom|          2010|             12|            1|\n",
      "|   536367|    22310|IVORY KNITTED MUG...|       6| 2010-12-01|     1.65|     13047|United Kingdom|          2010|             12|            1|\n",
      "|   536367|    84969|BOX OF 6 ASSORTED...|       6| 2010-12-01|     4.25|     13047|United Kingdom|          2010|             12|            1|\n",
      "|   536367|    22623|BOX OF VINTAGE JI...|       3| 2010-12-01|     4.95|     13047|United Kingdom|          2010|             12|            1|\n",
      "|   536367|    22622|BOX OF VINTAGE AL...|       2| 2010-12-01|     9.95|     13047|United Kingdom|          2010|             12|            1|\n",
      "|   536367|    21754|HOME BUILDING BLO...|       3| 2010-12-01|     5.95|     13047|United Kingdom|          2010|             12|            1|\n",
      "|   536367|    21755|LOVE BUILDING BLO...|       3| 2010-12-01|     5.95|     13047|United Kingdom|          2010|             12|            1|\n",
      "|   536367|    21777|RECIPE BOX WITH M...|       4| 2010-12-01|     7.95|     13047|United Kingdom|          2010|             12|            1|\n",
      "+---------+---------+--------------------+--------+-----------+---------+----------+--------------+--------------+---------------+-------------+\n",
      "only showing top 20 rows\n",
      "\n"
     ]
    }
   ],
   "source": [
    "df_tmp = df_tmp.withColumn(\"purchased_day\", dayofmonth(\"InvoiceDate\"))\n",
    "df_tmp.show()"
   ]
  },
  {
   "cell_type": "markdown",
   "id": "aa075b42-96fb-493d-b555-6ed20012ffeb",
   "metadata": {},
   "source": [
    "# 欠損値処理"
   ]
  },
  {
   "cell_type": "code",
   "execution_count": 36,
   "id": "7a703c51-45c8-4754-9f9b-62a3660c5773",
   "metadata": {},
   "outputs": [
    {
     "data": {
      "text/plain": [
       "[('InvoiceNo', 'string'),\n",
       " ('StockCode', 'string'),\n",
       " ('Description', 'string'),\n",
       " ('Quantity', 'int'),\n",
       " ('InvoiceDate', 'date'),\n",
       " ('UnitPrice', 'float'),\n",
       " ('CustomerID', 'int'),\n",
       " ('Country', 'string')]"
      ]
     },
     "execution_count": 36,
     "metadata": {},
     "output_type": "execute_result"
    }
   ],
   "source": [
    "df.dtypes"
   ]
  },
  {
   "cell_type": "code",
   "execution_count": 37,
   "id": "e00fcd6a-a45c-462a-ade5-696a2d1fe726",
   "metadata": {},
   "outputs": [
    {
     "data": {
      "text/plain": [
       "Column<'(Description IS NULL)'>"
      ]
     },
     "execution_count": 37,
     "metadata": {},
     "output_type": "execute_result"
    }
   ],
   "source": [
    "df[\"Description\"].isNull()"
   ]
  },
  {
   "cell_type": "code",
   "execution_count": 38,
   "id": "aa530b8f-5309-4a52-9d47-152db255ce77",
   "metadata": {},
   "outputs": [
    {
     "name": "stdout",
     "output_type": "stream",
     "text": [
      "+---------+---------+-----------+--------+-----------+---------+----------+--------------+\n",
      "|InvoiceNo|StockCode|Description|Quantity|InvoiceDate|UnitPrice|CustomerID|       Country|\n",
      "+---------+---------+-----------+--------+-----------+---------+----------+--------------+\n",
      "|   536414|    22139|       NULL|      56| 2010-12-01|      0.0|      NULL|United Kingdom|\n",
      "|   536545|    21134|       NULL|       1| 2010-12-01|      0.0|      NULL|United Kingdom|\n",
      "|   536546|    22145|       NULL|       1| 2010-12-01|      0.0|      NULL|United Kingdom|\n",
      "|   536547|    37509|       NULL|       1| 2010-12-01|      0.0|      NULL|United Kingdom|\n",
      "|   536549|   85226A|       NULL|       1| 2010-12-01|      0.0|      NULL|United Kingdom|\n",
      "|   536550|    85044|       NULL|       1| 2010-12-01|      0.0|      NULL|United Kingdom|\n",
      "|   536552|    20950|       NULL|       1| 2010-12-01|      0.0|      NULL|United Kingdom|\n",
      "|   536553|    37461|       NULL|       3| 2010-12-01|      0.0|      NULL|United Kingdom|\n",
      "|   536554|    84670|       NULL|      23| 2010-12-01|      0.0|      NULL|United Kingdom|\n",
      "|   536589|    21777|       NULL|     -10| 2010-12-01|      0.0|      NULL|United Kingdom|\n",
      "|   536764|   84952C|       NULL|     -38| 2010-12-02|      0.0|      NULL|United Kingdom|\n",
      "|   536765|   84952C|       NULL|      19| 2010-12-02|      0.0|      NULL|United Kingdom|\n",
      "|   536995|    35951|       NULL|      57| 2010-12-03|      0.0|      NULL|United Kingdom|\n",
      "|   536996|    22712|       NULL|     -20| 2010-12-03|      0.0|      NULL|United Kingdom|\n",
      "|   536997|    22028|       NULL|     -20| 2010-12-03|      0.0|      NULL|United Kingdom|\n",
      "|   536998|    85067|       NULL|      -6| 2010-12-03|      0.0|      NULL|United Kingdom|\n",
      "|   536999|    21421|       NULL|     110| 2010-12-03|      0.0|      NULL|United Kingdom|\n",
      "|   537000|    21414|       NULL|     -22| 2010-12-03|      0.0|      NULL|United Kingdom|\n",
      "|   537001|    21653|       NULL|      -6| 2010-12-03|      0.0|      NULL|United Kingdom|\n",
      "|   537002|    21651|       NULL|      70| 2010-12-03|      0.0|      NULL|United Kingdom|\n",
      "+---------+---------+-----------+--------+-----------+---------+----------+--------------+\n",
      "only showing top 20 rows\n",
      "\n"
     ]
    }
   ],
   "source": [
    "df[df[\"Description\"].isNull()].show()"
   ]
  },
  {
   "cell_type": "code",
   "execution_count": 39,
   "id": "f2e5188b-03b2-459b-8e18-8e396f4ea032",
   "metadata": {},
   "outputs": [
    {
     "data": {
      "text/plain": [
       "1454"
      ]
     },
     "execution_count": 39,
     "metadata": {},
     "output_type": "execute_result"
    }
   ],
   "source": [
    "df[df[\"Description\"].isNull()].count()"
   ]
  },
  {
   "cell_type": "code",
   "execution_count": 40,
   "id": "0a55e66c-0ed9-49b0-9e14-98368c69ad10",
   "metadata": {},
   "outputs": [],
   "source": [
    "# nan check -> isnan\n",
    "from pyspark.sql.functions import isnan"
   ]
  },
  {
   "cell_type": "code",
   "execution_count": 41,
   "id": "953380f7-c480-4ccc-8b48-fbc6bcfb97a2",
   "metadata": {},
   "outputs": [
    {
     "data": {
      "text/plain": [
       "DataFrame[InvoiceNo: string, StockCode: string, Description: string, Quantity: int, InvoiceDate: date, UnitPrice: float, CustomerID: int, Country: string]"
      ]
     },
     "execution_count": 41,
     "metadata": {},
     "output_type": "execute_result"
    }
   ],
   "source": [
    "df[isnan(df[\"Description\"])]"
   ]
  },
  {
   "cell_type": "code",
   "execution_count": 42,
   "id": "e7ace745-fc97-40fa-a617-9ea3016c30aa",
   "metadata": {},
   "outputs": [
    {
     "data": {
      "text/plain": [
       "0"
      ]
     },
     "execution_count": 42,
     "metadata": {},
     "output_type": "execute_result"
    }
   ],
   "source": [
    "df[isnan(df[\"Description\"])].count()"
   ]
  },
  {
   "cell_type": "code",
   "execution_count": 43,
   "id": "16399924-3682-4b41-89b9-c2988bc473dc",
   "metadata": {},
   "outputs": [
    {
     "name": "stdout",
     "output_type": "stream",
     "text": [
      "+---------+---------+-----------+--------+-----------+---------+----------+-------+\n",
      "|InvoiceNo|StockCode|Description|Quantity|InvoiceDate|UnitPrice|CustomerID|Country|\n",
      "+---------+---------+-----------+--------+-----------+---------+----------+-------+\n",
      "+---------+---------+-----------+--------+-----------+---------+----------+-------+\n",
      "\n"
     ]
    }
   ],
   "source": [
    "df[isnan(df[\"Quantity\"])].show()"
   ]
  },
  {
   "cell_type": "code",
   "execution_count": 44,
   "id": "134aab57-bfdc-49a7-b540-a209bfa5271a",
   "metadata": {},
   "outputs": [],
   "source": [
    "# 欠損値埋め -> fillna\n",
    "df_fillna = df.fillna(\"unknown\", subset=\"Description\")"
   ]
  },
  {
   "cell_type": "code",
   "execution_count": 45,
   "id": "594859a7-2a3a-4d8b-9df3-137e753cf321",
   "metadata": {},
   "outputs": [
    {
     "name": "stdout",
     "output_type": "stream",
     "text": [
      "+---------+---------+-----------+--------+-----------+---------+----------+--------------+\n",
      "|InvoiceNo|StockCode|Description|Quantity|InvoiceDate|UnitPrice|CustomerID|       Country|\n",
      "+---------+---------+-----------+--------+-----------+---------+----------+--------------+\n",
      "|   536414|    22139|    unknown|      56| 2010-12-01|      0.0|      NULL|United Kingdom|\n",
      "|   536545|    21134|    unknown|       1| 2010-12-01|      0.0|      NULL|United Kingdom|\n",
      "|   536546|    22145|    unknown|       1| 2010-12-01|      0.0|      NULL|United Kingdom|\n",
      "|   536547|    37509|    unknown|       1| 2010-12-01|      0.0|      NULL|United Kingdom|\n",
      "|   536549|   85226A|    unknown|       1| 2010-12-01|      0.0|      NULL|United Kingdom|\n",
      "|   536550|    85044|    unknown|       1| 2010-12-01|      0.0|      NULL|United Kingdom|\n",
      "|   536552|    20950|    unknown|       1| 2010-12-01|      0.0|      NULL|United Kingdom|\n",
      "|   536553|    37461|    unknown|       3| 2010-12-01|      0.0|      NULL|United Kingdom|\n",
      "|   536554|    84670|    unknown|      23| 2010-12-01|      0.0|      NULL|United Kingdom|\n",
      "|   536589|    21777|    unknown|     -10| 2010-12-01|      0.0|      NULL|United Kingdom|\n",
      "|   536764|   84952C|    unknown|     -38| 2010-12-02|      0.0|      NULL|United Kingdom|\n",
      "|   536765|   84952C|    unknown|      19| 2010-12-02|      0.0|      NULL|United Kingdom|\n",
      "|   536995|    35951|    unknown|      57| 2010-12-03|      0.0|      NULL|United Kingdom|\n",
      "|   536996|    22712|    unknown|     -20| 2010-12-03|      0.0|      NULL|United Kingdom|\n",
      "|   536997|    22028|    unknown|     -20| 2010-12-03|      0.0|      NULL|United Kingdom|\n",
      "|   536998|    85067|    unknown|      -6| 2010-12-03|      0.0|      NULL|United Kingdom|\n",
      "|   536999|    21421|    unknown|     110| 2010-12-03|      0.0|      NULL|United Kingdom|\n",
      "|   537000|    21414|    unknown|     -22| 2010-12-03|      0.0|      NULL|United Kingdom|\n",
      "|   537001|    21653|    unknown|      -6| 2010-12-03|      0.0|      NULL|United Kingdom|\n",
      "|   537002|    21651|    unknown|      70| 2010-12-03|      0.0|      NULL|United Kingdom|\n",
      "+---------+---------+-----------+--------+-----------+---------+----------+--------------+\n",
      "only showing top 20 rows\n",
      "\n"
     ]
    }
   ],
   "source": [
    "df_fillna.filter(df_fillna[\"Description\"] == \"unknown\").show()"
   ]
  },
  {
   "cell_type": "code",
   "execution_count": 46,
   "id": "19b87e80-5d3a-469c-9a66-e518f6ed5bdc",
   "metadata": {},
   "outputs": [
    {
     "data": {
      "text/plain": [
       "0"
      ]
     },
     "execution_count": 46,
     "metadata": {},
     "output_type": "execute_result"
    }
   ],
   "source": [
    "df_fillna[df_fillna[\"Description\"].isNull()].count()"
   ]
  },
  {
   "cell_type": "code",
   "execution_count": 47,
   "id": "fdcec9a0-c795-497f-81ca-4d4bab263c9a",
   "metadata": {},
   "outputs": [
    {
     "data": {
      "text/plain": [
       "135080"
      ]
     },
     "execution_count": 47,
     "metadata": {},
     "output_type": "execute_result"
    }
   ],
   "source": [
    "# 欠損値の削除 -> dropna\n",
    "df[df[\"CustomerID\"].isNull()].count()"
   ]
  },
  {
   "cell_type": "code",
   "execution_count": 48,
   "id": "be9e28be-77f0-4a29-9064-edcb6c5a2524",
   "metadata": {},
   "outputs": [
    {
     "data": {
      "text/plain": [
       "541909"
      ]
     },
     "execution_count": 48,
     "metadata": {},
     "output_type": "execute_result"
    }
   ],
   "source": [
    "df.count()"
   ]
  },
  {
   "cell_type": "code",
   "execution_count": 49,
   "id": "4a91f370-d30c-46e8-b8d6-488cc8c005b6",
   "metadata": {},
   "outputs": [
    {
     "data": {
      "text/plain": [
       "406829"
      ]
     },
     "execution_count": 49,
     "metadata": {},
     "output_type": "execute_result"
    }
   ],
   "source": [
    "df_dropna = df.dropna(\"any\")\n",
    "df_dropna.count()"
   ]
  },
  {
   "cell_type": "markdown",
   "id": "81a65c96-a7b8-4340-ae08-db637580da0e",
   "metadata": {},
   "source": [
    "# 集計 groupby"
   ]
  },
  {
   "cell_type": "code",
   "execution_count": 50,
   "id": "de423886-f141-455e-b726-3a91b3e669c4",
   "metadata": {},
   "outputs": [
    {
     "name": "stdout",
     "output_type": "stream",
     "text": [
      "+--------------------+-----+\n",
      "|         Description|count|\n",
      "+--------------------+-----+\n",
      "|10 COLOUR SPACEBO...|  327|\n",
      "|SET/10 BLUE POLKA...|  249|\n",
      "|POTTING SHED SOW ...|    2|\n",
      "|PAPERWEIGHT KINGS...|   24|\n",
      "|WOVEN BERRIES CUS...|   89|\n",
      "|WHITE/PINK MINI C...|    7|\n",
      "|SET/3 RED GINGHAM...|  494|\n",
      "|MAGNETS PACK OF 4...|  128|\n",
      "|WHITE CHRYSANTHEM...|    9|\n",
      "|WHITE FRANGIPANI ...|   18|\n",
      "|SILVER FABRIC MIRROR|   46|\n",
      "|PINK  HONEYCOMB P...|   70|\n",
      "|PINK BOUDOIR T-LI...|    1|\n",
      "| BLACK CHERRY LIGHTS|    3|\n",
      "|GLASS CAKE COVER ...|    2|\n",
      "|IVORY ENCHANTED F...|   93|\n",
      "|ANTIQUE SILVER TE...|  227|\n",
      "|BLUE FELT HANGING...|    2|\n",
      "|PACK OF 12 COLOUR...|  223|\n",
      "|   CLAM SHELL SMALL |   48|\n",
      "+--------------------+-----+\n",
      "only showing top 20 rows\n",
      "\n"
     ]
    }
   ],
   "source": [
    "df.groupby(df[\"Description\"]).count().show()"
   ]
  },
  {
   "cell_type": "code",
   "execution_count": 51,
   "id": "e1e3ba2c-f8b2-46ef-a1e2-1f13531f22ba",
   "metadata": {},
   "outputs": [],
   "source": [
    "from pyspark.sql.functions import desc, asc"
   ]
  },
  {
   "cell_type": "code",
   "execution_count": 52,
   "id": "59161fb4-a6fc-4e0d-adad-05dadeb0aeed",
   "metadata": {},
   "outputs": [
    {
     "data": {
      "text/plain": [
       "DataFrame[Description: string, count: bigint]"
      ]
     },
     "execution_count": 52,
     "metadata": {},
     "output_type": "execute_result"
    }
   ],
   "source": [
    "df.groupby(df[\"Description\"]).count()"
   ]
  },
  {
   "cell_type": "code",
   "execution_count": 53,
   "id": "084136a2-94fb-4d06-9bbe-d4c8e9993f50",
   "metadata": {},
   "outputs": [
    {
     "name": "stdout",
     "output_type": "stream",
     "text": [
      "+--------------------+-----+\n",
      "|         Description|count|\n",
      "+--------------------+-----+\n",
      "|WHITE HANGING HEA...| 2369|\n",
      "|REGENCY CAKESTAND...| 2200|\n",
      "|JUMBO BAG RED RET...| 2159|\n",
      "|       PARTY BUNTING| 1727|\n",
      "|LUNCH BAG RED RET...| 1638|\n",
      "|ASSORTED COLOUR B...| 1501|\n",
      "|SET OF 3 CAKE TIN...| 1473|\n",
      "|                NULL| 1454|\n",
      "|PACK OF 72 RETROS...| 1385|\n",
      "|LUNCH BAG  BLACK ...| 1350|\n",
      "|NATURAL SLATE HEA...| 1280|\n",
      "|             POSTAGE| 1252|\n",
      "|JUMBO BAG PINK PO...| 1251|\n",
      "|HEART OF WICKER S...| 1237|\n",
      "|JAM MAKING SET WI...| 1229|\n",
      "|JUMBO STORAGE BAG...| 1214|\n",
      "|PAPER CHAIN KIT 5...| 1210|\n",
      "|JUMBO SHOPPER VIN...| 1202|\n",
      "| LUNCH BAG CARS BLUE| 1197|\n",
      "|LUNCH BAG SPACEBO...| 1192|\n",
      "+--------------------+-----+\n",
      "only showing top 20 rows\n",
      "\n"
     ]
    }
   ],
   "source": [
    "df.groupby(df[\"Description\"]).count().sort(desc(\"count\")).show()"
   ]
  },
  {
   "cell_type": "code",
   "execution_count": 54,
   "id": "6c4ca43c-26b2-4f18-84dd-1f5646866122",
   "metadata": {},
   "outputs": [
    {
     "name": "stdout",
     "output_type": "stream",
     "text": [
      "+--------------------+-----+\n",
      "|         Description|count|\n",
      "+--------------------+-----+\n",
      "|PINK BERTIE MOBIL...|    1|\n",
      "|SET OF 3 PINK FLY...|    1|\n",
      "|        amazon sales|    1|\n",
      "|PINK BOUDOIR T-LI...|    1|\n",
      "|BREAD BIN, DINER ...|    1|\n",
      "|PINK PAINTED KASH...|    1|\n",
      "|ETCHED GLASS STAR...|    1|\n",
      "|CREAM SWEETHEART ...|    1|\n",
      "|4 GOLD FLOCK CHRI...|    1|\n",
      "|TEA TIME BREAKFAS...|    1|\n",
      "|PEG BAG APPLE DESIGN|    1|\n",
      "|JARDIN ETCHED GLA...|    1|\n",
      "|DUSTY PINK CHRIST...|    1|\n",
      "|BLACKCHRISTMAS TR...|    1|\n",
      "|     FLAMINGO LIGHTS|    1|\n",
      "|VINTAGE BLUE TINS...|    1|\n",
      "|CURIOUS IMAGES SC...|    1|\n",
      "|CAKESTAND, 3 TIER...|    1|\n",
      "|TEA TIME CAKE STA...|    1|\n",
      "|        label mix up|    1|\n",
      "+--------------------+-----+\n",
      "only showing top 20 rows\n",
      "\n"
     ]
    }
   ],
   "source": [
    "df.groupby(df[\"Description\"]).count().sort(asc(\"count\")).show()"
   ]
  },
  {
   "cell_type": "code",
   "execution_count": null,
   "id": "88f3f50d-2098-4f28-a442-2f32df7564c9",
   "metadata": {
    "editable": true,
    "slideshow": {
     "slide_type": ""
    },
    "tags": []
   },
   "outputs": [],
   "source": []
  },
  {
   "cell_type": "code",
   "execution_count": null,
   "id": "ca9ce061-0a38-420d-abd8-7f16853dabfc",
   "metadata": {},
   "outputs": [],
   "source": []
  }
 ],
 "metadata": {
  "kernelspec": {
   "display_name": "Python 3 (ipykernel)",
   "language": "python",
   "name": "python3"
  },
  "language_info": {
   "codemirror_mode": {
    "name": "ipython",
    "version": 3
   },
   "file_extension": ".py",
   "mimetype": "text/x-python",
   "name": "python",
   "nbconvert_exporter": "python",
   "pygments_lexer": "ipython3",
   "version": "3.11.6"
  }
 },
 "nbformat": 4,
 "nbformat_minor": 5
}
