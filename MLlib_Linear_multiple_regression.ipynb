{
 "cells": [
  {
   "cell_type": "markdown",
   "id": "c6f488a8-a968-4205-a9b3-52579a886353",
   "metadata": {},
   "source": [
    "# 線形重回帰による数値予測"
   ]
  },
  {
   "cell_type": "markdown",
   "id": "6289cc9f-63a7-44de-8138-1198370282fe",
   "metadata": {},
   "source": [
    "#### 1. データチェック\n",
    "#### 2. データ作成\n",
    "#### 3. モデリング\n",
    "#### 4. 係数や精度指標の確認"
   ]
  },
  {
   "cell_type": "code",
   "execution_count": null,
   "id": "62fc5f55-4f71-46c6-a7d9-c9f90e1ee4c6",
   "metadata": {},
   "outputs": [],
   "source": [
    "from pyspark.sql import SparkSession\n",
    "import psycopg2\n",
    "import os\n",
    "os.environ['PYSPARK_SUBMIT_ARGS'] = '--jars /usr/local/spark/jars/postgresql-42.7.3.jar pyspark-shell'"
   ]
  },
  {
   "cell_type": "code",
   "execution_count": 2,
   "id": "1ebc9b12-12f2-423b-8c99-8b8d65118b84",
   "metadata": {},
   "outputs": [],
   "source": [
    "spark = SparkSession.builder \\\n",
    "    .master(\"local\") \\\n",
    "    .appName(\"linear_regression\") \\\n",
    "    .getOrCreate()"
   ]
  },
  {
   "cell_type": "code",
   "execution_count": 3,
   "id": "ce1c90e4-c1a9-4eaf-9438-1cde27b581b4",
   "metadata": {
    "scrolled": true
   },
   "outputs": [
    {
     "name": "stdout",
     "output_type": "stream",
     "text": [
      "+---+------------+--------+---------+-------+-------+-------+----+-------+---+-----+--------+--------+-----+--------+--------+---+\n",
      "|age|         job| marital|education|default|balance|housing|loan|contact|day|month|duration|campaign|pdays|previous|poutcome|  y|\n",
      "+---+------------+--------+---------+-------+-------+-------+----+-------+---+-----+--------+--------+-----+--------+--------+---+\n",
      "| 58|  management| married| tertiary|     no|   2143|    yes|  no|unknown|  5|  may|     261|       1|   -1|       0| unknown| no|\n",
      "| 44|  technician|  single|secondary|     no|     29|    yes|  no|unknown|  5|  may|     151|       1|   -1|       0| unknown| no|\n",
      "| 33|entrepreneur| married|secondary|     no|      2|    yes| yes|unknown|  5|  may|      76|       1|   -1|       0| unknown| no|\n",
      "| 47| blue-collar| married|  unknown|     no|   1506|    yes|  no|unknown|  5|  may|      92|       1|   -1|       0| unknown| no|\n",
      "| 33|     unknown|  single|  unknown|     no|      1|     no|  no|unknown|  5|  may|     198|       1|   -1|       0| unknown| no|\n",
      "| 35|  management| married| tertiary|     no|    231|    yes|  no|unknown|  5|  may|     139|       1|   -1|       0| unknown| no|\n",
      "| 28|  management|  single| tertiary|     no|    447|    yes| yes|unknown|  5|  may|     217|       1|   -1|       0| unknown| no|\n",
      "| 42|entrepreneur|divorced| tertiary|    yes|      2|    yes|  no|unknown|  5|  may|     380|       1|   -1|       0| unknown| no|\n",
      "| 58|     retired| married|  primary|     no|    121|    yes|  no|unknown|  5|  may|      50|       1|   -1|       0| unknown| no|\n",
      "| 43|  technician|  single|secondary|     no|    593|    yes|  no|unknown|  5|  may|      55|       1|   -1|       0| unknown| no|\n",
      "| 41|      admin.|divorced|secondary|     no|    270|    yes|  no|unknown|  5|  may|     222|       1|   -1|       0| unknown| no|\n",
      "| 29|      admin.|  single|secondary|     no|    390|    yes|  no|unknown|  5|  may|     137|       1|   -1|       0| unknown| no|\n",
      "| 53|  technician| married|secondary|     no|      6|    yes|  no|unknown|  5|  may|     517|       1|   -1|       0| unknown| no|\n",
      "| 58|  technician| married|  unknown|     no|     71|    yes|  no|unknown|  5|  may|      71|       1|   -1|       0| unknown| no|\n",
      "| 57|    services| married|secondary|     no|    162|    yes|  no|unknown|  5|  may|     174|       1|   -1|       0| unknown| no|\n",
      "| 51|     retired| married|  primary|     no|    229|    yes|  no|unknown|  5|  may|     353|       1|   -1|       0| unknown| no|\n",
      "| 45|      admin.|  single|  unknown|     no|     13|    yes|  no|unknown|  5|  may|      98|       1|   -1|       0| unknown| no|\n",
      "| 57| blue-collar| married|  primary|     no|     52|    yes|  no|unknown|  5|  may|      38|       1|   -1|       0| unknown| no|\n",
      "| 60|     retired| married|  primary|     no|     60|    yes|  no|unknown|  5|  may|     219|       1|   -1|       0| unknown| no|\n",
      "| 33|    services| married|secondary|     no|      0|    yes|  no|unknown|  5|  may|      54|       1|   -1|       0| unknown| no|\n",
      "+---+------------+--------+---------+-------+-------+-------+----+-------+---+-----+--------+--------+-----+--------+--------+---+\n",
      "only showing top 20 rows\n",
      "\n"
     ]
    }
   ],
   "source": [
    "df = spark.read.csv(\"./data/bank-full.csv\", header=True, inferSchema=True, sep=\";\")\n",
    "df.show()"
   ]
  },
  {
   "cell_type": "code",
   "execution_count": 4,
   "id": "ed768040-8819-40b3-b7fb-17f043e7d66c",
   "metadata": {},
   "outputs": [
    {
     "data": {
      "text/plain": [
       "[('age', 'int'),\n",
       " ('job', 'string'),\n",
       " ('marital', 'string'),\n",
       " ('education', 'string'),\n",
       " ('default', 'string'),\n",
       " ('balance', 'int'),\n",
       " ('housing', 'string'),\n",
       " ('loan', 'string'),\n",
       " ('contact', 'string'),\n",
       " ('day', 'int'),\n",
       " ('month', 'string'),\n",
       " ('duration', 'int'),\n",
       " ('campaign', 'int'),\n",
       " ('pdays', 'int'),\n",
       " ('previous', 'int'),\n",
       " ('poutcome', 'string'),\n",
       " ('y', 'string')]"
      ]
     },
     "execution_count": 4,
     "metadata": {},
     "output_type": "execute_result"
    }
   ],
   "source": [
    "df.dtypes"
   ]
  },
  {
   "cell_type": "code",
   "execution_count": 5,
   "id": "f6e2c21b-bc34-4336-9e49-5f9559901c42",
   "metadata": {},
   "outputs": [],
   "source": [
    "conn = psycopg2.connect(\n",
    "    host=\"jupyter-pyspark-postgres\",\n",
    "    user=\"user\",\n",
    "    password=\"password\",\n",
    "    database=\"jupyter_pyspark_db\"\n",
    ")"
   ]
  },
  {
   "cell_type": "code",
   "execution_count": 6,
   "id": "171f162a-4ab5-4f9a-b050-bfbe6fc34bb3",
   "metadata": {},
   "outputs": [],
   "source": [
    "cur = conn.cursor()"
   ]
  },
  {
   "cell_type": "code",
   "execution_count": 7,
   "id": "e47133e8-04c8-45b5-b14a-324ece089ae1",
   "metadata": {},
   "outputs": [],
   "source": [
    "# 再実行時にPostgreSQLのデータが存在する場合にリセット (データの重複増加を回避)\n",
    "cur.execute(\"DROP TABLE IF EXISTS bank_table\")"
   ]
  },
  {
   "cell_type": "code",
   "execution_count": 8,
   "id": "00ec2aa5-60cb-4a17-8828-8b2cfceafbfe",
   "metadata": {},
   "outputs": [],
   "source": [
    "cur.execute(\"\"\"\n",
    "   CREATE TABLE IF NOT EXISTS bank_table (\n",
    "       age INTEGER,\n",
    "       job VARCHAR(255),\n",
    "       marital VARCHAR(255),\n",
    "       education VARCHAR(255),\n",
    "       \"default\" VARCHAR(255),\n",
    "       balance INTEGER,\n",
    "       housing VARCHAR(255),\n",
    "       loan VARCHAR(255),\n",
    "       contact VARCHAR(255),\n",
    "       day INTEGER,\n",
    "       month VARCHAR(255),\n",
    "       duration INTEGER,\n",
    "       campaign INTEGER,\n",
    "       pdays INTEGER,\n",
    "       previous INTEGER,\n",
    "       poutcome VARCHAR(255),\n",
    "       y VARCHAR(255)\n",
    "   ) \n",
    "\"\"\")"
   ]
  },
  {
   "cell_type": "code",
   "execution_count": 9,
   "id": "94a4a727-568d-4bb2-942c-e2c8fe165fcd",
   "metadata": {},
   "outputs": [],
   "source": [
    "conn.commit()\n",
    "cur.close()\n",
    "conn.close()"
   ]
  },
  {
   "cell_type": "code",
   "execution_count": 10,
   "id": "9ef7dceb-62f0-4b01-8f01-c9cdf3d37e5e",
   "metadata": {},
   "outputs": [],
   "source": [
    "def insert_data(df, table_name):\n",
    "    df.write \\\n",
    "        .format(\"jdbc\") \\\n",
    "        .option(\"url\", \"jdbc:postgresql://jupyter-pyspark-postgres:5432/jupyter_pyspark_db\") \\\n",
    "        .option(\"dbtable\", table_name) \\\n",
    "        .option(\"user\", \"user\") \\\n",
    "        .option(\"password\", \"password\") \\\n",
    "        .mode(\"append\") \\\n",
    "        .save()"
   ]
  },
  {
   "cell_type": "code",
   "execution_count": 11,
   "id": "f58c0633-3309-4d3d-9a7c-6c70e9be5e69",
   "metadata": {},
   "outputs": [],
   "source": [
    "insert_data(df, \"bank_table\")"
   ]
  },
  {
   "cell_type": "code",
   "execution_count": 12,
   "id": "2de952bf-e563-4161-840b-6af4d04f0637",
   "metadata": {},
   "outputs": [],
   "source": [
    "query = \"SELECT * FROM bank_table\" "
   ]
  },
  {
   "cell_type": "code",
   "execution_count": 13,
   "id": "63c95af8-fee9-4cb2-a0cd-abaa43b97e66",
   "metadata": {},
   "outputs": [],
   "source": [
    "df = spark.read \\\n",
    "    .format(\"jdbc\") \\\n",
    "    .option(\"url\", \"jdbc:postgresql://jupyter-pyspark-postgres:5432/jupyter_pyspark_db\") \\\n",
    "    .option(\"dbtable\", f\"({query}) as tmp\") \\\n",
    "    .option(\"user\", \"user\") \\\n",
    "    .option(\"password\", \"password\") \\\n",
    "    .load()"
   ]
  },
  {
   "cell_type": "code",
   "execution_count": 14,
   "id": "c3a69a78-eeb7-458b-a07d-0592166c5ae5",
   "metadata": {},
   "outputs": [
    {
     "name": "stdout",
     "output_type": "stream",
     "text": [
      "+---+------------+--------+---------+-------+-------+-------+----+-------+---+-----+--------+--------+-----+--------+--------+---+\n",
      "|age|         job| marital|education|default|balance|housing|loan|contact|day|month|duration|campaign|pdays|previous|poutcome|  y|\n",
      "+---+------------+--------+---------+-------+-------+-------+----+-------+---+-----+--------+--------+-----+--------+--------+---+\n",
      "| 58|  management| married| tertiary|     no|   2143|    yes|  no|unknown|  5|  may|     261|       1|   -1|       0| unknown| no|\n",
      "| 44|  technician|  single|secondary|     no|     29|    yes|  no|unknown|  5|  may|     151|       1|   -1|       0| unknown| no|\n",
      "| 33|entrepreneur| married|secondary|     no|      2|    yes| yes|unknown|  5|  may|      76|       1|   -1|       0| unknown| no|\n",
      "| 47| blue-collar| married|  unknown|     no|   1506|    yes|  no|unknown|  5|  may|      92|       1|   -1|       0| unknown| no|\n",
      "| 33|     unknown|  single|  unknown|     no|      1|     no|  no|unknown|  5|  may|     198|       1|   -1|       0| unknown| no|\n",
      "| 35|  management| married| tertiary|     no|    231|    yes|  no|unknown|  5|  may|     139|       1|   -1|       0| unknown| no|\n",
      "| 28|  management|  single| tertiary|     no|    447|    yes| yes|unknown|  5|  may|     217|       1|   -1|       0| unknown| no|\n",
      "| 42|entrepreneur|divorced| tertiary|    yes|      2|    yes|  no|unknown|  5|  may|     380|       1|   -1|       0| unknown| no|\n",
      "| 58|     retired| married|  primary|     no|    121|    yes|  no|unknown|  5|  may|      50|       1|   -1|       0| unknown| no|\n",
      "| 43|  technician|  single|secondary|     no|    593|    yes|  no|unknown|  5|  may|      55|       1|   -1|       0| unknown| no|\n",
      "| 41|      admin.|divorced|secondary|     no|    270|    yes|  no|unknown|  5|  may|     222|       1|   -1|       0| unknown| no|\n",
      "| 29|      admin.|  single|secondary|     no|    390|    yes|  no|unknown|  5|  may|     137|       1|   -1|       0| unknown| no|\n",
      "| 53|  technician| married|secondary|     no|      6|    yes|  no|unknown|  5|  may|     517|       1|   -1|       0| unknown| no|\n",
      "| 58|  technician| married|  unknown|     no|     71|    yes|  no|unknown|  5|  may|      71|       1|   -1|       0| unknown| no|\n",
      "| 57|    services| married|secondary|     no|    162|    yes|  no|unknown|  5|  may|     174|       1|   -1|       0| unknown| no|\n",
      "| 51|     retired| married|  primary|     no|    229|    yes|  no|unknown|  5|  may|     353|       1|   -1|       0| unknown| no|\n",
      "| 45|      admin.|  single|  unknown|     no|     13|    yes|  no|unknown|  5|  may|      98|       1|   -1|       0| unknown| no|\n",
      "| 57| blue-collar| married|  primary|     no|     52|    yes|  no|unknown|  5|  may|      38|       1|   -1|       0| unknown| no|\n",
      "| 60|     retired| married|  primary|     no|     60|    yes|  no|unknown|  5|  may|     219|       1|   -1|       0| unknown| no|\n",
      "| 33|    services| married|secondary|     no|      0|    yes|  no|unknown|  5|  may|      54|       1|   -1|       0| unknown| no|\n",
      "+---+------------+--------+---------+-------+-------+-------+----+-------+---+-----+--------+--------+-----+--------+--------+---+\n",
      "only showing top 20 rows\n",
      "\n"
     ]
    }
   ],
   "source": [
    "df.show()"
   ]
  },
  {
   "cell_type": "code",
   "execution_count": 15,
   "id": "a98dad40-ca13-48d8-9f5c-96594b83fd70",
   "metadata": {},
   "outputs": [
    {
     "data": {
      "text/plain": [
       "[('age', 'int'),\n",
       " ('job', 'string'),\n",
       " ('marital', 'string'),\n",
       " ('education', 'string'),\n",
       " ('default', 'string'),\n",
       " ('balance', 'int'),\n",
       " ('housing', 'string'),\n",
       " ('loan', 'string'),\n",
       " ('contact', 'string'),\n",
       " ('day', 'int'),\n",
       " ('month', 'string'),\n",
       " ('duration', 'int'),\n",
       " ('campaign', 'int'),\n",
       " ('pdays', 'int'),\n",
       " ('previous', 'int'),\n",
       " ('poutcome', 'string'),\n",
       " ('y', 'string')]"
      ]
     },
     "execution_count": 15,
     "metadata": {},
     "output_type": "execute_result"
    }
   ],
   "source": [
    "df.dtypes"
   ]
  },
  {
   "cell_type": "code",
   "execution_count": 16,
   "id": "696487d0-5443-4e42-a627-def419ff1315",
   "metadata": {},
   "outputs": [
    {
     "name": "stdout",
     "output_type": "stream",
     "text": [
      "+-------+------------------+-------+--------+---------+-------+------------------+-------+-----+--------+-----------------+-----+-----------------+-----------------+------------------+------------------+--------+-----+\n",
      "|summary|               age|    job| marital|education|default|           balance|housing| loan| contact|              day|month|         duration|         campaign|             pdays|          previous|poutcome|    y|\n",
      "+-------+------------------+-------+--------+---------+-------+------------------+-------+-----+--------+-----------------+-----+-----------------+-----------------+------------------+------------------+--------+-----+\n",
      "|  count|             45211|  45211|   45211|    45211|  45211|             45211|  45211|45211|   45211|            45211|45211|            45211|            45211|             45211|             45211|   45211|45211|\n",
      "|   mean| 40.93621021432837|   NULL|    NULL|     NULL|   NULL|1362.2720576850766|   NULL| NULL|    NULL|15.80641879188693| NULL|258.1630797814691|2.763840658246887| 40.19782796222158|0.5803233726305546|    NULL| NULL|\n",
      "| stddev|10.618762040975405|   NULL|    NULL|     NULL|   NULL|3044.7658291685257|   NULL| NULL|    NULL|8.322476153044594| NULL|257.5278122651706|3.098020883279192|100.12874599059828| 2.303441044931218|    NULL| NULL|\n",
      "|    min|                18| admin.|divorced|  primary|     no|             -8019|     no|   no|cellular|                1|  apr|                0|                1|                -1|                 0| failure|   no|\n",
      "|    25%|                33|   NULL|    NULL|     NULL|   NULL|                72|   NULL| NULL|    NULL|                8| NULL|              103|                1|                -1|                 0|    NULL| NULL|\n",
      "|    50%|                39|   NULL|    NULL|     NULL|   NULL|               448|   NULL| NULL|    NULL|               16| NULL|              180|                2|                -1|                 0|    NULL| NULL|\n",
      "|    75%|                48|   NULL|    NULL|     NULL|   NULL|              1426|   NULL| NULL|    NULL|               21| NULL|              319|                3|                -1|                 0|    NULL| NULL|\n",
      "|    max|                95|unknown|  single|  unknown|    yes|            102127|    yes|  yes| unknown|               31|  sep|             4918|               63|               871|               275| unknown|  yes|\n",
      "+-------+------------------+-------+--------+---------+-------+------------------+-------+-----+--------+-----------------+-----+-----------------+-----------------+------------------+------------------+--------+-----+\n",
      "\n"
     ]
    }
   ],
   "source": [
    "df.summary().show()"
   ]
  },
  {
   "cell_type": "code",
   "execution_count": 17,
   "id": "65fda346-7ece-4383-80ca-3dae45cdf121",
   "metadata": {},
   "outputs": [],
   "source": [
    "# データ作成\n",
    "linear_df = df.select([\"age\", \"balance\", \"campaign\"])\n",
    "target = \"balance\"\n",
    "features = [\"age\", \"campaign\"]\n",
    "train_df = df.select(features)"
   ]
  },
  {
   "cell_type": "code",
   "execution_count": 18,
   "id": "a87b7829-f840-4822-b413-e926412b64fe",
   "metadata": {},
   "outputs": [
    {
     "data": {
      "text/plain": [
       "['age', 'campaign']"
      ]
     },
     "execution_count": 18,
     "metadata": {},
     "output_type": "execute_result"
    }
   ],
   "source": [
    "features"
   ]
  },
  {
   "cell_type": "code",
   "execution_count": 19,
   "id": "1d00c0e5-8420-4721-b618-8e20209ad37d",
   "metadata": {},
   "outputs": [],
   "source": [
    "# データ作成ステージ\n",
    "from pyspark.ml.feature import VectorAssembler\n",
    "assemble = VectorAssembler(inputCols=features, outputCol=\"features\")"
   ]
  },
  {
   "cell_type": "code",
   "execution_count": 20,
   "id": "5eedc7fc-408e-4e23-a760-7e5cd0e7df01",
   "metadata": {},
   "outputs": [],
   "source": [
    "# 線形重回帰のモデリングステージ\n",
    "from pyspark.ml.regression import LinearRegression\n",
    "clf = LinearRegression(featuresCol=\"features\", labelCol=\"balance\")"
   ]
  },
  {
   "cell_type": "code",
   "execution_count": 21,
   "id": "1019bb7e-53d3-43f7-a2ac-171b79e85c9b",
   "metadata": {},
   "outputs": [],
   "source": [
    "# パイプラインの設定\n",
    "from pyspark.ml.pipeline import Pipeline\n",
    "pipline = Pipeline(stages=[assemble, clf])\n",
    "model = pipline.fit(linear_df)"
   ]
  },
  {
   "cell_type": "code",
   "execution_count": 22,
   "id": "2ed493f1-d772-4c4e-bea9-a6b4b6c886de",
   "metadata": {},
   "outputs": [
    {
     "name": "stdout",
     "output_type": "stream",
     "text": [
      "+---+-------+--------+----------+------------------+\n",
      "|age|balance|campaign|  features|        prediction|\n",
      "+---+-------+--------+----------+------------------+\n",
      "| 58|   2143|       1|[58.0,1.0]|1867.1309208276969|\n",
      "| 44|     29|       1|[44.0,1.0]| 1474.315799038966|\n",
      "| 33|      2|       1|[33.0,1.0]| 1165.675346204963|\n",
      "| 47|   1506|       1|[47.0,1.0]| 1558.490467993694|\n",
      "| 33|      1|       1|[33.0,1.0]| 1165.675346204963|\n",
      "| 35|    231|       1|[35.0,1.0]| 1221.791792174782|\n",
      "| 28|    447|       1|[28.0,1.0]|1025.3842312804163|\n",
      "| 42|      2|       1|[42.0,1.0]|1418.1993530691473|\n",
      "| 58|    121|       1|[58.0,1.0]|1867.1309208276969|\n",
      "| 43|    593|       1|[43.0,1.0]|1446.2575760540567|\n",
      "| 41|    270|       1|[41.0,1.0]|1390.1411300842378|\n",
      "| 29|    390|       1|[29.0,1.0]|1053.4424542653258|\n",
      "| 53|      6|       1|[53.0,1.0]|1726.8398059031501|\n",
      "| 58|     71|       1|[58.0,1.0]|1867.1309208276969|\n",
      "| 57|    162|       1|[57.0,1.0]|1839.0726978427876|\n",
      "| 51|    229|       1|[51.0,1.0]|1670.7233599333315|\n",
      "| 45|     13|       1|[45.0,1.0]|1502.3740220238753|\n",
      "| 57|     52|       1|[57.0,1.0]|1839.0726978427876|\n",
      "| 60|     60|       1|[60.0,1.0]|1923.2473667975155|\n",
      "| 33|      0|       1|[33.0,1.0]| 1165.675346204963|\n",
      "+---+-------+--------+----------+------------------+\n",
      "only showing top 20 rows\n",
      "\n"
     ]
    }
   ],
   "source": [
    "# パイプラインの実行\n",
    "df = model.transform(linear_df)\n",
    "df.show()"
   ]
  },
  {
   "cell_type": "code",
   "execution_count": 23,
   "id": "74ae59b5-a7c2-49c1-8e27-c75832d785cf",
   "metadata": {},
   "outputs": [
    {
     "data": {
      "text/plain": [
       "DenseVector([28.0582, -14.7855])"
      ]
     },
     "execution_count": 23,
     "metadata": {},
     "output_type": "execute_result"
    }
   ],
   "source": [
    "# 係数の確認\n",
    "model.stages[1].coefficients"
   ]
  },
  {
   "cell_type": "code",
   "execution_count": 24,
   "id": "94802af2-0268-4b2c-827b-c9bbff2da9b6",
   "metadata": {},
   "outputs": [
    {
     "data": {
      "text/plain": [
       "254.53947540939365"
      ]
     },
     "execution_count": 24,
     "metadata": {},
     "output_type": "execute_result"
    }
   ],
   "source": [
    "# 切片\n",
    "model.stages[1].intercept"
   ]
  },
  {
   "cell_type": "markdown",
   "id": "ae699fff-0bbb-4678-956c-191b2c3b5562",
   "metadata": {},
   "source": [
    "# 線形重回帰のモデリングと予測"
   ]
  },
  {
   "cell_type": "markdown",
   "id": "ff940fcc-f79f-48aa-9c57-1248ea4dccf2",
   "metadata": {},
   "source": [
    "#### 学習データとテストデータに分ける"
   ]
  },
  {
   "cell_type": "code",
   "execution_count": 25,
   "id": "54f9cbe5-a529-4fa6-8806-8644368f8f81",
   "metadata": {},
   "outputs": [
    {
     "data": {
      "text/plain": [
       "pyspark.sql.dataframe.DataFrame"
      ]
     },
     "execution_count": 25,
     "metadata": {},
     "output_type": "execute_result"
    }
   ],
   "source": [
    "type(df)"
   ]
  },
  {
   "cell_type": "code",
   "execution_count": 26,
   "id": "3e8bac62-7fa4-4790-8427-d3f1292b9071",
   "metadata": {},
   "outputs": [
    {
     "data": {
      "text/plain": [
       "45211"
      ]
     },
     "execution_count": 26,
     "metadata": {},
     "output_type": "execute_result"
    }
   ],
   "source": [
    "df.count()"
   ]
  },
  {
   "cell_type": "code",
   "execution_count": 27,
   "id": "db70c596-9988-4ef5-bd4b-771445b80ee2",
   "metadata": {},
   "outputs": [
    {
     "data": {
      "text/plain": [
       "31647.699999999997"
      ]
     },
     "execution_count": 27,
     "metadata": {},
     "output_type": "execute_result"
    }
   ],
   "source": [
    "rate1 = df.count() * 0.7\n",
    "rate1"
   ]
  },
  {
   "cell_type": "code",
   "execution_count": 28,
   "id": "0107c12a-bc97-4d14-930a-7fd107946b9e",
   "metadata": {},
   "outputs": [],
   "source": [
    "train_df, test_df = df.select([\"age\", \"balance\", \"campaign\"]) \\\n",
    "    .randomSplit([0.7, 0.3], seed=1)"
   ]
  },
  {
   "cell_type": "code",
   "execution_count": 29,
   "id": "cb4a971b-44ac-4e6a-b021-eea0e3b97d70",
   "metadata": {},
   "outputs": [
    {
     "name": "stdout",
     "output_type": "stream",
     "text": [
      "+---+-------+--------+\n",
      "|age|balance|campaign|\n",
      "+---+-------+--------+\n",
      "| 18|      3|       2|\n",
      "| 18|      5|       2|\n",
      "| 18|     35|       2|\n",
      "| 18|    108|       1|\n",
      "| 18|    156|       2|\n",
      "| 18|    348|       4|\n",
      "| 18|    438|       1|\n",
      "| 18|    608|       1|\n",
      "| 18|    608|       1|\n",
      "| 18|   1944|       3|\n",
      "| 19|      0|       3|\n",
      "| 19|     60|       1|\n",
      "| 19|     88|       1|\n",
      "| 19|     96|       3|\n",
      "| 19|    103|       2|\n",
      "| 19|    103|       2|\n",
      "| 19|    103|       2|\n",
      "| 19|    108|       1|\n",
      "| 19|    108|       2|\n",
      "| 19|    134|       2|\n",
      "+---+-------+--------+\n",
      "only showing top 20 rows\n",
      "\n"
     ]
    }
   ],
   "source": [
    "train_df.show()"
   ]
  },
  {
   "cell_type": "code",
   "execution_count": 30,
   "id": "887e0ea2-7f0b-4438-a451-42e8aecf32c6",
   "metadata": {
    "scrolled": true
   },
   "outputs": [
    {
     "data": {
      "text/plain": [
       "31676"
      ]
     },
     "execution_count": 30,
     "metadata": {},
     "output_type": "execute_result"
    }
   ],
   "source": [
    "train_df.count()"
   ]
  },
  {
   "cell_type": "markdown",
   "id": "71013608-471b-4754-8b26-41c40e5fa8cd",
   "metadata": {},
   "source": [
    "#### 学習データでモデリング"
   ]
  },
  {
   "cell_type": "code",
   "execution_count": 31,
   "id": "4fc39d1d-8f77-49f5-90ca-1e22c244670c",
   "metadata": {},
   "outputs": [],
   "source": [
    "# データ作成ステージ\n",
    "from pyspark.ml.feature import VectorAssembler\n",
    "\n",
    "target = \"balance\"\n",
    "features = [\"age\", \"campaign\"]\n",
    "assemble = VectorAssembler(inputCols=features, outputCol=\"features\")"
   ]
  },
  {
   "cell_type": "code",
   "execution_count": 32,
   "id": "cff6b8f1-b517-45a1-85ed-fd5d33f522bb",
   "metadata": {},
   "outputs": [],
   "source": [
    "# 線形重回帰ステージ\n",
    "from pyspark.ml.regression import LinearRegression\n",
    "clf = LinearRegression(featuresCol=\"features\", labelCol=\"balance\")"
   ]
  },
  {
   "cell_type": "code",
   "execution_count": 33,
   "id": "fb895e27-3cf8-4a9d-9591-b63f620458dc",
   "metadata": {},
   "outputs": [],
   "source": [
    "# パイプライン登録\n",
    "from pyspark.ml.pipeline import Pipeline\n",
    "pipeline = Pipeline(stages=[assemble, clf])\n",
    "model = pipeline.fit(train_df)"
   ]
  },
  {
   "cell_type": "code",
   "execution_count": 34,
   "id": "06afa677-cc4c-4899-b441-e7edbb7d99e2",
   "metadata": {},
   "outputs": [
    {
     "name": "stdout",
     "output_type": "stream",
     "text": [
      "+---+-------+--------+----------+-----------------+\n",
      "|age|balance|campaign|  features|       prediction|\n",
      "+---+-------+--------+----------+-----------------+\n",
      "| 18|      3|       2|[18.0,2.0]| 710.845257267865|\n",
      "| 18|      5|       2|[18.0,2.0]| 710.845257267865|\n",
      "| 18|     35|       2|[18.0,2.0]| 710.845257267865|\n",
      "| 18|    108|       1|[18.0,1.0]|723.7064702721568|\n",
      "| 18|    156|       2|[18.0,2.0]| 710.845257267865|\n",
      "| 18|    348|       4|[18.0,4.0]|685.1228312592813|\n",
      "| 18|    438|       1|[18.0,1.0]|723.7064702721568|\n",
      "| 18|    608|       1|[18.0,1.0]|723.7064702721568|\n",
      "| 18|    608|       1|[18.0,1.0]|723.7064702721568|\n",
      "| 18|   1944|       3|[18.0,3.0]|697.9840442635732|\n",
      "| 19|      0|       3|[19.0,3.0]|726.5301363665997|\n",
      "| 19|     60|       1|[19.0,1.0]|752.2525623751833|\n",
      "| 19|     88|       1|[19.0,1.0]|752.2525623751833|\n",
      "| 19|     96|       3|[19.0,3.0]|726.5301363665997|\n",
      "| 19|    103|       2|[19.0,2.0]|739.3913493708915|\n",
      "| 19|    103|       2|[19.0,2.0]|739.3913493708915|\n",
      "| 19|    103|       2|[19.0,2.0]|739.3913493708915|\n",
      "| 19|    108|       1|[19.0,1.0]|752.2525623751833|\n",
      "| 19|    108|       2|[19.0,2.0]|739.3913493708915|\n",
      "| 19|    134|       2|[19.0,2.0]|739.3913493708915|\n",
      "+---+-------+--------+----------+-----------------+\n",
      "only showing top 20 rows\n",
      "\n"
     ]
    }
   ],
   "source": [
    "# 実行\n",
    "pred_train = model.transform(train_df)\n",
    "pred_train.show()"
   ]
  },
  {
   "cell_type": "code",
   "execution_count": 35,
   "id": "74f18369-6a0a-4cd8-a1cd-f1bf780a304f",
   "metadata": {},
   "outputs": [
    {
     "data": {
      "text/plain": [
       "2954.7856615252667"
      ]
     },
     "execution_count": 35,
     "metadata": {},
     "output_type": "execute_result"
    }
   ],
   "source": [
    "# RMSE (sklearn)\n",
    "from sklearn.metrics import mean_squared_error\n",
    "import numpy as np\n",
    "import pandas as pd\n",
    "\n",
    "pred_train_pandas = pred_train.toPandas()\n",
    "np.sqrt(mean_squared_error(pred_train_pandas[\"balance\"], pred_train_pandas[\"prediction\"]))"
   ]
  },
  {
   "cell_type": "code",
   "execution_count": 36,
   "id": "d9db3aaf-af58-408f-865b-cb065d2fc9af",
   "metadata": {},
   "outputs": [
    {
     "data": {
      "text/html": [
       "<div>\n",
       "<style scoped>\n",
       "    .dataframe tbody tr th:only-of-type {\n",
       "        vertical-align: middle;\n",
       "    }\n",
       "\n",
       "    .dataframe tbody tr th {\n",
       "        vertical-align: top;\n",
       "    }\n",
       "\n",
       "    .dataframe thead th {\n",
       "        text-align: right;\n",
       "    }\n",
       "</style>\n",
       "<table border=\"1\" class=\"dataframe\">\n",
       "  <thead>\n",
       "    <tr style=\"text-align: right;\">\n",
       "      <th></th>\n",
       "      <th>coefficients</th>\n",
       "    </tr>\n",
       "  </thead>\n",
       "  <tbody>\n",
       "    <tr>\n",
       "      <th>age</th>\n",
       "      <td>28.546092</td>\n",
       "    </tr>\n",
       "    <tr>\n",
       "      <th>campaign</th>\n",
       "      <td>-12.861213</td>\n",
       "    </tr>\n",
       "  </tbody>\n",
       "</table>\n",
       "</div>"
      ],
      "text/plain": [
       "          coefficients\n",
       "age          28.546092\n",
       "campaign    -12.861213"
      ]
     },
     "execution_count": 36,
     "metadata": {},
     "output_type": "execute_result"
    }
   ],
   "source": [
    "# 係数\n",
    "train_cols = train_df.columns\n",
    "train_cols.remove(target)\n",
    "pd.DataFrame(index=train_cols, data=model.stages[1].coefficients, columns=[\"coefficients\"])"
   ]
  },
  {
   "cell_type": "markdown",
   "id": "fd64ed71-b4dc-4993-9cb9-0e923c81507c",
   "metadata": {},
   "source": [
    "#### テストデータによる予測"
   ]
  },
  {
   "cell_type": "code",
   "execution_count": 37,
   "id": "e318b520-e38c-4661-bb2b-3828020f52ad",
   "metadata": {},
   "outputs": [
    {
     "name": "stdout",
     "output_type": "stream",
     "text": [
      "+---+-------+--------+\n",
      "|age|balance|campaign|\n",
      "+---+-------+--------+\n",
      "| 18|    108|       1|\n",
      "| 18|    108|       1|\n",
      "| 19|      0|       4|\n",
      "| 19|      4|       1|\n",
      "| 19|     27|      12|\n",
      "| 19|     55|       2|\n",
      "| 19|     56|       1|\n",
      "| 19|    291|       5|\n",
      "| 19|    329|       2|\n",
      "| 19|    372|       3|\n",
      "| 19|    424|       3|\n",
      "| 19|    608|       1|\n",
      "| 19|   1169|      18|\n",
      "| 19|   1247|       1|\n",
      "| 19|   1803|       1|\n",
      "| 20|      0|       5|\n",
      "| 20|     66|       2|\n",
      "| 20|     88|       1|\n",
      "| 20|    167|       1|\n",
      "| 20|    215|       1|\n",
      "+---+-------+--------+\n",
      "only showing top 20 rows\n",
      "\n"
     ]
    }
   ],
   "source": [
    "test_df.show()"
   ]
  },
  {
   "cell_type": "code",
   "execution_count": 38,
   "id": "16a5203c-fbf5-477c-8bdd-734c021b0e3d",
   "metadata": {},
   "outputs": [
    {
     "data": {
      "text/plain": [
       "13535"
      ]
     },
     "execution_count": 38,
     "metadata": {},
     "output_type": "execute_result"
    }
   ],
   "source": [
    "test_df.count()"
   ]
  },
  {
   "cell_type": "code",
   "execution_count": 39,
   "id": "108f2dac-620c-406f-8ba4-a252f08df327",
   "metadata": {},
   "outputs": [
    {
     "name": "stdout",
     "output_type": "stream",
     "text": [
      "+---+-------+--------+-----------+-----------------+\n",
      "|age|balance|campaign|   features|       prediction|\n",
      "+---+-------+--------+-----------+-----------------+\n",
      "| 18|    108|       1| [18.0,1.0]|723.7064702721568|\n",
      "| 18|    108|       1| [18.0,1.0]|723.7064702721568|\n",
      "| 19|      0|       4| [19.0,4.0]|713.6689233623077|\n",
      "| 19|      4|       1| [19.0,1.0]|752.2525623751833|\n",
      "| 19|     27|      12|[19.0,12.0]|610.7792193279731|\n",
      "| 19|     55|       2| [19.0,2.0]|739.3913493708915|\n",
      "| 19|     56|       1| [19.0,1.0]|752.2525623751833|\n",
      "| 19|    291|       5| [19.0,5.0]|700.8077103580159|\n",
      "| 19|    329|       2| [19.0,2.0]|739.3913493708915|\n",
      "| 19|    372|       3| [19.0,3.0]|726.5301363665997|\n",
      "| 19|    424|       3| [19.0,3.0]|726.5301363665997|\n",
      "| 19|    608|       1| [19.0,1.0]|752.2525623751833|\n",
      "| 19|   1169|      18|[19.0,18.0]|533.6119413022222|\n",
      "| 19|   1247|       1| [19.0,1.0]|752.2525623751833|\n",
      "| 19|   1803|       1| [19.0,1.0]|752.2525623751833|\n",
      "| 20|      0|       5| [20.0,5.0]|729.3538024610425|\n",
      "| 20|     66|       2| [20.0,2.0]|767.9374414739179|\n",
      "| 20|     88|       1| [20.0,1.0]|780.7986544782098|\n",
      "| 20|    167|       1| [20.0,1.0]|780.7986544782098|\n",
      "| 20|    215|       1| [20.0,1.0]|780.7986544782098|\n",
      "+---+-------+--------+-----------+-----------------+\n",
      "only showing top 20 rows\n",
      "\n"
     ]
    }
   ],
   "source": [
    "pred_test = model.transform(test_df)\n",
    "pred_test.show()"
   ]
  },
  {
   "cell_type": "code",
   "execution_count": 40,
   "id": "e8153bec-71d4-4f1f-bd00-14081a930bfd",
   "metadata": {},
   "outputs": [
    {
     "data": {
      "text/plain": [
       "3198.525889052522"
      ]
     },
     "execution_count": 40,
     "metadata": {},
     "output_type": "execute_result"
    }
   ],
   "source": [
    "# RMSE (sklearn)\n",
    "pred_test_pandas = pred_test.toPandas()\n",
    "np.sqrt(mean_squared_error(pred_test_pandas[\"balance\"], pred_test_pandas[\"prediction\"]))"
   ]
  }
 ],
 "metadata": {
  "kernelspec": {
   "display_name": "Python 3 (ipykernel)",
   "language": "python",
   "name": "python3"
  },
  "language_info": {
   "codemirror_mode": {
    "name": "ipython",
    "version": 3
   },
   "file_extension": ".py",
   "mimetype": "text/x-python",
   "name": "python",
   "nbconvert_exporter": "python",
   "pygments_lexer": "ipython3",
   "version": "3.11.6"
  }
 },
 "nbformat": 4,
 "nbformat_minor": 5
}
