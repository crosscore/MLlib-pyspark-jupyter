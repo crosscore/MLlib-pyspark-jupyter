{
 "cells": [
  {
   "cell_type": "code",
   "execution_count": 1,
   "id": "301e0b67-f464-47af-82ec-33134273451f",
   "metadata": {},
   "outputs": [],
   "source": [
    "from pyspark.sql import SparkSession\n",
    "import psycopg2\n",
    "import os\n",
    "os.environ['PYSPARK_SUBMIT_ARGS'] = '--jars /usr/local/spark/jars/postgresql-42.7.3.jar pyspark-shell'"
   ]
  },
  {
   "cell_type": "code",
   "execution_count": 2,
   "id": "ed1a8893-dee9-4f2b-8d84-c6c15a1b6ae8",
   "metadata": {},
   "outputs": [],
   "source": [
    "spark = SparkSession.builder \\\n",
    "    .appName(\"PostgreSQL JDBC Example\") \\\n",
    "    .getOrCreate()"
   ]
  },
  {
   "cell_type": "code",
   "execution_count": 3,
   "id": "b6705906-adec-4c50-868f-6902435534a2",
   "metadata": {},
   "outputs": [],
   "source": [
    "df = spark.read \\\n",
    "    .format(\"csv\") \\\n",
    "    .option(\"header\", \"true\") \\\n",
    "    .option(\"inferSchema\", \"true\") \\\n",
    "    .load(\"./data/Online_Retail.csv\")"
   ]
  },
  {
   "cell_type": "code",
   "execution_count": 4,
   "id": "931431d2-4816-4d47-a75a-3b123bec2f38",
   "metadata": {},
   "outputs": [
    {
     "name": "stdout",
     "output_type": "stream",
     "text": [
      "+---------+---------+--------------------+--------+-------------------+---------+----------+--------------+\n",
      "|InvoiceNo|StockCode|         Description|Quantity|        InvoiceDate|UnitPrice|CustomerID|       Country|\n",
      "+---------+---------+--------------------+--------+-------------------+---------+----------+--------------+\n",
      "|   536365|   85123A|WHITE HANGING HEA...|       6|2010-12-01 08:26:00|     2.55|     17850|United Kingdom|\n",
      "|   536365|    71053| WHITE METAL LANTERN|       6|2010-12-01 08:26:00|     3.39|     17850|United Kingdom|\n",
      "|   536365|   84406B|CREAM CUPID HEART...|       8|2010-12-01 08:26:00|     2.75|     17850|United Kingdom|\n",
      "|   536365|   84029G|KNITTED UNION FLA...|       6|2010-12-01 08:26:00|     3.39|     17850|United Kingdom|\n",
      "|   536365|   84029E|RED WOOLLY HOTTIE...|       6|2010-12-01 08:26:00|     3.39|     17850|United Kingdom|\n",
      "|   536365|    22752|SET 7 BABUSHKA NE...|       2|2010-12-01 08:26:00|     7.65|     17850|United Kingdom|\n",
      "|   536365|    21730|GLASS STAR FROSTE...|       6|2010-12-01 08:26:00|     4.25|     17850|United Kingdom|\n",
      "|   536366|    22633|HAND WARMER UNION...|       6|2010-12-01 08:28:00|     1.85|     17850|United Kingdom|\n",
      "|   536366|    22632|HAND WARMER RED P...|       6|2010-12-01 08:28:00|     1.85|     17850|United Kingdom|\n",
      "|   536367|    84879|ASSORTED COLOUR B...|      32|2010-12-01 08:34:00|     1.69|     13047|United Kingdom|\n",
      "|   536367|    22745|POPPY'S PLAYHOUSE...|       6|2010-12-01 08:34:00|      2.1|     13047|United Kingdom|\n",
      "|   536367|    22748|POPPY'S PLAYHOUSE...|       6|2010-12-01 08:34:00|      2.1|     13047|United Kingdom|\n",
      "|   536367|    22749|FELTCRAFT PRINCES...|       8|2010-12-01 08:34:00|     3.75|     13047|United Kingdom|\n",
      "|   536367|    22310|IVORY KNITTED MUG...|       6|2010-12-01 08:34:00|     1.65|     13047|United Kingdom|\n",
      "|   536367|    84969|BOX OF 6 ASSORTED...|       6|2010-12-01 08:34:00|     4.25|     13047|United Kingdom|\n",
      "|   536367|    22623|BOX OF VINTAGE JI...|       3|2010-12-01 08:34:00|     4.95|     13047|United Kingdom|\n",
      "|   536367|    22622|BOX OF VINTAGE AL...|       2|2010-12-01 08:34:00|     9.95|     13047|United Kingdom|\n",
      "|   536367|    21754|HOME BUILDING BLO...|       3|2010-12-01 08:34:00|     5.95|     13047|United Kingdom|\n",
      "|   536367|    21755|LOVE BUILDING BLO...|       3|2010-12-01 08:34:00|     5.95|     13047|United Kingdom|\n",
      "|   536367|    21777|RECIPE BOX WITH M...|       4|2010-12-01 08:34:00|     7.95|     13047|United Kingdom|\n",
      "+---------+---------+--------------------+--------+-------------------+---------+----------+--------------+\n",
      "only showing top 20 rows\n",
      "\n"
     ]
    }
   ],
   "source": [
    "df.show()"
   ]
  },
  {
   "cell_type": "code",
   "execution_count": 5,
   "id": "5f23085a-bba0-4d54-aa50-2e897cceca41",
   "metadata": {
    "scrolled": true
   },
   "outputs": [
    {
     "name": "stdout",
     "output_type": "stream",
     "text": [
      "+---------+---------+--------------------+--------+-------------------+---------+----------+--------------+------------------+\n",
      "|InvoiceNo|StockCode|         Description|Quantity|        InvoiceDate|UnitPrice|CustomerID|       Country|            Amount|\n",
      "+---------+---------+--------------------+--------+-------------------+---------+----------+--------------+------------------+\n",
      "|   536365|   85123A|WHITE HANGING HEA...|       6|2010-12-01 08:26:00|     2.55|     17850|United Kingdom|15.299999999999999|\n",
      "|   536365|    71053| WHITE METAL LANTERN|       6|2010-12-01 08:26:00|     3.39|     17850|United Kingdom|             20.34|\n",
      "|   536365|   84406B|CREAM CUPID HEART...|       8|2010-12-01 08:26:00|     2.75|     17850|United Kingdom|              22.0|\n",
      "|   536365|   84029G|KNITTED UNION FLA...|       6|2010-12-01 08:26:00|     3.39|     17850|United Kingdom|             20.34|\n",
      "|   536365|   84029E|RED WOOLLY HOTTIE...|       6|2010-12-01 08:26:00|     3.39|     17850|United Kingdom|             20.34|\n",
      "|   536365|    22752|SET 7 BABUSHKA NE...|       2|2010-12-01 08:26:00|     7.65|     17850|United Kingdom|              15.3|\n",
      "|   536365|    21730|GLASS STAR FROSTE...|       6|2010-12-01 08:26:00|     4.25|     17850|United Kingdom|              25.5|\n",
      "|   536366|    22633|HAND WARMER UNION...|       6|2010-12-01 08:28:00|     1.85|     17850|United Kingdom|11.100000000000001|\n",
      "|   536366|    22632|HAND WARMER RED P...|       6|2010-12-01 08:28:00|     1.85|     17850|United Kingdom|11.100000000000001|\n",
      "|   536367|    84879|ASSORTED COLOUR B...|      32|2010-12-01 08:34:00|     1.69|     13047|United Kingdom|             54.08|\n",
      "|   536367|    22745|POPPY'S PLAYHOUSE...|       6|2010-12-01 08:34:00|      2.1|     13047|United Kingdom|12.600000000000001|\n",
      "|   536367|    22748|POPPY'S PLAYHOUSE...|       6|2010-12-01 08:34:00|      2.1|     13047|United Kingdom|12.600000000000001|\n",
      "|   536367|    22749|FELTCRAFT PRINCES...|       8|2010-12-01 08:34:00|     3.75|     13047|United Kingdom|              30.0|\n",
      "|   536367|    22310|IVORY KNITTED MUG...|       6|2010-12-01 08:34:00|     1.65|     13047|United Kingdom| 9.899999999999999|\n",
      "|   536367|    84969|BOX OF 6 ASSORTED...|       6|2010-12-01 08:34:00|     4.25|     13047|United Kingdom|              25.5|\n",
      "|   536367|    22623|BOX OF VINTAGE JI...|       3|2010-12-01 08:34:00|     4.95|     13047|United Kingdom|14.850000000000001|\n",
      "|   536367|    22622|BOX OF VINTAGE AL...|       2|2010-12-01 08:34:00|     9.95|     13047|United Kingdom|              19.9|\n",
      "|   536367|    21754|HOME BUILDING BLO...|       3|2010-12-01 08:34:00|     5.95|     13047|United Kingdom|             17.85|\n",
      "|   536367|    21755|LOVE BUILDING BLO...|       3|2010-12-01 08:34:00|     5.95|     13047|United Kingdom|             17.85|\n",
      "|   536367|    21777|RECIPE BOX WITH M...|       4|2010-12-01 08:34:00|     7.95|     13047|United Kingdom|              31.8|\n",
      "+---------+---------+--------------------+--------+-------------------+---------+----------+--------------+------------------+\n",
      "only showing top 20 rows\n",
      "\n"
     ]
    }
   ],
   "source": [
    "df = df.withColumn(\"Amount\", df['Quantity'] * df['UnitPrice'])\n",
    "df.show()"
   ]
  },
  {
   "cell_type": "code",
   "execution_count": 6,
   "id": "2b5d80e7-4eb2-4642-b14f-cc098b2bbb96",
   "metadata": {},
   "outputs": [],
   "source": [
    "conn = psycopg2.connect(\n",
    "    host=\"postgres\",\n",
    "    database=\"my_database\",\n",
    "    user=\"my_username\",\n",
    "    password=\"my_password\"\n",
    ")"
   ]
  },
  {
   "cell_type": "code",
   "execution_count": 7,
   "id": "cda1cd05-e66a-4430-ae11-705106fe6f56",
   "metadata": {},
   "outputs": [],
   "source": [
    "cur = conn.cursor()"
   ]
  },
  {
   "cell_type": "code",
   "execution_count": 8,
   "id": "e9612d16-2617-4f50-a59c-73eae22fd1d2",
   "metadata": {},
   "outputs": [],
   "source": [
    "cur.execute(\"\"\"\n",
    "   CREATE TABLE IF NOT EXISTS sales (\n",
    "       InvoiceNo VARCHAR(255),\n",
    "       StockCode VARCHAR(255),\n",
    "       Description VARCHAR(255),\n",
    "       Quantity INTEGER,\n",
    "       InvoiceDate DATE,\n",
    "       UnitPrice FLOAT,\n",
    "       CustomerID INTEGER,\n",
    "       Country VARCHAR(255),\n",
    "       Amount FLOAT\n",
    "   ) \n",
    "\"\"\")"
   ]
  },
  {
   "cell_type": "code",
   "execution_count": 9,
   "id": "3cd04daa-694a-4126-a69b-514be711f474",
   "metadata": {},
   "outputs": [],
   "source": [
    "conn.commit()\n",
    "cur.close()\n",
    "conn.close()"
   ]
  },
  {
   "cell_type": "code",
   "execution_count": 10,
   "id": "be8d6ba2-5570-4f09-9d58-400670f858f0",
   "metadata": {},
   "outputs": [],
   "source": [
    "def insert_data(df, table_name):\n",
    "    df.write \\\n",
    "        .format(\"jdbc\") \\\n",
    "        .option(\"url\", \"jdbc:postgresql://postgres:5432/my_database\") \\\n",
    "        .option(\"dbtable\", table_name) \\\n",
    "        .option(\"user\", \"my_username\") \\\n",
    "        .option(\"password\", \"my_password\") \\\n",
    "        .mode(\"append\") \\\n",
    "        .save()"
   ]
  },
  {
   "cell_type": "code",
   "execution_count": 11,
   "id": "42721e92-67ad-4436-a4fa-b09e0eef37a2",
   "metadata": {},
   "outputs": [],
   "source": [
    "insert_data(df, \"sales\")"
   ]
  },
  {
   "cell_type": "code",
   "execution_count": 12,
   "id": "d0d1d333-a6b6-4ea9-8bf6-bdffa0128c79",
   "metadata": {},
   "outputs": [],
   "source": [
    "query = \"SELECT * FROM sales\""
   ]
  },
  {
   "cell_type": "code",
   "execution_count": 13,
   "id": "13a572c7-3500-4100-9e73-7952645d02bc",
   "metadata": {},
   "outputs": [],
   "source": [
    "df = spark.read \\\n",
    "    .format(\"jdbc\") \\\n",
    "    .option(\"url\", \"jdbc:postgresql://postgres:5432/my_database\") \\\n",
    "    .option(\"dbtable\", f\"({query}) as tmp\") \\\n",
    "    .option(\"user\", \"my_username\") \\\n",
    "    .option(\"password\", \"my_password\") \\\n",
    "    .load()"
   ]
  },
  {
   "cell_type": "code",
   "execution_count": 14,
   "id": "4bd2ec16-534b-4002-b47e-8227c2fc8639",
   "metadata": {},
   "outputs": [
    {
     "name": "stdout",
     "output_type": "stream",
     "text": [
      "+---------+---------+----------------------------------+--------+-----------+---------+----------+--------------+------------------+\n",
      "|invoiceno|stockcode|description                       |quantity|invoicedate|unitprice|customerid|country       |amount            |\n",
      "+---------+---------+----------------------------------+--------+-----------+---------+----------+--------------+------------------+\n",
      "|562847   |21114    |LAVENDER SCENTED FABRIC HEART     |10      |2011-08-10 |1.25     |16245     |United Kingdom|12.5              |\n",
      "|562847   |21533    |RETROSPOT LARGE MILK JUG          |3       |2011-08-10 |4.95     |16245     |United Kingdom|14.850000000000001|\n",
      "|562847   |23015    |CORDIAL GLASS JUG                 |2       |2011-08-10 |8.25     |16245     |United Kingdom|16.5              |\n",
      "|562847   |22759    |SET OF 3 NOTEBOOKS IN PARCEL      |12      |2011-08-10 |1.65     |16245     |United Kingdom|19.799999999999997|\n",
      "|562847   |20983    |12 PENCILS TALL TUBE RED RETROSPOT|12      |2011-08-10 |0.85     |16245     |United Kingdom|10.2              |\n",
      "|562847   |21060    |PARTY INVITES BALLOON GIRL        |12      |2011-08-10 |0.85     |16245     |United Kingdom|10.2              |\n",
      "|562847   |21059    |PARTY INVITES DINOSAURS           |12      |2011-08-10 |0.85     |16245     |United Kingdom|10.2              |\n",
      "|562847   |84580    |MOUSE TOY WITH PINK T-SHIRT       |4       |2011-08-10 |3.75     |16245     |United Kingdom|15.0              |\n",
      "|C562848  |22990    |COTTON APRON PANTRY DESIGN        |-4      |2011-08-10 |4.95     |15201     |United Kingdom|-19.8             |\n",
      "|562849   |21314    |SMALL GLASS HEART TRINKET POT     |8       |2011-08-10 |2.1      |16700     |United Kingdom|16.8              |\n",
      "|562849   |22713    |CARD I LOVE LONDON                |24      |2011-08-10 |0.42     |16700     |United Kingdom|10.08             |\n",
      "|562849   |22616    |PACK OF 12 LONDON TISSUES         |24      |2011-08-10 |0.29     |16700     |United Kingdom|6.959999999999999 |\n",
      "|562849   |23347    |I LOVE LONDON BEAKER              |12      |2011-08-10 |1.25     |16700     |United Kingdom|15.0              |\n",
      "|562849   |15036    |ASSORTED COLOURS SILK FAN         |24      |2011-08-10 |0.83     |16700     |United Kingdom|19.919999999999998|\n",
      "|562849   |22662    |LUNCH BAG DOLLY GIRL DESIGN       |10      |2011-08-10 |1.65     |16700     |United Kingdom|16.5              |\n",
      "|562849   |23207    |LUNCH BAG ALPHABET DESIGN         |10      |2011-08-10 |1.65     |16700     |United Kingdom|16.5              |\n",
      "|562849   |23201    |JUMBO BAG ALPHABET                |10      |2011-08-10 |2.08     |16700     |United Kingdom|20.8              |\n",
      "|562849   |85099B   |JUMBO BAG RED RETROSPOT           |10      |2011-08-10 |2.08     |16700     |United Kingdom|20.8              |\n",
      "|562849   |23546    |WRAP PAISLEY PARK                 |25      |2011-08-10 |0.42     |16700     |United Kingdom|10.5              |\n",
      "|562849   |23547    |WRAP FLOWER SHOP                  |25      |2011-08-10 |0.42     |16700     |United Kingdom|10.5              |\n",
      "+---------+---------+----------------------------------+--------+-----------+---------+----------+--------------+------------------+\n",
      "only showing top 20 rows\n",
      "\n"
     ]
    }
   ],
   "source": [
    "df.show(truncate=False)"
   ]
  },
  {
   "cell_type": "code",
   "execution_count": 15,
   "id": "9376b5cd-470d-4fed-9558-f94b7f7e5a0d",
   "metadata": {},
   "outputs": [],
   "source": [
    "from pyspark.sql.types import DateType\n",
    "from pyspark.sql.functions import to_date\n",
    "\n",
    "# 例：新しいデータを保存\n",
    "new_data = [(\"536380\", \"85123A\", \"WHITE HANGING HEART T-LIGHT HOLDER\", 12, \"2010-12-02\", 2.55, 17850, \"United Kingdom\", 30.6)]\n",
    "new_df = spark.createDataFrame(new_data, [\"InvoiceNo\", \"StockCode\", \"Description\", \"Quantity\", \"InvoiceDate\", \"UnitPrice\", \"CustomerID\", \"Country\", \"Amount\"])\n",
    "\n",
    "# InvoiceDateカラムをdate型に変換\n",
    "new_df = new_df.withColumn(\"InvoiceDate\", to_date(new_df[\"InvoiceDate\"], \"yyyy-MM-dd\"))\n",
    "\n",
    "insert_data(new_df, \"sales\")"
   ]
  },
  {
   "cell_type": "code",
   "execution_count": 16,
   "id": "29b2f187-0151-4eee-8acd-b5527a5da79f",
   "metadata": {},
   "outputs": [],
   "source": [
    "# 検索（SELECT）\n",
    "def select_data(table_name, condition=None):\n",
    "    if condition:\n",
    "        query = f\"(SELECT * FROM {table_name} WHERE {condition}) AS tmp\"\n",
    "    else:\n",
    "        query = f\"(SELECT * FROM {table_name}) AS tmp\"\n",
    "    \n",
    "    return spark.read \\\n",
    "        .format(\"jdbc\") \\\n",
    "        .option(\"url\", \"jdbc:postgresql://postgres:5432/my_database\") \\\n",
    "        .option(\"dbtable\", query) \\\n",
    "        .option(\"user\", \"my_username\") \\\n",
    "        .option(\"password\", \"my_password\") \\\n",
    "        .load()"
   ]
  },
  {
   "cell_type": "code",
   "execution_count": 19,
   "id": "9982ec14-410e-474c-bb86-36dc244bd67e",
   "metadata": {},
   "outputs": [
    {
     "name": "stdout",
     "output_type": "stream",
     "text": [
      "+---------+---------+----------------------------------+--------+-----------+---------+----------+--------------+------+\n",
      "|invoiceno|stockcode|description                       |quantity|invoicedate|unitprice|customerid|country       |amount|\n",
      "+---------+---------+----------------------------------+--------+-----------+---------+----------+--------------+------+\n",
      "|536380   |22961    |JAM MAKING SET PRINTED            |24      |2010-12-01 |1.45     |17809     |United Kingdom|34.8  |\n",
      "|536380   |85123A   |WHITE HANGING HEART T-LIGHT HOLDER|12      |2010-12-02 |2.55     |17850     |United Kingdom|30.6  |\n",
      "|536380   |85123A   |WHITE HANGING HEART T-LIGHT HOLDER|12      |2010-12-02 |2.55     |17850     |United Kingdom|30.6  |\n",
      "|536380   |22961    |JAM MAKING SET PRINTED            |24      |2010-12-01 |1.45     |17809     |United Kingdom|34.8  |\n",
      "|536380   |22961    |JAM MAKING SET PRINTED            |24      |2010-12-01 |1.45     |17809     |United Kingdom|34.8  |\n",
      "+---------+---------+----------------------------------+--------+-----------+---------+----------+--------------+------+\n",
      "\n"
     ]
    }
   ],
   "source": [
    "search_condition = \"InvoiceNo = '536380'\"\n",
    "result_df = select_data(\"sales\", search_condition)\n",
    "result_df.show(truncate=False)"
   ]
  },
  {
   "cell_type": "code",
   "execution_count": null,
   "id": "cd94496a-1737-41f2-9350-ae5665f1aba0",
   "metadata": {},
   "outputs": [],
   "source": []
  },
  {
   "cell_type": "code",
   "execution_count": null,
   "id": "6b40c343-9ed2-47a2-838c-44aaf1978c9c",
   "metadata": {},
   "outputs": [],
   "source": []
  },
  {
   "cell_type": "code",
   "execution_count": null,
   "id": "bca2b923-5519-4fbd-b3b3-8bf66209b6cc",
   "metadata": {},
   "outputs": [],
   "source": []
  }
 ],
 "metadata": {
  "kernelspec": {
   "display_name": "Python 3 (ipykernel)",
   "language": "python",
   "name": "python3"
  },
  "language_info": {
   "codemirror_mode": {
    "name": "ipython",
    "version": 3
   },
   "file_extension": ".py",
   "mimetype": "text/x-python",
   "name": "python",
   "nbconvert_exporter": "python",
   "pygments_lexer": "ipython3",
   "version": "3.11.6"
  }
 },
 "nbformat": 4,
 "nbformat_minor": 5
}
