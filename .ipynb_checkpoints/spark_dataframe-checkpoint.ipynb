{
 "cells": [
  {
   "cell_type": "code",
   "execution_count": 1,
   "id": "739f85c8-2b5e-4b52-b47a-ac2765f5f4e3",
   "metadata": {},
   "outputs": [],
   "source": [
    "from pyspark.sql import SparkSession"
   ]
  },
  {
   "cell_type": "code",
   "execution_count": 3,
   "id": "6b0a0fcf-c7de-4be2-8393-1927e0445472",
   "metadata": {},
   "outputs": [],
   "source": [
    "spark = SparkSession.builder.appName(\"Data_wrangling\").getOrCreate()"
   ]
  },
  {
   "cell_type": "code",
   "execution_count": 4,
   "id": "cc47ec4f-a837-47f8-8d46-5638b8edaf4e",
   "metadata": {},
   "outputs": [],
   "source": [
    "df = spark.read.format(\"csv\") \\\n",
    "    .option(\"inferSchema\", \"True\") \\\n",
    "    .option(\"header\", \"True\") \\\n",
    "    .option(\"sep\", \",\") \\\n",
    "    .load(\"./data/Online_Retail.csv\")"
   ]
  },
  {
   "cell_type": "code",
   "execution_count": 5,
   "id": "d94743fd-6a1f-4ea9-975e-e0019c02dbd8",
   "metadata": {},
   "outputs": [
    {
     "data": {
      "text/plain": [
       "DataFrame[InvoiceNo: string, StockCode: string, Description: string, Quantity: int, InvoiceDate: timestamp, UnitPrice: double, CustomerID: int, Country: string]"
      ]
     },
     "execution_count": 5,
     "metadata": {},
     "output_type": "execute_result"
    }
   ],
   "source": [
    "df"
   ]
  },
  {
   "cell_type": "code",
   "execution_count": 6,
   "id": "0f2c4462-2b71-4a2c-bf6e-2a2876555c6d",
   "metadata": {},
   "outputs": [
    {
     "name": "stdout",
     "output_type": "stream",
     "text": [
      "+---------+---------+--------------------+--------+-------------------+---------+----------+--------------+\n",
      "|InvoiceNo|StockCode|         Description|Quantity|        InvoiceDate|UnitPrice|CustomerID|       Country|\n",
      "+---------+---------+--------------------+--------+-------------------+---------+----------+--------------+\n",
      "|   536365|   85123A|WHITE HANGING HEA...|       6|2010-12-01 08:26:00|     2.55|     17850|United Kingdom|\n",
      "|   536365|    71053| WHITE METAL LANTERN|       6|2010-12-01 08:26:00|     3.39|     17850|United Kingdom|\n",
      "|   536365|   84406B|CREAM CUPID HEART...|       8|2010-12-01 08:26:00|     2.75|     17850|United Kingdom|\n",
      "|   536365|   84029G|KNITTED UNION FLA...|       6|2010-12-01 08:26:00|     3.39|     17850|United Kingdom|\n",
      "|   536365|   84029E|RED WOOLLY HOTTIE...|       6|2010-12-01 08:26:00|     3.39|     17850|United Kingdom|\n",
      "|   536365|    22752|SET 7 BABUSHKA NE...|       2|2010-12-01 08:26:00|     7.65|     17850|United Kingdom|\n",
      "|   536365|    21730|GLASS STAR FROSTE...|       6|2010-12-01 08:26:00|     4.25|     17850|United Kingdom|\n",
      "|   536366|    22633|HAND WARMER UNION...|       6|2010-12-01 08:28:00|     1.85|     17850|United Kingdom|\n",
      "|   536366|    22632|HAND WARMER RED P...|       6|2010-12-01 08:28:00|     1.85|     17850|United Kingdom|\n",
      "|   536367|    84879|ASSORTED COLOUR B...|      32|2010-12-01 08:34:00|     1.69|     13047|United Kingdom|\n",
      "|   536367|    22745|POPPY'S PLAYHOUSE...|       6|2010-12-01 08:34:00|      2.1|     13047|United Kingdom|\n",
      "|   536367|    22748|POPPY'S PLAYHOUSE...|       6|2010-12-01 08:34:00|      2.1|     13047|United Kingdom|\n",
      "|   536367|    22749|FELTCRAFT PRINCES...|       8|2010-12-01 08:34:00|     3.75|     13047|United Kingdom|\n",
      "|   536367|    22310|IVORY KNITTED MUG...|       6|2010-12-01 08:34:00|     1.65|     13047|United Kingdom|\n",
      "|   536367|    84969|BOX OF 6 ASSORTED...|       6|2010-12-01 08:34:00|     4.25|     13047|United Kingdom|\n",
      "|   536367|    22623|BOX OF VINTAGE JI...|       3|2010-12-01 08:34:00|     4.95|     13047|United Kingdom|\n",
      "|   536367|    22622|BOX OF VINTAGE AL...|       2|2010-12-01 08:34:00|     9.95|     13047|United Kingdom|\n",
      "|   536367|    21754|HOME BUILDING BLO...|       3|2010-12-01 08:34:00|     5.95|     13047|United Kingdom|\n",
      "|   536367|    21755|LOVE BUILDING BLO...|       3|2010-12-01 08:34:00|     5.95|     13047|United Kingdom|\n",
      "|   536367|    21777|RECIPE BOX WITH M...|       4|2010-12-01 08:34:00|     7.95|     13047|United Kingdom|\n",
      "+---------+---------+--------------------+--------+-------------------+---------+----------+--------------+\n",
      "only showing top 20 rows\n",
      "\n"
     ]
    }
   ],
   "source": [
    "df.show()"
   ]
  },
  {
   "cell_type": "code",
   "execution_count": 9,
   "id": "639057c9-b2b3-4384-b9b1-f78df84615d2",
   "metadata": {},
   "outputs": [
    {
     "data": {
      "text/plain": [
       "pyspark.sql.dataframe.DataFrame"
      ]
     },
     "execution_count": 9,
     "metadata": {},
     "output_type": "execute_result"
    }
   ],
   "source": [
    "type(df)"
   ]
  },
  {
   "cell_type": "code",
   "execution_count": 10,
   "id": "fa771d75-925c-4390-95df-343e4c9cc699",
   "metadata": {},
   "outputs": [
    {
     "name": "stdout",
     "output_type": "stream",
     "text": [
      "root\n",
      " |-- InvoiceNo: string (nullable = true)\n",
      " |-- StockCode: string (nullable = true)\n",
      " |-- Description: string (nullable = true)\n",
      " |-- Quantity: integer (nullable = true)\n",
      " |-- InvoiceDate: timestamp (nullable = true)\n",
      " |-- UnitPrice: double (nullable = true)\n",
      " |-- CustomerID: integer (nullable = true)\n",
      " |-- Country: string (nullable = true)\n",
      "\n"
     ]
    }
   ],
   "source": [
    "df.printSchema()"
   ]
  },
  {
   "cell_type": "markdown",
   "id": "490f5e66-43e7-4682-bb85-5395207a4642",
   "metadata": {},
   "source": [
    "# スキーマを指定してファイル読み込み"
   ]
  },
  {
   "cell_type": "code",
   "execution_count": 13,
   "id": "ebaa06fc-d906-46a1-a49d-14e582f49d11",
   "metadata": {},
   "outputs": [],
   "source": [
    "from pyspark.sql.types import StructType, StructField, StringType, IntegerType, FloatType, DateType"
   ]
  },
  {
   "cell_type": "code",
   "execution_count": 14,
   "id": "65f1c803-60f9-415c-a5f3-90e6b1349904",
   "metadata": {},
   "outputs": [
    {
     "data": {
      "text/plain": [
       "'3.5.0'"
      ]
     },
     "execution_count": 14,
     "metadata": {},
     "output_type": "execute_result"
    }
   ],
   "source": [
    "spark.version"
   ]
  },
  {
   "cell_type": "code",
   "execution_count": 19,
   "id": "2e174cd2-2bca-4c5c-a698-b85cda08ee77",
   "metadata": {},
   "outputs": [],
   "source": [
    "schema = StructType([\n",
    "    StructField(\"InvoiceNo\", StringType(), False),\n",
    "    StructField(\"StockCode\", StringType(), False),\n",
    "    StructField(\"Description\", StringType(), False),\n",
    "    StructField(\"Quantity\", IntegerType(), False),\n",
    "    StructField(\"InvoiceDate\", DateType(), False),\n",
    "    StructField(\"UnitPrice\", FloatType(), False),\n",
    "    StructField(\"CustomerID\", IntegerType(), False),\n",
    "    StructField(\"Country\", StringType(), False)\n",
    "])"
   ]
  },
  {
   "cell_type": "code",
   "execution_count": 20,
   "id": "083a468b-ea17-4125-84cf-d3eb6bed769c",
   "metadata": {},
   "outputs": [],
   "source": [
    "df = spark.read.format(\"csv\") \\\n",
    "    .option(\"header\", \"True\") \\\n",
    "    .option(\"sep\", \",\") \\\n",
    "    .load(\"./data/Online_Retail.csv\", schema=schema)"
   ]
  },
  {
   "cell_type": "code",
   "execution_count": 32,
   "id": "f7b6f064-ae4b-47fe-adf0-d8f331d24fa8",
   "metadata": {},
   "outputs": [
    {
     "name": "stdout",
     "output_type": "stream",
     "text": [
      "+---------+---------+-----------------------------------+--------+-----------+---------+----------+--------------+\n",
      "|InvoiceNo|StockCode|Description                        |Quantity|InvoiceDate|UnitPrice|CustomerID|Country       |\n",
      "+---------+---------+-----------------------------------+--------+-----------+---------+----------+--------------+\n",
      "|536365   |85123A   |WHITE HANGING HEART T-LIGHT HOLDER |6       |2010-12-01 |2.55     |17850     |United Kingdom|\n",
      "|536365   |71053    |WHITE METAL LANTERN                |6       |2010-12-01 |3.39     |17850     |United Kingdom|\n",
      "|536365   |84406B   |CREAM CUPID HEARTS COAT HANGER     |8       |2010-12-01 |2.75     |17850     |United Kingdom|\n",
      "|536365   |84029G   |KNITTED UNION FLAG HOT WATER BOTTLE|6       |2010-12-01 |3.39     |17850     |United Kingdom|\n",
      "|536365   |84029E   |RED WOOLLY HOTTIE WHITE HEART.     |6       |2010-12-01 |3.39     |17850     |United Kingdom|\n",
      "|536365   |22752    |SET 7 BABUSHKA NESTING BOXES       |2       |2010-12-01 |7.65     |17850     |United Kingdom|\n",
      "|536365   |21730    |GLASS STAR FROSTED T-LIGHT HOLDER  |6       |2010-12-01 |4.25     |17850     |United Kingdom|\n",
      "|536366   |22633    |HAND WARMER UNION JACK             |6       |2010-12-01 |1.85     |17850     |United Kingdom|\n",
      "|536366   |22632    |HAND WARMER RED POLKA DOT          |6       |2010-12-01 |1.85     |17850     |United Kingdom|\n",
      "|536367   |84879    |ASSORTED COLOUR BIRD ORNAMENT      |32      |2010-12-01 |1.69     |13047     |United Kingdom|\n",
      "|536367   |22745    |POPPY'S PLAYHOUSE BEDROOM          |6       |2010-12-01 |2.1      |13047     |United Kingdom|\n",
      "|536367   |22748    |POPPY'S PLAYHOUSE KITCHEN          |6       |2010-12-01 |2.1      |13047     |United Kingdom|\n",
      "|536367   |22749    |FELTCRAFT PRINCESS CHARLOTTE DOLL  |8       |2010-12-01 |3.75     |13047     |United Kingdom|\n",
      "|536367   |22310    |IVORY KNITTED MUG COSY             |6       |2010-12-01 |1.65     |13047     |United Kingdom|\n",
      "|536367   |84969    |BOX OF 6 ASSORTED COLOUR TEASPOONS |6       |2010-12-01 |4.25     |13047     |United Kingdom|\n",
      "|536367   |22623    |BOX OF VINTAGE JIGSAW BLOCKS       |3       |2010-12-01 |4.95     |13047     |United Kingdom|\n",
      "|536367   |22622    |BOX OF VINTAGE ALPHABET BLOCKS     |2       |2010-12-01 |9.95     |13047     |United Kingdom|\n",
      "|536367   |21754    |HOME BUILDING BLOCK WORD           |3       |2010-12-01 |5.95     |13047     |United Kingdom|\n",
      "|536367   |21755    |LOVE BUILDING BLOCK WORD           |3       |2010-12-01 |5.95     |13047     |United Kingdom|\n",
      "|536367   |21777    |RECIPE BOX WITH METAL HEART        |4       |2010-12-01 |7.95     |13047     |United Kingdom|\n",
      "+---------+---------+-----------------------------------+--------+-----------+---------+----------+--------------+\n",
      "only showing top 20 rows\n",
      "\n"
     ]
    }
   ],
   "source": [
    "df.show(truncate=False)"
   ]
  },
  {
   "cell_type": "code",
   "execution_count": 22,
   "id": "1ecf45fa-289e-47d2-80b5-2bd69a9418df",
   "metadata": {},
   "outputs": [
    {
     "data": {
      "text/plain": [
       "[('InvoiceNo', 'string'),\n",
       " ('StockCode', 'string'),\n",
       " ('Description', 'string'),\n",
       " ('Quantity', 'int'),\n",
       " ('InvoiceDate', 'date'),\n",
       " ('UnitPrice', 'float'),\n",
       " ('CustomerID', 'int'),\n",
       " ('Country', 'string')]"
      ]
     },
     "execution_count": 22,
     "metadata": {},
     "output_type": "execute_result"
    }
   ],
   "source": [
    "df.dtypes"
   ]
  },
  {
   "cell_type": "code",
   "execution_count": 23,
   "id": "88929fda-4d60-4260-a58a-84a23e562fc3",
   "metadata": {},
   "outputs": [
    {
     "name": "stdout",
     "output_type": "stream",
     "text": [
      "+---------+--------------------+\n",
      "|StockCode|         Description|\n",
      "+---------+--------------------+\n",
      "|   85123A|WHITE HANGING HEA...|\n",
      "|    71053| WHITE METAL LANTERN|\n",
      "|   84406B|CREAM CUPID HEART...|\n",
      "|   84029G|KNITTED UNION FLA...|\n",
      "|   84029E|RED WOOLLY HOTTIE...|\n",
      "|    22752|SET 7 BABUSHKA NE...|\n",
      "|    21730|GLASS STAR FROSTE...|\n",
      "|    22633|HAND WARMER UNION...|\n",
      "|    22632|HAND WARMER RED P...|\n",
      "|    84879|ASSORTED COLOUR B...|\n",
      "|    22745|POPPY'S PLAYHOUSE...|\n",
      "|    22748|POPPY'S PLAYHOUSE...|\n",
      "|    22749|FELTCRAFT PRINCES...|\n",
      "|    22310|IVORY KNITTED MUG...|\n",
      "|    84969|BOX OF 6 ASSORTED...|\n",
      "|    22623|BOX OF VINTAGE JI...|\n",
      "|    22622|BOX OF VINTAGE AL...|\n",
      "|    21754|HOME BUILDING BLO...|\n",
      "|    21755|LOVE BUILDING BLO...|\n",
      "|    21777|RECIPE BOX WITH M...|\n",
      "+---------+--------------------+\n",
      "only showing top 20 rows\n",
      "\n"
     ]
    }
   ],
   "source": [
    "df.select(\"StockCode\", \"Description\").show()"
   ]
  },
  {
   "cell_type": "code",
   "execution_count": 24,
   "id": "402d8263-2537-4cc7-8672-2b1a25845d27",
   "metadata": {},
   "outputs": [
    {
     "data": {
      "text/plain": [
       "541909"
      ]
     },
     "execution_count": 24,
     "metadata": {},
     "output_type": "execute_result"
    }
   ],
   "source": [
    "df.count()"
   ]
  },
  {
   "cell_type": "markdown",
   "id": "84003522-b33f-40fe-9faa-007ff08cf3d1",
   "metadata": {},
   "source": [
    "# filter: 条件を満たすレコードの抽出"
   ]
  },
  {
   "cell_type": "code",
   "execution_count": 25,
   "id": "1c9c1f02-90eb-4a01-a42d-04b8325c4ecf",
   "metadata": {},
   "outputs": [
    {
     "name": "stdout",
     "output_type": "stream",
     "text": [
      "+---------+---------+--------------------+--------+-----------+---------+----------+--------------+\n",
      "|InvoiceNo|StockCode|         Description|Quantity|InvoiceDate|UnitPrice|CustomerID|       Country|\n",
      "+---------+---------+--------------------+--------+-----------+---------+----------+--------------+\n",
      "|   536392|    22827|RUSTIC  SEVENTEEN...|       1| 2010-12-01|    165.0|     13705|United Kingdom|\n",
      "|   536396|    22803|IVORY EMBROIDERED...|       2| 2010-12-01|    35.75|     17850|United Kingdom|\n",
      "|   536406|    22803|IVORY EMBROIDERED...|       2| 2010-12-01|    35.75|     17850|United Kingdom|\n",
      "|   536540|       C2|            CARRIAGE|       1| 2010-12-01|     50.0|     14911|          EIRE|\n",
      "|   536544|    22769|CHALKBOARD KITCHE...|       1| 2010-12-01|    51.02|      NULL|United Kingdom|\n",
      "|   536544|    22847|BREAD BIN DINER S...|       1| 2010-12-01|     34.0|      NULL|United Kingdom|\n",
      "|   536544|      DOT|      DOTCOM POSTAGE|       1| 2010-12-01|   569.77|      NULL|United Kingdom|\n",
      "|   536592|    22503|CABIN BAG VINTAGE...|       1| 2010-12-01|    59.53|      NULL|United Kingdom|\n",
      "|   536592|    22946|WOODEN ADVENT CAL...|       1| 2010-12-01|     34.0|      NULL|United Kingdom|\n",
      "|   536592|    22947|WOODEN ADVENT CAL...|       1| 2010-12-01|     34.0|      NULL|United Kingdom|\n",
      "|   536592|      DOT|      DOTCOM POSTAGE|       1| 2010-12-01|   607.49|      NULL|United Kingdom|\n",
      "|   536600|    22803|IVORY EMBROIDERED...|       2| 2010-12-02|    35.75|     17850|United Kingdom|\n",
      "|   536676|    21769|VINTAGE POST OFFI...|       1| 2010-12-02|    79.95|     16752|United Kingdom|\n",
      "|   536685|    22803|IVORY EMBROIDERED...|       2| 2010-12-02|    35.75|     17850|United Kingdom|\n",
      "|   536690|    22803|IVORY EMBROIDERED...|       2| 2010-12-02|    35.75|     17850|United Kingdom|\n",
      "|   536750|    22803|IVORY EMBROIDERED...|       2| 2010-12-02|    35.75|     17850|United Kingdom|\n",
      "|   536752|    22803|IVORY EMBROIDERED...|       2| 2010-12-02|    35.75|     17850|United Kingdom|\n",
      "|   536790|    22803|IVORY EMBROIDERED...|       3| 2010-12-02|    35.75|     17850|United Kingdom|\n",
      "|   536835|    22655|VINTAGE RED KITCH...|       1| 2010-12-02|    295.0|     13145|United Kingdom|\n",
      "|   536858|     POST|             POSTAGE|       2| 2010-12-03|     40.0|     13520|   Switzerland|\n",
      "+---------+---------+--------------------+--------+-----------+---------+----------+--------------+\n",
      "only showing top 20 rows\n",
      "\n"
     ]
    }
   ],
   "source": [
    "df.filter(df['UnitPrice'] > 30).show()"
   ]
  },
  {
   "cell_type": "code",
   "execution_count": 26,
   "id": "c8399572-78a1-4fb8-944e-55f0715063e7",
   "metadata": {},
   "outputs": [
    {
     "name": "stdout",
     "output_type": "stream",
     "text": [
      "+---------+---------+--------------------+--------+-----------+---------+----------+-----------+\n",
      "|InvoiceNo|StockCode|         Description|Quantity|InvoiceDate|UnitPrice|CustomerID|    Country|\n",
      "+---------+---------+--------------------+--------+-----------+---------+----------+-----------+\n",
      "|   536858|    22326|ROUND SNACK BOXES...|      30| 2010-12-03|     2.95|     13520|Switzerland|\n",
      "|   536858|    22554|PLASTERS IN TIN W...|      36| 2010-12-03|     1.65|     13520|Switzerland|\n",
      "|   536858|    21731|RED TOADSTOOL LED...|      24| 2010-12-03|     1.65|     13520|Switzerland|\n",
      "|   536858|    20677|  PINK POLKADOT BOWL|      16| 2010-12-03|     1.25|     13520|Switzerland|\n",
      "|   536858|    20750|RED RETROSPOT MIN...|       2| 2010-12-03|     7.95|     13520|Switzerland|\n",
      "|   536858|     POST|             POSTAGE|       2| 2010-12-03|     40.0|     13520|Switzerland|\n",
      "|   539488|    22837|HOT WATER BOTTLE ...|       8| 2010-12-20|     4.65|     12377|Switzerland|\n",
      "|   539488|    22112|CHOCOLATE HOT WAT...|      16| 2010-12-20|     4.95|     12377|Switzerland|\n",
      "|   539488|    22953|BIRTHDAY BANNER TAPE|      24| 2010-12-20|     1.25|     12377|Switzerland|\n",
      "|   539488|    22813|PACK 3 BOXES BIRD...|      24| 2010-12-20|     1.95|     12377|Switzerland|\n",
      "|   539488|    22314|OFFICE MUG WARMER...|      12| 2010-12-20|     4.95|     12377|Switzerland|\n",
      "|   539488|    22190|      LOCAL CAFE MUG|      12| 2010-12-20|      2.1|     12377|Switzerland|\n",
      "|   539488|    22540|MINI JIGSAW CIRCU...|      24| 2010-12-20|     0.42|     12377|Switzerland|\n",
      "|   539488|    22544|MINI JIGSAW SPACEBOY|      24| 2010-12-20|     0.42|     12377|Switzerland|\n",
      "|   539488|    22546|  MINI JIGSAW PURDEY|      24| 2010-12-20|     0.42|     12377|Switzerland|\n",
      "|   539488|    22545| MINI JIGSAW BUNNIES|      24| 2010-12-20|     0.42|     12377|Switzerland|\n",
      "|   539488|    22539|MINI JIGSAW DOLLY...|      24| 2010-12-20|     0.42|     12377|Switzerland|\n",
      "|   539488|    22538|MINI JIGSAW GO TO...|      24| 2010-12-20|     0.42|     12377|Switzerland|\n",
      "|   539488|    22555|PLASTERS IN TIN S...|      12| 2010-12-20|     1.65|     12377|Switzerland|\n",
      "|   539488|    22556|PLASTERS IN TIN C...|      12| 2010-12-20|     1.65|     12377|Switzerland|\n",
      "+---------+---------+--------------------+--------+-----------+---------+----------+-----------+\n",
      "only showing top 20 rows\n",
      "\n"
     ]
    }
   ],
   "source": [
    "df.filter(df['Country']==\"Switzerland\").show()"
   ]
  },
  {
   "cell_type": "code",
   "execution_count": 27,
   "id": "ea709a0a-a0b5-41ee-b252-23a75214f5e0",
   "metadata": {},
   "outputs": [
    {
     "data": {
      "text/plain": [
       "2002"
      ]
     },
     "execution_count": 27,
     "metadata": {},
     "output_type": "execute_result"
    }
   ],
   "source": [
    "df.filter(df['Country']==\"Switzerland\").count()"
   ]
  },
  {
   "cell_type": "markdown",
   "id": "1bb3f828-ebd4-4944-a2f1-cc1ad3567a3e",
   "metadata": {},
   "source": [
    "# where: 条件を満たすレコードの抽出"
   ]
  },
  {
   "cell_type": "code",
   "execution_count": 30,
   "id": "a1ea9063-acc5-4ed7-8102-d63f64ded578",
   "metadata": {},
   "outputs": [
    {
     "name": "stdout",
     "output_type": "stream",
     "text": [
      "+---------+---------+-----------------------------------+--------+-----------+---------+----------+--------------+\n",
      "|InvoiceNo|StockCode|Description                        |Quantity|InvoiceDate|UnitPrice|CustomerID|Country       |\n",
      "+---------+---------+-----------------------------------+--------+-----------+---------+----------+--------------+\n",
      "|536365   |84029G   |KNITTED UNION FLAG HOT WATER BOTTLE|6       |2010-12-01 |3.39     |17850     |United Kingdom|\n",
      "|536373   |84029G   |KNITTED UNION FLAG HOT WATER BOTTLE|6       |2010-12-01 |3.39     |17850     |United Kingdom|\n",
      "|536375   |84029G   |KNITTED UNION FLAG HOT WATER BOTTLE|6       |2010-12-01 |3.39     |17850     |United Kingdom|\n",
      "|536376   |22114    |HOT WATER BOTTLE TEA AND SYMPATHY  |48      |2010-12-01 |3.45     |15291     |United Kingdom|\n",
      "|536390   |21485    |RETROSPOT HEART HOT WATER BOTTLE   |24      |2010-12-01 |4.25     |17511     |United Kingdom|\n",
      "|536390   |84029G   |KNITTED UNION FLAG HOT WATER BOTTLE|24      |2010-12-01 |3.39     |17511     |United Kingdom|\n",
      "|536390   |84030E   |ENGLISH ROSE HOT WATER BOTTLE      |24      |2010-12-01 |3.75     |17511     |United Kingdom|\n",
      "|C536391  |21484    |CHICK GREY HOT WATER BOTTLE        |-12     |2010-12-01 |3.45     |17548     |United Kingdom|\n",
      "|536394   |21485    |RETROSPOT HEART HOT WATER BOTTLE   |12      |2010-12-01 |4.95     |13408     |United Kingdom|\n",
      "|536395   |21484    |CHICK GREY HOT WATER BOTTLE        |8       |2010-12-01 |3.45     |13767     |United Kingdom|\n",
      "|536395   |22114    |HOT WATER BOTTLE TEA AND SYMPATHY  |8       |2010-12-01 |3.95     |13767     |United Kingdom|\n",
      "|536396   |84029G   |KNITTED UNION FLAG HOT WATER BOTTLE|6       |2010-12-01 |3.39     |17850     |United Kingdom|\n",
      "|536398   |22114    |HOT WATER BOTTLE TEA AND SYMPATHY  |4       |2010-12-01 |3.95     |13448     |United Kingdom|\n",
      "|536398   |22835    |HOT WATER BOTTLE I AM SO POORLY    |8       |2010-12-01 |4.65     |13448     |United Kingdom|\n",
      "|536398   |22112    |CHOCOLATE HOT WATER BOTTLE         |9       |2010-12-01 |4.95     |13448     |United Kingdom|\n",
      "|536398   |21479    |WHITE SKULL HOT WATER BOTTLE       |4       |2010-12-01 |3.75     |13448     |United Kingdom|\n",
      "|536398   |22111    |SCOTTIE DOG HOT WATER BOTTLE       |9       |2010-12-01 |4.95     |13448     |United Kingdom|\n",
      "|536401   |22110    |BIRD HOUSE HOT WATER BOTTLE        |1       |2010-12-01 |2.55     |15862     |United Kingdom|\n",
      "|536401   |84030E   |ENGLISH ROSE HOT WATER BOTTLE      |1       |2010-12-01 |4.25     |15862     |United Kingdom|\n",
      "|536402   |22837    |HOT WATER BOTTLE BABUSHKA          |36      |2010-12-01 |4.25     |15513     |United Kingdom|\n",
      "+---------+---------+-----------------------------------+--------+-----------+---------+----------+--------------+\n",
      "only showing top 20 rows\n",
      "\n"
     ]
    }
   ],
   "source": [
    "df.where(df['Description'].contains(\"WATER\")).show(truncate=False)"
   ]
  },
  {
   "cell_type": "code",
   "execution_count": 31,
   "id": "45c90509-b4f2-41e9-bb79-6a11dfba06fc",
   "metadata": {},
   "outputs": [
    {
     "data": {
      "text/plain": [
       "11374"
      ]
     },
     "execution_count": 31,
     "metadata": {},
     "output_type": "execute_result"
    }
   ],
   "source": [
    "df.where(df['Description'].contains(\"WATER\")).count()"
   ]
  },
  {
   "cell_type": "markdown",
   "id": "614c7f04-b3e8-4b32-a3aa-e696a73f24fd",
   "metadata": {},
   "source": [
    "# 列の作成と削除"
   ]
  },
  {
   "cell_type": "code",
   "execution_count": 34,
   "id": "1788db9b-9369-40e8-8c61-22a36b5f7dee",
   "metadata": {},
   "outputs": [
    {
     "name": "stdout",
     "output_type": "stream",
     "text": [
      "+---------+---------+-----------------------------------+--------+-----------+---------+----------+--------------+---------+\n",
      "|InvoiceNo|StockCode|Description                        |Quantity|InvoiceDate|UnitPrice|CustomerID|Country       |amount   |\n",
      "+---------+---------+-----------------------------------+--------+-----------+---------+----------+--------------+---------+\n",
      "|536365   |85123A   |WHITE HANGING HEART T-LIGHT HOLDER |6       |2010-12-01 |2.55     |17850     |United Kingdom|15.299999|\n",
      "|536365   |71053    |WHITE METAL LANTERN                |6       |2010-12-01 |3.39     |17850     |United Kingdom|20.34    |\n",
      "|536365   |84406B   |CREAM CUPID HEARTS COAT HANGER     |8       |2010-12-01 |2.75     |17850     |United Kingdom|22.0     |\n",
      "|536365   |84029G   |KNITTED UNION FLAG HOT WATER BOTTLE|6       |2010-12-01 |3.39     |17850     |United Kingdom|20.34    |\n",
      "|536365   |84029E   |RED WOOLLY HOTTIE WHITE HEART.     |6       |2010-12-01 |3.39     |17850     |United Kingdom|20.34    |\n",
      "|536365   |22752    |SET 7 BABUSHKA NESTING BOXES       |2       |2010-12-01 |7.65     |17850     |United Kingdom|15.3     |\n",
      "|536365   |21730    |GLASS STAR FROSTED T-LIGHT HOLDER  |6       |2010-12-01 |4.25     |17850     |United Kingdom|25.5     |\n",
      "|536366   |22633    |HAND WARMER UNION JACK             |6       |2010-12-01 |1.85     |17850     |United Kingdom|11.1     |\n",
      "|536366   |22632    |HAND WARMER RED POLKA DOT          |6       |2010-12-01 |1.85     |17850     |United Kingdom|11.1     |\n",
      "|536367   |84879    |ASSORTED COLOUR BIRD ORNAMENT      |32      |2010-12-01 |1.69     |13047     |United Kingdom|54.08    |\n",
      "|536367   |22745    |POPPY'S PLAYHOUSE BEDROOM          |6       |2010-12-01 |2.1      |13047     |United Kingdom|12.599999|\n",
      "|536367   |22748    |POPPY'S PLAYHOUSE KITCHEN          |6       |2010-12-01 |2.1      |13047     |United Kingdom|12.599999|\n",
      "|536367   |22749    |FELTCRAFT PRINCESS CHARLOTTE DOLL  |8       |2010-12-01 |3.75     |13047     |United Kingdom|30.0     |\n",
      "|536367   |22310    |IVORY KNITTED MUG COSY             |6       |2010-12-01 |1.65     |13047     |United Kingdom|9.9      |\n",
      "|536367   |84969    |BOX OF 6 ASSORTED COLOUR TEASPOONS |6       |2010-12-01 |4.25     |13047     |United Kingdom|25.5     |\n",
      "|536367   |22623    |BOX OF VINTAGE JIGSAW BLOCKS       |3       |2010-12-01 |4.95     |13047     |United Kingdom|14.849999|\n",
      "|536367   |22622    |BOX OF VINTAGE ALPHABET BLOCKS     |2       |2010-12-01 |9.95     |13047     |United Kingdom|19.9     |\n",
      "|536367   |21754    |HOME BUILDING BLOCK WORD           |3       |2010-12-01 |5.95     |13047     |United Kingdom|17.849998|\n",
      "|536367   |21755    |LOVE BUILDING BLOCK WORD           |3       |2010-12-01 |5.95     |13047     |United Kingdom|17.849998|\n",
      "|536367   |21777    |RECIPE BOX WITH METAL HEART        |4       |2010-12-01 |7.95     |13047     |United Kingdom|31.8     |\n",
      "+---------+---------+-----------------------------------+--------+-----------+---------+----------+--------------+---------+\n",
      "only showing top 20 rows\n",
      "\n"
     ]
    }
   ],
   "source": [
    "df.withColumn(\"amount\", df[\"Quantity\"] * df[\"UnitPrice\"]).show(truncate=False)"
   ]
  },
  {
   "cell_type": "code",
   "execution_count": 36,
   "id": "df07a014-ce6e-436b-ae6d-a5643757484f",
   "metadata": {},
   "outputs": [],
   "source": [
    "df = df.withColumn(\"amount\", df[\"Quantity\"] * df[\"UnitPrice\"])"
   ]
  },
  {
   "cell_type": "code",
   "execution_count": 38,
   "id": "6c728b5a-e707-472e-aea5-21dfa96356cb",
   "metadata": {},
   "outputs": [
    {
     "name": "stdout",
     "output_type": "stream",
     "text": [
      "+---------+---------+-----------------------------------+--------+-----------+---------+----------+--------------+---------+\n",
      "|InvoiceNo|StockCode|Description                        |Quantity|InvoiceDate|UnitPrice|CustomerID|Country       |amount   |\n",
      "+---------+---------+-----------------------------------+--------+-----------+---------+----------+--------------+---------+\n",
      "|536365   |85123A   |WHITE HANGING HEART T-LIGHT HOLDER |6       |2010-12-01 |2.55     |17850     |United Kingdom|15.299999|\n",
      "|536365   |71053    |WHITE METAL LANTERN                |6       |2010-12-01 |3.39     |17850     |United Kingdom|20.34    |\n",
      "|536365   |84406B   |CREAM CUPID HEARTS COAT HANGER     |8       |2010-12-01 |2.75     |17850     |United Kingdom|22.0     |\n",
      "|536365   |84029G   |KNITTED UNION FLAG HOT WATER BOTTLE|6       |2010-12-01 |3.39     |17850     |United Kingdom|20.34    |\n",
      "|536365   |84029E   |RED WOOLLY HOTTIE WHITE HEART.     |6       |2010-12-01 |3.39     |17850     |United Kingdom|20.34    |\n",
      "|536365   |22752    |SET 7 BABUSHKA NESTING BOXES       |2       |2010-12-01 |7.65     |17850     |United Kingdom|15.3     |\n",
      "|536365   |21730    |GLASS STAR FROSTED T-LIGHT HOLDER  |6       |2010-12-01 |4.25     |17850     |United Kingdom|25.5     |\n",
      "|536366   |22633    |HAND WARMER UNION JACK             |6       |2010-12-01 |1.85     |17850     |United Kingdom|11.1     |\n",
      "|536366   |22632    |HAND WARMER RED POLKA DOT          |6       |2010-12-01 |1.85     |17850     |United Kingdom|11.1     |\n",
      "|536367   |84879    |ASSORTED COLOUR BIRD ORNAMENT      |32      |2010-12-01 |1.69     |13047     |United Kingdom|54.08    |\n",
      "|536367   |22745    |POPPY'S PLAYHOUSE BEDROOM          |6       |2010-12-01 |2.1      |13047     |United Kingdom|12.599999|\n",
      "|536367   |22748    |POPPY'S PLAYHOUSE KITCHEN          |6       |2010-12-01 |2.1      |13047     |United Kingdom|12.599999|\n",
      "|536367   |22749    |FELTCRAFT PRINCESS CHARLOTTE DOLL  |8       |2010-12-01 |3.75     |13047     |United Kingdom|30.0     |\n",
      "|536367   |22310    |IVORY KNITTED MUG COSY             |6       |2010-12-01 |1.65     |13047     |United Kingdom|9.9      |\n",
      "|536367   |84969    |BOX OF 6 ASSORTED COLOUR TEASPOONS |6       |2010-12-01 |4.25     |13047     |United Kingdom|25.5     |\n",
      "|536367   |22623    |BOX OF VINTAGE JIGSAW BLOCKS       |3       |2010-12-01 |4.95     |13047     |United Kingdom|14.849999|\n",
      "|536367   |22622    |BOX OF VINTAGE ALPHABET BLOCKS     |2       |2010-12-01 |9.95     |13047     |United Kingdom|19.9     |\n",
      "|536367   |21754    |HOME BUILDING BLOCK WORD           |3       |2010-12-01 |5.95     |13047     |United Kingdom|17.849998|\n",
      "|536367   |21755    |LOVE BUILDING BLOCK WORD           |3       |2010-12-01 |5.95     |13047     |United Kingdom|17.849998|\n",
      "|536367   |21777    |RECIPE BOX WITH METAL HEART        |4       |2010-12-01 |7.95     |13047     |United Kingdom|31.8     |\n",
      "+---------+---------+-----------------------------------+--------+-----------+---------+----------+--------------+---------+\n",
      "only showing top 20 rows\n",
      "\n"
     ]
    }
   ],
   "source": [
    "df.show(truncate=False)"
   ]
  },
  {
   "cell_type": "code",
   "execution_count": 40,
   "id": "9acfd119-5451-48e1-984e-7ec0b31e3aec",
   "metadata": {},
   "outputs": [
    {
     "name": "stdout",
     "output_type": "stream",
     "text": [
      "+---------+---------+--------------------+--------+-----------+---------+----------+--------------+\n",
      "|InvoiceNo|StockCode|         Description|Quantity|InvoiceDate|UnitPrice|CustomerID|       Country|\n",
      "+---------+---------+--------------------+--------+-----------+---------+----------+--------------+\n",
      "|   536365|   85123A|WHITE HANGING HEA...|       6| 2010-12-01|     2.55|     17850|United Kingdom|\n",
      "|   536365|    71053| WHITE METAL LANTERN|       6| 2010-12-01|     3.39|     17850|United Kingdom|\n",
      "|   536365|   84406B|CREAM CUPID HEART...|       8| 2010-12-01|     2.75|     17850|United Kingdom|\n",
      "|   536365|   84029G|KNITTED UNION FLA...|       6| 2010-12-01|     3.39|     17850|United Kingdom|\n",
      "|   536365|   84029E|RED WOOLLY HOTTIE...|       6| 2010-12-01|     3.39|     17850|United Kingdom|\n",
      "|   536365|    22752|SET 7 BABUSHKA NE...|       2| 2010-12-01|     7.65|     17850|United Kingdom|\n",
      "|   536365|    21730|GLASS STAR FROSTE...|       6| 2010-12-01|     4.25|     17850|United Kingdom|\n",
      "|   536366|    22633|HAND WARMER UNION...|       6| 2010-12-01|     1.85|     17850|United Kingdom|\n",
      "|   536366|    22632|HAND WARMER RED P...|       6| 2010-12-01|     1.85|     17850|United Kingdom|\n",
      "|   536367|    84879|ASSORTED COLOUR B...|      32| 2010-12-01|     1.69|     13047|United Kingdom|\n",
      "|   536367|    22745|POPPY'S PLAYHOUSE...|       6| 2010-12-01|      2.1|     13047|United Kingdom|\n",
      "|   536367|    22748|POPPY'S PLAYHOUSE...|       6| 2010-12-01|      2.1|     13047|United Kingdom|\n",
      "|   536367|    22749|FELTCRAFT PRINCES...|       8| 2010-12-01|     3.75|     13047|United Kingdom|\n",
      "|   536367|    22310|IVORY KNITTED MUG...|       6| 2010-12-01|     1.65|     13047|United Kingdom|\n",
      "|   536367|    84969|BOX OF 6 ASSORTED...|       6| 2010-12-01|     4.25|     13047|United Kingdom|\n",
      "|   536367|    22623|BOX OF VINTAGE JI...|       3| 2010-12-01|     4.95|     13047|United Kingdom|\n",
      "|   536367|    22622|BOX OF VINTAGE AL...|       2| 2010-12-01|     9.95|     13047|United Kingdom|\n",
      "|   536367|    21754|HOME BUILDING BLO...|       3| 2010-12-01|     5.95|     13047|United Kingdom|\n",
      "|   536367|    21755|LOVE BUILDING BLO...|       3| 2010-12-01|     5.95|     13047|United Kingdom|\n",
      "|   536367|    21777|RECIPE BOX WITH M...|       4| 2010-12-01|     7.95|     13047|United Kingdom|\n",
      "+---------+---------+--------------------+--------+-----------+---------+----------+--------------+\n",
      "only showing top 20 rows\n",
      "\n"
     ]
    }
   ],
   "source": [
    "df.drop(\"amount\").show()"
   ]
  },
  {
   "cell_type": "code",
   "execution_count": 42,
   "id": "d6c1bc60-b4ff-4c1a-9107-97c6ca174807",
   "metadata": {},
   "outputs": [
    {
     "name": "stdout",
     "output_type": "stream",
     "text": [
      "+---------+---------+-----------------------------------+--------+-----------+---------+----------+--------------+\n",
      "|InvoiceNo|StockCode|Description                        |Quantity|InvoiceDate|UnitPrice|CustomerID|Country       |\n",
      "+---------+---------+-----------------------------------+--------+-----------+---------+----------+--------------+\n",
      "|536365   |85123A   |WHITE HANGING HEART T-LIGHT HOLDER |6       |2010-12-01 |2.55     |17850     |United Kingdom|\n",
      "|536365   |71053    |WHITE METAL LANTERN                |6       |2010-12-01 |3.39     |17850     |United Kingdom|\n",
      "|536365   |84406B   |CREAM CUPID HEARTS COAT HANGER     |8       |2010-12-01 |2.75     |17850     |United Kingdom|\n",
      "|536365   |84029G   |KNITTED UNION FLAG HOT WATER BOTTLE|6       |2010-12-01 |3.39     |17850     |United Kingdom|\n",
      "|536365   |84029E   |RED WOOLLY HOTTIE WHITE HEART.     |6       |2010-12-01 |3.39     |17850     |United Kingdom|\n",
      "|536365   |22752    |SET 7 BABUSHKA NESTING BOXES       |2       |2010-12-01 |7.65     |17850     |United Kingdom|\n",
      "|536365   |21730    |GLASS STAR FROSTED T-LIGHT HOLDER  |6       |2010-12-01 |4.25     |17850     |United Kingdom|\n",
      "|536366   |22633    |HAND WARMER UNION JACK             |6       |2010-12-01 |1.85     |17850     |United Kingdom|\n",
      "|536366   |22632    |HAND WARMER RED POLKA DOT          |6       |2010-12-01 |1.85     |17850     |United Kingdom|\n",
      "|536367   |84879    |ASSORTED COLOUR BIRD ORNAMENT      |32      |2010-12-01 |1.69     |13047     |United Kingdom|\n",
      "|536367   |22745    |POPPY'S PLAYHOUSE BEDROOM          |6       |2010-12-01 |2.1      |13047     |United Kingdom|\n",
      "|536367   |22748    |POPPY'S PLAYHOUSE KITCHEN          |6       |2010-12-01 |2.1      |13047     |United Kingdom|\n",
      "|536367   |22749    |FELTCRAFT PRINCESS CHARLOTTE DOLL  |8       |2010-12-01 |3.75     |13047     |United Kingdom|\n",
      "|536367   |22310    |IVORY KNITTED MUG COSY             |6       |2010-12-01 |1.65     |13047     |United Kingdom|\n",
      "|536367   |84969    |BOX OF 6 ASSORTED COLOUR TEASPOONS |6       |2010-12-01 |4.25     |13047     |United Kingdom|\n",
      "|536367   |22623    |BOX OF VINTAGE JIGSAW BLOCKS       |3       |2010-12-01 |4.95     |13047     |United Kingdom|\n",
      "|536367   |22622    |BOX OF VINTAGE ALPHABET BLOCKS     |2       |2010-12-01 |9.95     |13047     |United Kingdom|\n",
      "|536367   |21754    |HOME BUILDING BLOCK WORD           |3       |2010-12-01 |5.95     |13047     |United Kingdom|\n",
      "|536367   |21755    |LOVE BUILDING BLOCK WORD           |3       |2010-12-01 |5.95     |13047     |United Kingdom|\n",
      "|536367   |21777    |RECIPE BOX WITH METAL HEART        |4       |2010-12-01 |7.95     |13047     |United Kingdom|\n",
      "+---------+---------+-----------------------------------+--------+-----------+---------+----------+--------------+\n",
      "only showing top 20 rows\n",
      "\n"
     ]
    }
   ],
   "source": [
    "df = df.drop(\"amount\")\n",
    "df.show(truncate=False)"
   ]
  },
  {
   "cell_type": "code",
   "execution_count": 43,
   "id": "a0424da9-f3a5-454e-bb12-e19566a9d9f1",
   "metadata": {},
   "outputs": [
    {
     "name": "stdout",
     "output_type": "stream",
     "text": [
      "+--------------------+--------+-----------+---------+----------+--------------+\n",
      "|         Description|Quantity|InvoiceDate|UnitPrice|CustomerID|       Country|\n",
      "+--------------------+--------+-----------+---------+----------+--------------+\n",
      "|WHITE HANGING HEA...|       6| 2010-12-01|     2.55|     17850|United Kingdom|\n",
      "| WHITE METAL LANTERN|       6| 2010-12-01|     3.39|     17850|United Kingdom|\n",
      "|CREAM CUPID HEART...|       8| 2010-12-01|     2.75|     17850|United Kingdom|\n",
      "|KNITTED UNION FLA...|       6| 2010-12-01|     3.39|     17850|United Kingdom|\n",
      "|RED WOOLLY HOTTIE...|       6| 2010-12-01|     3.39|     17850|United Kingdom|\n",
      "|SET 7 BABUSHKA NE...|       2| 2010-12-01|     7.65|     17850|United Kingdom|\n",
      "|GLASS STAR FROSTE...|       6| 2010-12-01|     4.25|     17850|United Kingdom|\n",
      "|HAND WARMER UNION...|       6| 2010-12-01|     1.85|     17850|United Kingdom|\n",
      "|HAND WARMER RED P...|       6| 2010-12-01|     1.85|     17850|United Kingdom|\n",
      "|ASSORTED COLOUR B...|      32| 2010-12-01|     1.69|     13047|United Kingdom|\n",
      "|POPPY'S PLAYHOUSE...|       6| 2010-12-01|      2.1|     13047|United Kingdom|\n",
      "|POPPY'S PLAYHOUSE...|       6| 2010-12-01|      2.1|     13047|United Kingdom|\n",
      "|FELTCRAFT PRINCES...|       8| 2010-12-01|     3.75|     13047|United Kingdom|\n",
      "|IVORY KNITTED MUG...|       6| 2010-12-01|     1.65|     13047|United Kingdom|\n",
      "|BOX OF 6 ASSORTED...|       6| 2010-12-01|     4.25|     13047|United Kingdom|\n",
      "|BOX OF VINTAGE JI...|       3| 2010-12-01|     4.95|     13047|United Kingdom|\n",
      "|BOX OF VINTAGE AL...|       2| 2010-12-01|     9.95|     13047|United Kingdom|\n",
      "|HOME BUILDING BLO...|       3| 2010-12-01|     5.95|     13047|United Kingdom|\n",
      "|LOVE BUILDING BLO...|       3| 2010-12-01|     5.95|     13047|United Kingdom|\n",
      "|RECIPE BOX WITH M...|       4| 2010-12-01|     7.95|     13047|United Kingdom|\n",
      "+--------------------+--------+-----------+---------+----------+--------------+\n",
      "only showing top 20 rows\n",
      "\n"
     ]
    }
   ],
   "source": [
    "df.drop(\"InvoiceNo\", \"StockCode\").show()"
   ]
  },
  {
   "cell_type": "markdown",
   "id": "613f5913-653a-449e-8423-259a9e2ab09f",
   "metadata": {},
   "source": [
    "# 列名の変更"
   ]
  },
  {
   "cell_type": "code",
   "execution_count": 44,
   "id": "c5618a6b-111d-45b5-8c9e-2bd9e4153d88",
   "metadata": {},
   "outputs": [
    {
     "name": "stdout",
     "output_type": "stream",
     "text": [
      "+---------+---------+--------------------+--------+-----------+---------+----------+--------------+\n",
      "|InvoiceNo|StockCode|         Description|Quantity|InvoiceDate|UnitPrice|CustomerID|   CountryName|\n",
      "+---------+---------+--------------------+--------+-----------+---------+----------+--------------+\n",
      "|   536365|   85123A|WHITE HANGING HEA...|       6| 2010-12-01|     2.55|     17850|United Kingdom|\n",
      "|   536365|    71053| WHITE METAL LANTERN|       6| 2010-12-01|     3.39|     17850|United Kingdom|\n",
      "|   536365|   84406B|CREAM CUPID HEART...|       8| 2010-12-01|     2.75|     17850|United Kingdom|\n",
      "|   536365|   84029G|KNITTED UNION FLA...|       6| 2010-12-01|     3.39|     17850|United Kingdom|\n",
      "|   536365|   84029E|RED WOOLLY HOTTIE...|       6| 2010-12-01|     3.39|     17850|United Kingdom|\n",
      "|   536365|    22752|SET 7 BABUSHKA NE...|       2| 2010-12-01|     7.65|     17850|United Kingdom|\n",
      "|   536365|    21730|GLASS STAR FROSTE...|       6| 2010-12-01|     4.25|     17850|United Kingdom|\n",
      "|   536366|    22633|HAND WARMER UNION...|       6| 2010-12-01|     1.85|     17850|United Kingdom|\n",
      "|   536366|    22632|HAND WARMER RED P...|       6| 2010-12-01|     1.85|     17850|United Kingdom|\n",
      "|   536367|    84879|ASSORTED COLOUR B...|      32| 2010-12-01|     1.69|     13047|United Kingdom|\n",
      "|   536367|    22745|POPPY'S PLAYHOUSE...|       6| 2010-12-01|      2.1|     13047|United Kingdom|\n",
      "|   536367|    22748|POPPY'S PLAYHOUSE...|       6| 2010-12-01|      2.1|     13047|United Kingdom|\n",
      "|   536367|    22749|FELTCRAFT PRINCES...|       8| 2010-12-01|     3.75|     13047|United Kingdom|\n",
      "|   536367|    22310|IVORY KNITTED MUG...|       6| 2010-12-01|     1.65|     13047|United Kingdom|\n",
      "|   536367|    84969|BOX OF 6 ASSORTED...|       6| 2010-12-01|     4.25|     13047|United Kingdom|\n",
      "|   536367|    22623|BOX OF VINTAGE JI...|       3| 2010-12-01|     4.95|     13047|United Kingdom|\n",
      "|   536367|    22622|BOX OF VINTAGE AL...|       2| 2010-12-01|     9.95|     13047|United Kingdom|\n",
      "|   536367|    21754|HOME BUILDING BLO...|       3| 2010-12-01|     5.95|     13047|United Kingdom|\n",
      "|   536367|    21755|LOVE BUILDING BLO...|       3| 2010-12-01|     5.95|     13047|United Kingdom|\n",
      "|   536367|    21777|RECIPE BOX WITH M...|       4| 2010-12-01|     7.95|     13047|United Kingdom|\n",
      "+---------+---------+--------------------+--------+-----------+---------+----------+--------------+\n",
      "only showing top 20 rows\n",
      "\n"
     ]
    }
   ],
   "source": [
    "df.withColumnRenamed(\"Country\", \"CountryName\").show()"
   ]
  },
  {
   "cell_type": "code",
   "execution_count": 45,
   "id": "09beb28c-0c59-432e-a53d-49134945ff60",
   "metadata": {},
   "outputs": [
    {
     "data": {
      "text/plain": [
       "['InvoiceNo',\n",
       " 'StockCode',\n",
       " 'Description',\n",
       " 'Quantity',\n",
       " 'InvoiceDate',\n",
       " 'UnitPrice',\n",
       " 'CustomerID',\n",
       " 'CountryName']"
      ]
     },
     "execution_count": 45,
     "metadata": {},
     "output_type": "execute_result"
    }
   ],
   "source": [
    "df.withColumnRenamed(\"Country\", \"CountryName\").columns"
   ]
  },
  {
   "cell_type": "markdown",
   "id": "e0df783f-6c5f-46e2-a1fb-c225418ec571",
   "metadata": {},
   "source": [
    "# キャスト (型変換)"
   ]
  },
  {
   "cell_type": "code",
   "execution_count": 62,
   "id": "9812a895-3715-4dfa-8035-88ae9715f978",
   "metadata": {},
   "outputs": [],
   "source": [
    "df = df.withColumn(\"Quantity\", df[\"Quantity\"].cast(\"int\"))"
   ]
  },
  {
   "cell_type": "code",
   "execution_count": 63,
   "id": "30e1f8bd-2732-45a9-b368-f0621f35ce64",
   "metadata": {},
   "outputs": [
    {
     "name": "stdout",
     "output_type": "stream",
     "text": [
      "+---------+---------+--------------------+--------+-----------+---------+----------+--------------+\n",
      "|InvoiceNo|StockCode|         Description|Quantity|InvoiceDate|UnitPrice|CustomerID|       Country|\n",
      "+---------+---------+--------------------+--------+-----------+---------+----------+--------------+\n",
      "|   536365|   85123A|WHITE HANGING HEA...|       6| 2010-12-01|     2.55|     17850|United Kingdom|\n",
      "|   536365|    71053| WHITE METAL LANTERN|       6| 2010-12-01|     3.39|     17850|United Kingdom|\n",
      "|   536365|   84406B|CREAM CUPID HEART...|       8| 2010-12-01|     2.75|     17850|United Kingdom|\n",
      "|   536365|   84029G|KNITTED UNION FLA...|       6| 2010-12-01|     3.39|     17850|United Kingdom|\n",
      "|   536365|   84029E|RED WOOLLY HOTTIE...|       6| 2010-12-01|     3.39|     17850|United Kingdom|\n",
      "|   536365|    22752|SET 7 BABUSHKA NE...|       2| 2010-12-01|     7.65|     17850|United Kingdom|\n",
      "|   536365|    21730|GLASS STAR FROSTE...|       6| 2010-12-01|     4.25|     17850|United Kingdom|\n",
      "|   536366|    22633|HAND WARMER UNION...|       6| 2010-12-01|     1.85|     17850|United Kingdom|\n",
      "|   536366|    22632|HAND WARMER RED P...|       6| 2010-12-01|     1.85|     17850|United Kingdom|\n",
      "|   536367|    84879|ASSORTED COLOUR B...|      32| 2010-12-01|     1.69|     13047|United Kingdom|\n",
      "|   536367|    22745|POPPY'S PLAYHOUSE...|       6| 2010-12-01|      2.1|     13047|United Kingdom|\n",
      "|   536367|    22748|POPPY'S PLAYHOUSE...|       6| 2010-12-01|      2.1|     13047|United Kingdom|\n",
      "|   536367|    22749|FELTCRAFT PRINCES...|       8| 2010-12-01|     3.75|     13047|United Kingdom|\n",
      "|   536367|    22310|IVORY KNITTED MUG...|       6| 2010-12-01|     1.65|     13047|United Kingdom|\n",
      "|   536367|    84969|BOX OF 6 ASSORTED...|       6| 2010-12-01|     4.25|     13047|United Kingdom|\n",
      "|   536367|    22623|BOX OF VINTAGE JI...|       3| 2010-12-01|     4.95|     13047|United Kingdom|\n",
      "|   536367|    22622|BOX OF VINTAGE AL...|       2| 2010-12-01|     9.95|     13047|United Kingdom|\n",
      "|   536367|    21754|HOME BUILDING BLO...|       3| 2010-12-01|     5.95|     13047|United Kingdom|\n",
      "|   536367|    21755|LOVE BUILDING BLO...|       3| 2010-12-01|     5.95|     13047|United Kingdom|\n",
      "|   536367|    21777|RECIPE BOX WITH M...|       4| 2010-12-01|     7.95|     13047|United Kingdom|\n",
      "+---------+---------+--------------------+--------+-----------+---------+----------+--------------+\n",
      "only showing top 20 rows\n",
      "\n"
     ]
    }
   ],
   "source": [
    "df.show()"
   ]
  },
  {
   "cell_type": "code",
   "execution_count": 64,
   "id": "1c599585-5d1b-4511-87c9-219d019388de",
   "metadata": {},
   "outputs": [
    {
     "data": {
      "text/plain": [
       "[('InvoiceNo', 'string'),\n",
       " ('StockCode', 'string'),\n",
       " ('Description', 'string'),\n",
       " ('Quantity', 'int'),\n",
       " ('InvoiceDate', 'date'),\n",
       " ('UnitPrice', 'float'),\n",
       " ('CustomerID', 'int'),\n",
       " ('Country', 'string')]"
      ]
     },
     "execution_count": 64,
     "metadata": {},
     "output_type": "execute_result"
    }
   ],
   "source": [
    "df.dtypes"
   ]
  },
  {
   "cell_type": "markdown",
   "id": "72789b2e-515a-4e88-a507-f83964084b54",
   "metadata": {},
   "source": [
    "# 日付の処理"
   ]
  },
  {
   "cell_type": "code",
   "execution_count": 65,
   "id": "5928eaa3-0661-4e6d-bfdf-41c04b62deb0",
   "metadata": {},
   "outputs": [],
   "source": [
    "from pyspark.sql.functions import year, month, dayofmonth"
   ]
  },
  {
   "cell_type": "code",
   "execution_count": 67,
   "id": "6b11774e-3423-4440-8b04-faf109a11721",
   "metadata": {},
   "outputs": [
    {
     "name": "stdout",
     "output_type": "stream",
     "text": [
      "+---------+---------+--------------------+--------+-----------+---------+----------+--------------+--------------+\n",
      "|InvoiceNo|StockCode|         Description|Quantity|InvoiceDate|UnitPrice|CustomerID|       Country|purchased_year|\n",
      "+---------+---------+--------------------+--------+-----------+---------+----------+--------------+--------------+\n",
      "|   536365|   85123A|WHITE HANGING HEA...|       6| 2010-12-01|     2.55|     17850|United Kingdom|          2010|\n",
      "|   536365|    71053| WHITE METAL LANTERN|       6| 2010-12-01|     3.39|     17850|United Kingdom|          2010|\n",
      "|   536365|   84406B|CREAM CUPID HEART...|       8| 2010-12-01|     2.75|     17850|United Kingdom|          2010|\n",
      "|   536365|   84029G|KNITTED UNION FLA...|       6| 2010-12-01|     3.39|     17850|United Kingdom|          2010|\n",
      "|   536365|   84029E|RED WOOLLY HOTTIE...|       6| 2010-12-01|     3.39|     17850|United Kingdom|          2010|\n",
      "|   536365|    22752|SET 7 BABUSHKA NE...|       2| 2010-12-01|     7.65|     17850|United Kingdom|          2010|\n",
      "|   536365|    21730|GLASS STAR FROSTE...|       6| 2010-12-01|     4.25|     17850|United Kingdom|          2010|\n",
      "|   536366|    22633|HAND WARMER UNION...|       6| 2010-12-01|     1.85|     17850|United Kingdom|          2010|\n",
      "|   536366|    22632|HAND WARMER RED P...|       6| 2010-12-01|     1.85|     17850|United Kingdom|          2010|\n",
      "|   536367|    84879|ASSORTED COLOUR B...|      32| 2010-12-01|     1.69|     13047|United Kingdom|          2010|\n",
      "|   536367|    22745|POPPY'S PLAYHOUSE...|       6| 2010-12-01|      2.1|     13047|United Kingdom|          2010|\n",
      "|   536367|    22748|POPPY'S PLAYHOUSE...|       6| 2010-12-01|      2.1|     13047|United Kingdom|          2010|\n",
      "|   536367|    22749|FELTCRAFT PRINCES...|       8| 2010-12-01|     3.75|     13047|United Kingdom|          2010|\n",
      "|   536367|    22310|IVORY KNITTED MUG...|       6| 2010-12-01|     1.65|     13047|United Kingdom|          2010|\n",
      "|   536367|    84969|BOX OF 6 ASSORTED...|       6| 2010-12-01|     4.25|     13047|United Kingdom|          2010|\n",
      "|   536367|    22623|BOX OF VINTAGE JI...|       3| 2010-12-01|     4.95|     13047|United Kingdom|          2010|\n",
      "|   536367|    22622|BOX OF VINTAGE AL...|       2| 2010-12-01|     9.95|     13047|United Kingdom|          2010|\n",
      "|   536367|    21754|HOME BUILDING BLO...|       3| 2010-12-01|     5.95|     13047|United Kingdom|          2010|\n",
      "|   536367|    21755|LOVE BUILDING BLO...|       3| 2010-12-01|     5.95|     13047|United Kingdom|          2010|\n",
      "|   536367|    21777|RECIPE BOX WITH M...|       4| 2010-12-01|     7.95|     13047|United Kingdom|          2010|\n",
      "+---------+---------+--------------------+--------+-----------+---------+----------+--------------+--------------+\n",
      "only showing top 20 rows\n",
      "\n"
     ]
    }
   ],
   "source": [
    "df_tmp = df.withColumn(\"purchased_year\", year(\"InvoiceDate\"))\n",
    "df_tmp.show()"
   ]
  },
  {
   "cell_type": "code",
   "execution_count": 68,
   "id": "77b0c1a5-137e-4353-b833-3c25ca5567c6",
   "metadata": {},
   "outputs": [
    {
     "name": "stdout",
     "output_type": "stream",
     "text": [
      "+---------+---------+--------------------+--------+-----------+---------+----------+--------------+--------------+---------------+\n",
      "|InvoiceNo|StockCode|         Description|Quantity|InvoiceDate|UnitPrice|CustomerID|       Country|purchased_year|purchased_month|\n",
      "+---------+---------+--------------------+--------+-----------+---------+----------+--------------+--------------+---------------+\n",
      "|   536365|   85123A|WHITE HANGING HEA...|       6| 2010-12-01|     2.55|     17850|United Kingdom|          2010|             12|\n",
      "|   536365|    71053| WHITE METAL LANTERN|       6| 2010-12-01|     3.39|     17850|United Kingdom|          2010|             12|\n",
      "|   536365|   84406B|CREAM CUPID HEART...|       8| 2010-12-01|     2.75|     17850|United Kingdom|          2010|             12|\n",
      "|   536365|   84029G|KNITTED UNION FLA...|       6| 2010-12-01|     3.39|     17850|United Kingdom|          2010|             12|\n",
      "|   536365|   84029E|RED WOOLLY HOTTIE...|       6| 2010-12-01|     3.39|     17850|United Kingdom|          2010|             12|\n",
      "|   536365|    22752|SET 7 BABUSHKA NE...|       2| 2010-12-01|     7.65|     17850|United Kingdom|          2010|             12|\n",
      "|   536365|    21730|GLASS STAR FROSTE...|       6| 2010-12-01|     4.25|     17850|United Kingdom|          2010|             12|\n",
      "|   536366|    22633|HAND WARMER UNION...|       6| 2010-12-01|     1.85|     17850|United Kingdom|          2010|             12|\n",
      "|   536366|    22632|HAND WARMER RED P...|       6| 2010-12-01|     1.85|     17850|United Kingdom|          2010|             12|\n",
      "|   536367|    84879|ASSORTED COLOUR B...|      32| 2010-12-01|     1.69|     13047|United Kingdom|          2010|             12|\n",
      "|   536367|    22745|POPPY'S PLAYHOUSE...|       6| 2010-12-01|      2.1|     13047|United Kingdom|          2010|             12|\n",
      "|   536367|    22748|POPPY'S PLAYHOUSE...|       6| 2010-12-01|      2.1|     13047|United Kingdom|          2010|             12|\n",
      "|   536367|    22749|FELTCRAFT PRINCES...|       8| 2010-12-01|     3.75|     13047|United Kingdom|          2010|             12|\n",
      "|   536367|    22310|IVORY KNITTED MUG...|       6| 2010-12-01|     1.65|     13047|United Kingdom|          2010|             12|\n",
      "|   536367|    84969|BOX OF 6 ASSORTED...|       6| 2010-12-01|     4.25|     13047|United Kingdom|          2010|             12|\n",
      "|   536367|    22623|BOX OF VINTAGE JI...|       3| 2010-12-01|     4.95|     13047|United Kingdom|          2010|             12|\n",
      "|   536367|    22622|BOX OF VINTAGE AL...|       2| 2010-12-01|     9.95|     13047|United Kingdom|          2010|             12|\n",
      "|   536367|    21754|HOME BUILDING BLO...|       3| 2010-12-01|     5.95|     13047|United Kingdom|          2010|             12|\n",
      "|   536367|    21755|LOVE BUILDING BLO...|       3| 2010-12-01|     5.95|     13047|United Kingdom|          2010|             12|\n",
      "|   536367|    21777|RECIPE BOX WITH M...|       4| 2010-12-01|     7.95|     13047|United Kingdom|          2010|             12|\n",
      "+---------+---------+--------------------+--------+-----------+---------+----------+--------------+--------------+---------------+\n",
      "only showing top 20 rows\n",
      "\n"
     ]
    }
   ],
   "source": [
    "df_tmp = df_tmp.withColumn(\"purchased_month\", month(\"InvoiceDate\"))\n",
    "df_tmp.show()"
   ]
  },
  {
   "cell_type": "code",
   "execution_count": 69,
   "id": "ce40f1b9-e17f-4224-ba0e-9f681c3e0e83",
   "metadata": {},
   "outputs": [
    {
     "name": "stdout",
     "output_type": "stream",
     "text": [
      "+---------+---------+--------------------+--------+-----------+---------+----------+--------------+--------------+---------------+-------------+\n",
      "|InvoiceNo|StockCode|         Description|Quantity|InvoiceDate|UnitPrice|CustomerID|       Country|purchased_year|purchased_month|purchased_day|\n",
      "+---------+---------+--------------------+--------+-----------+---------+----------+--------------+--------------+---------------+-------------+\n",
      "|   536365|   85123A|WHITE HANGING HEA...|       6| 2010-12-01|     2.55|     17850|United Kingdom|          2010|             12|            1|\n",
      "|   536365|    71053| WHITE METAL LANTERN|       6| 2010-12-01|     3.39|     17850|United Kingdom|          2010|             12|            1|\n",
      "|   536365|   84406B|CREAM CUPID HEART...|       8| 2010-12-01|     2.75|     17850|United Kingdom|          2010|             12|            1|\n",
      "|   536365|   84029G|KNITTED UNION FLA...|       6| 2010-12-01|     3.39|     17850|United Kingdom|          2010|             12|            1|\n",
      "|   536365|   84029E|RED WOOLLY HOTTIE...|       6| 2010-12-01|     3.39|     17850|United Kingdom|          2010|             12|            1|\n",
      "|   536365|    22752|SET 7 BABUSHKA NE...|       2| 2010-12-01|     7.65|     17850|United Kingdom|          2010|             12|            1|\n",
      "|   536365|    21730|GLASS STAR FROSTE...|       6| 2010-12-01|     4.25|     17850|United Kingdom|          2010|             12|            1|\n",
      "|   536366|    22633|HAND WARMER UNION...|       6| 2010-12-01|     1.85|     17850|United Kingdom|          2010|             12|            1|\n",
      "|   536366|    22632|HAND WARMER RED P...|       6| 2010-12-01|     1.85|     17850|United Kingdom|          2010|             12|            1|\n",
      "|   536367|    84879|ASSORTED COLOUR B...|      32| 2010-12-01|     1.69|     13047|United Kingdom|          2010|             12|            1|\n",
      "|   536367|    22745|POPPY'S PLAYHOUSE...|       6| 2010-12-01|      2.1|     13047|United Kingdom|          2010|             12|            1|\n",
      "|   536367|    22748|POPPY'S PLAYHOUSE...|       6| 2010-12-01|      2.1|     13047|United Kingdom|          2010|             12|            1|\n",
      "|   536367|    22749|FELTCRAFT PRINCES...|       8| 2010-12-01|     3.75|     13047|United Kingdom|          2010|             12|            1|\n",
      "|   536367|    22310|IVORY KNITTED MUG...|       6| 2010-12-01|     1.65|     13047|United Kingdom|          2010|             12|            1|\n",
      "|   536367|    84969|BOX OF 6 ASSORTED...|       6| 2010-12-01|     4.25|     13047|United Kingdom|          2010|             12|            1|\n",
      "|   536367|    22623|BOX OF VINTAGE JI...|       3| 2010-12-01|     4.95|     13047|United Kingdom|          2010|             12|            1|\n",
      "|   536367|    22622|BOX OF VINTAGE AL...|       2| 2010-12-01|     9.95|     13047|United Kingdom|          2010|             12|            1|\n",
      "|   536367|    21754|HOME BUILDING BLO...|       3| 2010-12-01|     5.95|     13047|United Kingdom|          2010|             12|            1|\n",
      "|   536367|    21755|LOVE BUILDING BLO...|       3| 2010-12-01|     5.95|     13047|United Kingdom|          2010|             12|            1|\n",
      "|   536367|    21777|RECIPE BOX WITH M...|       4| 2010-12-01|     7.95|     13047|United Kingdom|          2010|             12|            1|\n",
      "+---------+---------+--------------------+--------+-----------+---------+----------+--------------+--------------+---------------+-------------+\n",
      "only showing top 20 rows\n",
      "\n"
     ]
    }
   ],
   "source": [
    "df_tmp = df_tmp.withColumn(\"purchased_day\", dayofmonth(\"InvoiceDate\"))\n",
    "df_tmp.show()"
   ]
  },
  {
   "cell_type": "markdown",
   "id": "aa075b42-96fb-493d-b555-6ed20012ffeb",
   "metadata": {},
   "source": [
    "# 欠損値処理"
   ]
  },
  {
   "cell_type": "code",
   "execution_count": 70,
   "id": "7a703c51-45c8-4754-9f9b-62a3660c5773",
   "metadata": {},
   "outputs": [
    {
     "data": {
      "text/plain": [
       "[('InvoiceNo', 'string'),\n",
       " ('StockCode', 'string'),\n",
       " ('Description', 'string'),\n",
       " ('Quantity', 'int'),\n",
       " ('InvoiceDate', 'date'),\n",
       " ('UnitPrice', 'float'),\n",
       " ('CustomerID', 'int'),\n",
       " ('Country', 'string')]"
      ]
     },
     "execution_count": 70,
     "metadata": {},
     "output_type": "execute_result"
    }
   ],
   "source": [
    "df.dtypes"
   ]
  },
  {
   "cell_type": "code",
   "execution_count": null,
   "id": "aa530b8f-5309-4a52-9d47-152db255ce77",
   "metadata": {},
   "outputs": [],
   "source": []
  },
  {
   "cell_type": "code",
   "execution_count": null,
   "id": "f2e5188b-03b2-459b-8e18-8e396f4ea032",
   "metadata": {},
   "outputs": [],
   "source": []
  },
  {
   "cell_type": "code",
   "execution_count": null,
   "id": "0a55e66c-0ed9-49b0-9e14-98368c69ad10",
   "metadata": {},
   "outputs": [],
   "source": []
  }
 ],
 "metadata": {
  "kernelspec": {
   "display_name": "Python 3 (ipykernel)",
   "language": "python",
   "name": "python3"
  },
  "language_info": {
   "codemirror_mode": {
    "name": "ipython",
    "version": 3
   },
   "file_extension": ".py",
   "mimetype": "text/x-python",
   "name": "python",
   "nbconvert_exporter": "python",
   "pygments_lexer": "ipython3",
   "version": "3.11.6"
  }
 },
 "nbformat": 4,
 "nbformat_minor": 5
}
