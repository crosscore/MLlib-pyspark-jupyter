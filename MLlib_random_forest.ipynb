{
 "cells": [
  {
   "cell_type": "markdown",
   "id": "2156ec82-3041-4265-a01a-77d4635ff8d3",
   "metadata": {},
   "source": [
    "# ランダムフォレストによる分類予測"
   ]
  },
  {
   "cell_type": "markdown",
   "id": "1a1a0c16-d30f-4cde-9ed2-f599db18eb2d",
   "metadata": {},
   "source": [
    "#### bank-fullのy列（定期預金を申し込んだか否か）についての分類予測\n",
    "#### 特徴量は簡単のため、数値の列と文字列の\"default\"列のみを使用する\n",
    "#### パイプラインを使用せずに試す"
   ]
  },
  {
   "cell_type": "code",
   "execution_count": 1,
   "id": "7df381b6-9925-447d-9f39-8d19a8558eb8",
   "metadata": {},
   "outputs": [],
   "source": [
    "import pandas as pd\n",
    "import numpy as np"
   ]
  },
  {
   "cell_type": "code",
   "execution_count": 2,
   "id": "63e27b4a-bb70-4428-aebc-9bfb8b90f4e2",
   "metadata": {},
   "outputs": [],
   "source": [
    "from pyspark.sql import SparkSession\n",
    "spark = SparkSession.builder.master(\"local\").appName(\"random_forest\").getOrCreate()"
   ]
  },
  {
   "cell_type": "code",
   "execution_count": 3,
   "id": "a621fbeb-db01-4c4f-84d0-964cbce349c1",
   "metadata": {},
   "outputs": [
    {
     "name": "stdout",
     "output_type": "stream",
     "text": [
      "+---+------------+--------+---------+-------+-------+-------+----+-------+---+-----+--------+--------+-----+--------+--------+---+\n",
      "|age|         job| marital|education|default|balance|housing|loan|contact|day|month|duration|campaign|pdays|previous|poutcome|  y|\n",
      "+---+------------+--------+---------+-------+-------+-------+----+-------+---+-----+--------+--------+-----+--------+--------+---+\n",
      "| 58|  management| married| tertiary|     no|   2143|    yes|  no|unknown|  5|  may|     261|       1|   -1|       0| unknown| no|\n",
      "| 44|  technician|  single|secondary|     no|     29|    yes|  no|unknown|  5|  may|     151|       1|   -1|       0| unknown| no|\n",
      "| 33|entrepreneur| married|secondary|     no|      2|    yes| yes|unknown|  5|  may|      76|       1|   -1|       0| unknown| no|\n",
      "| 47| blue-collar| married|  unknown|     no|   1506|    yes|  no|unknown|  5|  may|      92|       1|   -1|       0| unknown| no|\n",
      "| 33|     unknown|  single|  unknown|     no|      1|     no|  no|unknown|  5|  may|     198|       1|   -1|       0| unknown| no|\n",
      "| 35|  management| married| tertiary|     no|    231|    yes|  no|unknown|  5|  may|     139|       1|   -1|       0| unknown| no|\n",
      "| 28|  management|  single| tertiary|     no|    447|    yes| yes|unknown|  5|  may|     217|       1|   -1|       0| unknown| no|\n",
      "| 42|entrepreneur|divorced| tertiary|    yes|      2|    yes|  no|unknown|  5|  may|     380|       1|   -1|       0| unknown| no|\n",
      "| 58|     retired| married|  primary|     no|    121|    yes|  no|unknown|  5|  may|      50|       1|   -1|       0| unknown| no|\n",
      "| 43|  technician|  single|secondary|     no|    593|    yes|  no|unknown|  5|  may|      55|       1|   -1|       0| unknown| no|\n",
      "| 41|      admin.|divorced|secondary|     no|    270|    yes|  no|unknown|  5|  may|     222|       1|   -1|       0| unknown| no|\n",
      "| 29|      admin.|  single|secondary|     no|    390|    yes|  no|unknown|  5|  may|     137|       1|   -1|       0| unknown| no|\n",
      "| 53|  technician| married|secondary|     no|      6|    yes|  no|unknown|  5|  may|     517|       1|   -1|       0| unknown| no|\n",
      "| 58|  technician| married|  unknown|     no|     71|    yes|  no|unknown|  5|  may|      71|       1|   -1|       0| unknown| no|\n",
      "| 57|    services| married|secondary|     no|    162|    yes|  no|unknown|  5|  may|     174|       1|   -1|       0| unknown| no|\n",
      "| 51|     retired| married|  primary|     no|    229|    yes|  no|unknown|  5|  may|     353|       1|   -1|       0| unknown| no|\n",
      "| 45|      admin.|  single|  unknown|     no|     13|    yes|  no|unknown|  5|  may|      98|       1|   -1|       0| unknown| no|\n",
      "| 57| blue-collar| married|  primary|     no|     52|    yes|  no|unknown|  5|  may|      38|       1|   -1|       0| unknown| no|\n",
      "| 60|     retired| married|  primary|     no|     60|    yes|  no|unknown|  5|  may|     219|       1|   -1|       0| unknown| no|\n",
      "| 33|    services| married|secondary|     no|      0|    yes|  no|unknown|  5|  may|      54|       1|   -1|       0| unknown| no|\n",
      "+---+------------+--------+---------+-------+-------+-------+----+-------+---+-----+--------+--------+-----+--------+--------+---+\n",
      "only showing top 20 rows\n",
      "\n"
     ]
    }
   ],
   "source": [
    "filename = \"./data/bank-full.csv\"\n",
    "data = spark.read.csv(filename, header=True, inferSchema=True, sep=\";\")\n",
    "data.show()"
   ]
  },
  {
   "cell_type": "code",
   "execution_count": 4,
   "id": "38f94f8d-468d-4f13-963a-95ad974c008a",
   "metadata": {},
   "outputs": [],
   "source": [
    "# string -> index\n",
    "from pyspark.ml.feature import StringIndexer\n",
    "default_index = StringIndexer(inputCol=\"default\", outputCol=\"default_index\")\n",
    "data1 = default_index.fit(data).transform(data)"
   ]
  },
  {
   "cell_type": "code",
   "execution_count": 5,
   "id": "98e9cf41-3ea5-421a-b2b3-6d2366c203f4",
   "metadata": {},
   "outputs": [
    {
     "name": "stdout",
     "output_type": "stream",
     "text": [
      "+---+------------+--------+---------+-------+-------+-------+----+-------+---+-----+--------+--------+-----+--------+--------+---+-------------+\n",
      "|age|         job| marital|education|default|balance|housing|loan|contact|day|month|duration|campaign|pdays|previous|poutcome|  y|default_index|\n",
      "+---+------------+--------+---------+-------+-------+-------+----+-------+---+-----+--------+--------+-----+--------+--------+---+-------------+\n",
      "| 58|  management| married| tertiary|     no|   2143|    yes|  no|unknown|  5|  may|     261|       1|   -1|       0| unknown| no|          0.0|\n",
      "| 44|  technician|  single|secondary|     no|     29|    yes|  no|unknown|  5|  may|     151|       1|   -1|       0| unknown| no|          0.0|\n",
      "| 33|entrepreneur| married|secondary|     no|      2|    yes| yes|unknown|  5|  may|      76|       1|   -1|       0| unknown| no|          0.0|\n",
      "| 47| blue-collar| married|  unknown|     no|   1506|    yes|  no|unknown|  5|  may|      92|       1|   -1|       0| unknown| no|          0.0|\n",
      "| 33|     unknown|  single|  unknown|     no|      1|     no|  no|unknown|  5|  may|     198|       1|   -1|       0| unknown| no|          0.0|\n",
      "| 35|  management| married| tertiary|     no|    231|    yes|  no|unknown|  5|  may|     139|       1|   -1|       0| unknown| no|          0.0|\n",
      "| 28|  management|  single| tertiary|     no|    447|    yes| yes|unknown|  5|  may|     217|       1|   -1|       0| unknown| no|          0.0|\n",
      "| 42|entrepreneur|divorced| tertiary|    yes|      2|    yes|  no|unknown|  5|  may|     380|       1|   -1|       0| unknown| no|          1.0|\n",
      "| 58|     retired| married|  primary|     no|    121|    yes|  no|unknown|  5|  may|      50|       1|   -1|       0| unknown| no|          0.0|\n",
      "| 43|  technician|  single|secondary|     no|    593|    yes|  no|unknown|  5|  may|      55|       1|   -1|       0| unknown| no|          0.0|\n",
      "| 41|      admin.|divorced|secondary|     no|    270|    yes|  no|unknown|  5|  may|     222|       1|   -1|       0| unknown| no|          0.0|\n",
      "| 29|      admin.|  single|secondary|     no|    390|    yes|  no|unknown|  5|  may|     137|       1|   -1|       0| unknown| no|          0.0|\n",
      "| 53|  technician| married|secondary|     no|      6|    yes|  no|unknown|  5|  may|     517|       1|   -1|       0| unknown| no|          0.0|\n",
      "| 58|  technician| married|  unknown|     no|     71|    yes|  no|unknown|  5|  may|      71|       1|   -1|       0| unknown| no|          0.0|\n",
      "| 57|    services| married|secondary|     no|    162|    yes|  no|unknown|  5|  may|     174|       1|   -1|       0| unknown| no|          0.0|\n",
      "| 51|     retired| married|  primary|     no|    229|    yes|  no|unknown|  5|  may|     353|       1|   -1|       0| unknown| no|          0.0|\n",
      "| 45|      admin.|  single|  unknown|     no|     13|    yes|  no|unknown|  5|  may|      98|       1|   -1|       0| unknown| no|          0.0|\n",
      "| 57| blue-collar| married|  primary|     no|     52|    yes|  no|unknown|  5|  may|      38|       1|   -1|       0| unknown| no|          0.0|\n",
      "| 60|     retired| married|  primary|     no|     60|    yes|  no|unknown|  5|  may|     219|       1|   -1|       0| unknown| no|          0.0|\n",
      "| 33|    services| married|secondary|     no|      0|    yes|  no|unknown|  5|  may|      54|       1|   -1|       0| unknown| no|          0.0|\n",
      "+---+------------+--------+---------+-------+-------+-------+----+-------+---+-----+--------+--------+-----+--------+--------+---+-------------+\n",
      "only showing top 20 rows\n",
      "\n"
     ]
    }
   ],
   "source": [
    "data1.show()"
   ]
  },
  {
   "cell_type": "code",
   "execution_count": 6,
   "id": "488d81f1-fe60-4f46-ae7b-133d541e0fc3",
   "metadata": {},
   "outputs": [
    {
     "name": "stdout",
     "output_type": "stream",
     "text": [
      "+---+------------+--------+---------+-------+-------+-------+----+-------+---+-----+--------+--------+-----+--------+--------+---+-------------+---+\n",
      "|age|         job| marital|education|default|balance|housing|loan|contact|day|month|duration|campaign|pdays|previous|poutcome|  y|default_index| y1|\n",
      "+---+------------+--------+---------+-------+-------+-------+----+-------+---+-----+--------+--------+-----+--------+--------+---+-------------+---+\n",
      "| 58|  management| married| tertiary|     no|   2143|    yes|  no|unknown|  5|  may|     261|       1|   -1|       0| unknown| no|          0.0|0.0|\n",
      "| 44|  technician|  single|secondary|     no|     29|    yes|  no|unknown|  5|  may|     151|       1|   -1|       0| unknown| no|          0.0|0.0|\n",
      "| 33|entrepreneur| married|secondary|     no|      2|    yes| yes|unknown|  5|  may|      76|       1|   -1|       0| unknown| no|          0.0|0.0|\n",
      "| 47| blue-collar| married|  unknown|     no|   1506|    yes|  no|unknown|  5|  may|      92|       1|   -1|       0| unknown| no|          0.0|0.0|\n",
      "| 33|     unknown|  single|  unknown|     no|      1|     no|  no|unknown|  5|  may|     198|       1|   -1|       0| unknown| no|          0.0|0.0|\n",
      "| 35|  management| married| tertiary|     no|    231|    yes|  no|unknown|  5|  may|     139|       1|   -1|       0| unknown| no|          0.0|0.0|\n",
      "| 28|  management|  single| tertiary|     no|    447|    yes| yes|unknown|  5|  may|     217|       1|   -1|       0| unknown| no|          0.0|0.0|\n",
      "| 42|entrepreneur|divorced| tertiary|    yes|      2|    yes|  no|unknown|  5|  may|     380|       1|   -1|       0| unknown| no|          1.0|0.0|\n",
      "| 58|     retired| married|  primary|     no|    121|    yes|  no|unknown|  5|  may|      50|       1|   -1|       0| unknown| no|          0.0|0.0|\n",
      "| 43|  technician|  single|secondary|     no|    593|    yes|  no|unknown|  5|  may|      55|       1|   -1|       0| unknown| no|          0.0|0.0|\n",
      "| 41|      admin.|divorced|secondary|     no|    270|    yes|  no|unknown|  5|  may|     222|       1|   -1|       0| unknown| no|          0.0|0.0|\n",
      "| 29|      admin.|  single|secondary|     no|    390|    yes|  no|unknown|  5|  may|     137|       1|   -1|       0| unknown| no|          0.0|0.0|\n",
      "| 53|  technician| married|secondary|     no|      6|    yes|  no|unknown|  5|  may|     517|       1|   -1|       0| unknown| no|          0.0|0.0|\n",
      "| 58|  technician| married|  unknown|     no|     71|    yes|  no|unknown|  5|  may|      71|       1|   -1|       0| unknown| no|          0.0|0.0|\n",
      "| 57|    services| married|secondary|     no|    162|    yes|  no|unknown|  5|  may|     174|       1|   -1|       0| unknown| no|          0.0|0.0|\n",
      "| 51|     retired| married|  primary|     no|    229|    yes|  no|unknown|  5|  may|     353|       1|   -1|       0| unknown| no|          0.0|0.0|\n",
      "| 45|      admin.|  single|  unknown|     no|     13|    yes|  no|unknown|  5|  may|      98|       1|   -1|       0| unknown| no|          0.0|0.0|\n",
      "| 57| blue-collar| married|  primary|     no|     52|    yes|  no|unknown|  5|  may|      38|       1|   -1|       0| unknown| no|          0.0|0.0|\n",
      "| 60|     retired| married|  primary|     no|     60|    yes|  no|unknown|  5|  may|     219|       1|   -1|       0| unknown| no|          0.0|0.0|\n",
      "| 33|    services| married|secondary|     no|      0|    yes|  no|unknown|  5|  may|      54|       1|   -1|       0| unknown| no|          0.0|0.0|\n",
      "+---+------------+--------+---------+-------+-------+-------+----+-------+---+-----+--------+--------+-----+--------+--------+---+-------------+---+\n",
      "only showing top 20 rows\n",
      "\n"
     ]
    }
   ],
   "source": [
    "# 目的変数\n",
    "from pyspark.sql.functions import lit, when, col\n",
    "data2 = data1.withColumn(\"y1\", when(col(\"y\") == \"yes\", lit(1.0)).otherwise(lit(0.0)))\n",
    "data2.show()"
   ]
  },
  {
   "cell_type": "code",
   "execution_count": 7,
   "id": "05e3b7d1-a048-4055-b35c-e789f5ff5de5",
   "metadata": {},
   "outputs": [],
   "source": [
    "use_df = data2.select([\"age\", \"balance\", \"day\", \"duration\", \"campaign\", \"pdays\", \"previous\", \"default_index\", \"y1\"])"
   ]
  },
  {
   "cell_type": "code",
   "execution_count": 8,
   "id": "995d2693-64bb-4538-88d6-8f3859cc88dc",
   "metadata": {},
   "outputs": [],
   "source": [
    "target = \"y1\"\n",
    "features = use_df.columns"
   ]
  },
  {
   "cell_type": "code",
   "execution_count": 9,
   "id": "cac969a5-eadc-480d-8bd9-1309b91fa5a5",
   "metadata": {},
   "outputs": [],
   "source": [
    "features.remove(target)"
   ]
  },
  {
   "cell_type": "code",
   "execution_count": 10,
   "id": "cc327b2e-02af-401f-96e6-808fcc8a8313",
   "metadata": {},
   "outputs": [],
   "source": [
    "# データ作成（assembler）\n",
    "from pyspark.ml.feature import VectorAssembler\n",
    "assemble = VectorAssembler(inputCols=features, outputCol=\"features\")\n",
    "df = assemble.transform(use_df)"
   ]
  },
  {
   "cell_type": "code",
   "execution_count": 11,
   "id": "ce41dc44-c99e-4887-8a2a-c17333846154",
   "metadata": {},
   "outputs": [
    {
     "name": "stdout",
     "output_type": "stream",
     "text": [
      "+---+-------+---+--------+--------+-----+--------+-------------+---+--------------------+\n",
      "|age|balance|day|duration|campaign|pdays|previous|default_index| y1|            features|\n",
      "+---+-------+---+--------+--------+-----+--------+-------------+---+--------------------+\n",
      "| 58|   2143|  5|     261|       1|   -1|       0|          0.0|0.0|[58.0,2143.0,5.0,...|\n",
      "| 44|     29|  5|     151|       1|   -1|       0|          0.0|0.0|[44.0,29.0,5.0,15...|\n",
      "| 33|      2|  5|      76|       1|   -1|       0|          0.0|0.0|[33.0,2.0,5.0,76....|\n",
      "| 47|   1506|  5|      92|       1|   -1|       0|          0.0|0.0|[47.0,1506.0,5.0,...|\n",
      "| 33|      1|  5|     198|       1|   -1|       0|          0.0|0.0|[33.0,1.0,5.0,198...|\n",
      "| 35|    231|  5|     139|       1|   -1|       0|          0.0|0.0|[35.0,231.0,5.0,1...|\n",
      "| 28|    447|  5|     217|       1|   -1|       0|          0.0|0.0|[28.0,447.0,5.0,2...|\n",
      "| 42|      2|  5|     380|       1|   -1|       0|          1.0|0.0|[42.0,2.0,5.0,380...|\n",
      "| 58|    121|  5|      50|       1|   -1|       0|          0.0|0.0|[58.0,121.0,5.0,5...|\n",
      "| 43|    593|  5|      55|       1|   -1|       0|          0.0|0.0|[43.0,593.0,5.0,5...|\n",
      "| 41|    270|  5|     222|       1|   -1|       0|          0.0|0.0|[41.0,270.0,5.0,2...|\n",
      "| 29|    390|  5|     137|       1|   -1|       0|          0.0|0.0|[29.0,390.0,5.0,1...|\n",
      "| 53|      6|  5|     517|       1|   -1|       0|          0.0|0.0|[53.0,6.0,5.0,517...|\n",
      "| 58|     71|  5|      71|       1|   -1|       0|          0.0|0.0|[58.0,71.0,5.0,71...|\n",
      "| 57|    162|  5|     174|       1|   -1|       0|          0.0|0.0|[57.0,162.0,5.0,1...|\n",
      "| 51|    229|  5|     353|       1|   -1|       0|          0.0|0.0|[51.0,229.0,5.0,3...|\n",
      "| 45|     13|  5|      98|       1|   -1|       0|          0.0|0.0|[45.0,13.0,5.0,98...|\n",
      "| 57|     52|  5|      38|       1|   -1|       0|          0.0|0.0|[57.0,52.0,5.0,38...|\n",
      "| 60|     60|  5|     219|       1|   -1|       0|          0.0|0.0|[60.0,60.0,5.0,21...|\n",
      "| 33|      0|  5|      54|       1|   -1|       0|          0.0|0.0|[33.0,0.0,5.0,54....|\n",
      "+---+-------+---+--------+--------+-----+--------+-------------+---+--------------------+\n",
      "only showing top 20 rows\n",
      "\n"
     ]
    }
   ],
   "source": [
    "df.show()"
   ]
  },
  {
   "cell_type": "code",
   "execution_count": 12,
   "id": "0b95e5d9-b193-4588-950c-aa65e5dcbba9",
   "metadata": {},
   "outputs": [],
   "source": [
    "train_df, test_df = df.randomSplit([0.7, 0.3], seed=123)"
   ]
  },
  {
   "cell_type": "code",
   "execution_count": 13,
   "id": "ed0fb0cb-7f6c-4648-ab1b-9ae60b82eee9",
   "metadata": {},
   "outputs": [],
   "source": [
    "from pyspark.ml.classification import RandomForestClassifier\n",
    "clf = RandomForestClassifier(featuresCol=\"features\", labelCol=\"y1\", impurity=\"gini\")"
   ]
  },
  {
   "cell_type": "code",
   "execution_count": 14,
   "id": "84c4d923-1dd4-4f4e-865b-54d6741d15d4",
   "metadata": {},
   "outputs": [],
   "source": [
    "clf_model = clf.fit(train_df)"
   ]
  },
  {
   "cell_type": "code",
   "execution_count": 15,
   "id": "faadfeb8-3e93-4de7-9dec-1fe8efb21b71",
   "metadata": {},
   "outputs": [
    {
     "data": {
      "text/plain": [
       "[('age', 0.03973404612890176),\n",
       " ('balance', 0.017276406658673887),\n",
       " ('day', 0.026599810055693607),\n",
       " ('duration', 0.7543724391631226),\n",
       " ('campaign', 0.006588571019842665),\n",
       " ('pdays', 0.11363372671577703),\n",
       " ('previous', 0.04166287208006931),\n",
       " ('default_index', 0.00013212817791913482)]"
      ]
     },
     "execution_count": 15,
     "metadata": {},
     "output_type": "execute_result"
    }
   ],
   "source": [
    "list(zip(features, clf_model.featureImportances))"
   ]
  },
  {
   "cell_type": "code",
   "execution_count": 16,
   "id": "d9081344-4bc4-4a37-8ba9-5828efee94a1",
   "metadata": {},
   "outputs": [
    {
     "data": {
      "text/plain": [
       "DataFrame[age: int, balance: int, day: int, duration: int, campaign: int, pdays: int, previous: int, default_index: double, y1: double, features: vector, rawPrediction: vector, probability: vector, prediction: double]"
      ]
     },
     "execution_count": 16,
     "metadata": {},
     "output_type": "execute_result"
    }
   ],
   "source": [
    "pred_train = clf_model.transform(train_df)\n",
    "pred_train"
   ]
  },
  {
   "cell_type": "code",
   "execution_count": 17,
   "id": "ea69c4a8-2cd0-41b1-bf13-264b2bf1e4ae",
   "metadata": {},
   "outputs": [
    {
     "name": "stdout",
     "output_type": "stream",
     "text": [
      "+---+-------+---+--------+--------+-----+--------+-------------+---+--------------------+--------------------+--------------------+----------+\n",
      "|age|balance|day|duration|campaign|pdays|previous|default_index| y1|            features|       rawPrediction|         probability|prediction|\n",
      "+---+-------+---+--------+--------+-----+--------+-------------+---+--------------------+--------------------+--------------------+----------+\n",
      "| 18|      3| 25|     130|       2|   -1|       0|          0.0|1.0|[18.0,3.0,25.0,13...|[18.9512846787812...|[0.94756423393906...|       0.0|\n",
      "| 18|      5| 24|     143|       2|   -1|       0|          0.0|0.0|[18.0,5.0,24.0,14...|[18.9512846787812...|[0.94756423393906...|       0.0|\n",
      "| 18|    108|  8|     169|       1|   -1|       0|          0.0|1.0|[18.0,108.0,8.0,1...|[18.8606617415663...|[0.94303308707831...|       0.0|\n",
      "| 18|    108|  9|      92|       1|  183|       1|          0.0|1.0|[18.0,108.0,9.0,9...|[18.1329674389833...|[0.90664837194916...|       0.0|\n",
      "| 18|    108| 10|     167|       1|   -1|       0|          0.0|1.0|[18.0,108.0,10.0,...|[18.8606617415663...|[0.94303308707831...|       0.0|\n",
      "| 18|    348|  5|     443|       4|   -1|       0|          0.0|1.0|[18.0,348.0,5.0,4...|[18.5759758243800...|[0.92879879121900...|       0.0|\n",
      "| 18|    438|  1|     425|       1|   -1|       0|          0.0|0.0|[18.0,438.0,1.0,4...|[17.4365413437284...|[0.87182706718642...|       0.0|\n",
      "| 18|    608| 13|     210|       1|   93|       1|          0.0|1.0|[18.0,608.0,13.0,...|[13.3649262521573...|[0.66824631260786...|       0.0|\n",
      "| 18|   1944| 10|     122|       3|   -1|       0|          0.0|0.0|[18.0,1944.0,10.0...|[18.8156876947644...|[0.94078438473822...|       0.0|\n",
      "| 19|      4|  3|     114|       1|   -1|       0|          0.0|0.0|[19.0,4.0,3.0,114...|[18.8949099450538...|[0.94474549725269...|       0.0|\n",
      "| 19|     27|  5|      86|      12|   -1|       0|          0.0|0.0|[19.0,27.0,5.0,86...|[18.9512846787812...|[0.94756423393906...|       0.0|\n",
      "| 19|     55|  6|      89|       2|  193|       1|          0.0|0.0|[19.0,55.0,6.0,89...|[18.5489493823039...|[0.92744746911519...|       0.0|\n",
      "| 19|     56| 12|     246|       1|   -1|       0|          0.0|0.0|[19.0,56.0,12.0,2...|[18.7345141188924...|[0.93672570594462...|       0.0|\n",
      "| 19|     88|  8|     191|       1|   -1|       0|          0.0|0.0|[19.0,88.0,8.0,19...|[18.8815900409028...|[0.94407950204514...|       0.0|\n",
      "| 19|     96| 23|     106|       3|   -1|       0|          0.0|0.0|[19.0,96.0,23.0,1...|[18.9379647746302...|[0.94689823873151...|       0.0|\n",
      "| 19|    103| 10|     104|       2|   -1|       0|          0.0|1.0|[19.0,103.0,10.0,...|[18.9379647746302...|[0.94689823873151...|       0.0|\n",
      "| 19|    103| 15|      96|       2|   97|       2|          0.0|0.0|[19.0,103.0,15.0,...|[18.1703995361143...|[0.90851997680571...|       0.0|\n",
      "| 19|    108|  9|     273|       2|  182|       1|          0.0|1.0|[19.0,108.0,9.0,2...|[14.8459986252577...|[0.74229993126288...|       0.0|\n",
      "| 19|    108| 10|     168|       1|  182|       2|          0.0|1.0|[19.0,108.0,10.0,...|[17.5857898230299...|[0.87928949115149...|       0.0|\n",
      "| 19|    134| 27|     271|       2|   -1|       0|          0.0|1.0|[19.0,134.0,27.0,...|[18.7699605532834...|[0.93849802766417...|       0.0|\n",
      "+---+-------+---+--------+--------+-----+--------+-------------+---+--------------------+--------------------+--------------------+----------+\n",
      "only showing top 20 rows\n",
      "\n"
     ]
    }
   ],
   "source": [
    "pred_train.show()"
   ]
  },
  {
   "cell_type": "code",
   "execution_count": 18,
   "id": "02ee4e85-1dff-4b91-957a-4362121fbd79",
   "metadata": {},
   "outputs": [
    {
     "data": {
      "text/plain": [
       "0.848535495662478"
      ]
     },
     "execution_count": 18,
     "metadata": {},
     "output_type": "execute_result"
    }
   ],
   "source": [
    "from pyspark.ml.evaluation import BinaryClassificationEvaluator\n",
    "evaluator = BinaryClassificationEvaluator(labelCol=\"y1\")\n",
    "AUC = evaluator.evaluate(pred_train)\n",
    "AUC"
   ]
  },
  {
   "cell_type": "code",
   "execution_count": 19,
   "id": "4c28fe26-ba02-4915-ac02-4818f763c1ec",
   "metadata": {},
   "outputs": [
    {
     "name": "stdout",
     "output_type": "stream",
     "text": [
      "+---+-------+---+--------+--------+-----+--------+-------------+---+--------------------+--------------------+--------------------+----------+\n",
      "|age|balance|day|duration|campaign|pdays|previous|default_index| y1|            features|       rawPrediction|         probability|prediction|\n",
      "+---+-------+---+--------+--------+-----+--------+-------------+---+--------------------+--------------------+--------------------+----------+\n",
      "| 18|     35| 21|     104|       2|   -1|       0|          0.0|0.0|[18.0,35.0,21.0,1...|[18.9512846787812...|[0.94756423393906...|       0.0|\n",
      "| 18|    156|  4|     298|       2|   82|       4|          0.0|0.0|[18.0,156.0,4.0,2...|[13.3572878925648...|[0.66786439462824...|       0.0|\n",
      "| 18|    608| 12|     267|       1|   -1|       0|          0.0|1.0|[18.0,608.0,12.0,...|[18.6928344025598...|[0.93464172012799...|       0.0|\n",
      "| 19|      0|  4|      72|       4|   -1|       0|          0.0|0.0|[19.0,0.0,4.0,72....|[18.9512846787812...|[0.94756423393906...|       0.0|\n",
      "| 19|      0| 11|     123|       3|   -1|       0|          0.0|0.0|[19.0,0.0,11.0,12...|[18.9512846787812...|[0.94756423393906...|       0.0|\n",
      "| 19|     60| 14|     253|       1|   -1|       0|          0.0|0.0|[19.0,60.0,14.0,2...|[18.7345141188924...|[0.93672570594462...|       0.0|\n",
      "| 19|    103| 18|     177|       2|   95|       4|          0.0|0.0|[19.0,103.0,18.0,...|[17.8008168506255...|[0.89004084253127...|       0.0|\n",
      "| 19|    291|  5|     291|       5|   -1|       0|          0.0|0.0|[19.0,291.0,5.0,2...|[18.7699605532834...|[0.93849802766417...|       0.0|\n",
      "| 19|    302| 16|     205|       1|   -1|       0|          0.0|1.0|[19.0,302.0,16.0,...|[18.8606617415663...|[0.94303308707831...|       0.0|\n",
      "| 19|    372|  8|     444|       3|   -1|       0|          0.0|1.0|[19.0,372.0,8.0,4...|[18.5759758243800...|[0.92879879121900...|       0.0|\n",
      "| 19|    394|  5|     327|       3|   -1|       0|          0.0|1.0|[19.0,394.0,5.0,3...|[18.6687353432805...|[0.93343676716402...|       0.0|\n",
      "| 19|    424| 30|     121|       3|  195|       2|          0.0|0.0|[19.0,424.0,30.0,...|[18.0960791085877...|[0.90480395542938...|       0.0|\n",
      "| 19|    527|  4|     154|       3|   -1|       0|          0.0|0.0|[19.0,527.0,4.0,1...|[18.9170364752937...|[0.94585182376468...|       0.0|\n",
      "| 19|    626| 15|     117|       1|   -1|       0|          0.0|0.0|[19.0,626.0,15.0,...|[18.8399103245702...|[0.94199551622851...|       0.0|\n",
      "| 19|   5368|  4|      77|       6|   -1|       0|          0.0|0.0|[19.0,5368.0,4.0,...|[18.8156876947644...|[0.94078438473822...|       0.0|\n",
      "| 20|   -322| 20|      73|       4|   -1|       0|          0.0|0.0|[20.0,-322.0,20.0...|[18.9512846787812...|[0.94756423393906...|       0.0|\n",
      "| 20|     67| 19|     387|       1|   -1|       0|          0.0|0.0|[20.0,67.0,19.0,3...|[18.5405293899890...|[0.92702646949945...|       0.0|\n",
      "| 20|     88| 21|     621|       1|  181|       4|          0.0|0.0|[20.0,88.0,21.0,6...|[11.7719492409889...|[0.58859746204944...|       0.0|\n",
      "| 20|    130|  4|      75|       3|   -1|       0|          0.0|0.0|[20.0,130.0,4.0,7...|[18.9170364752937...|[0.94585182376468...|       0.0|\n",
      "| 20|    130| 11|      88|       1|   99|       3|          0.0|0.0|[20.0,130.0,11.0,...|[17.9318139177079...|[0.89659069588539...|       0.0|\n",
      "+---+-------+---+--------+--------+-----+--------+-------------+---+--------------------+--------------------+--------------------+----------+\n",
      "only showing top 20 rows\n",
      "\n"
     ]
    }
   ],
   "source": [
    "pred_test = clf_model.transform(test_df)\n",
    "pred_test.show()"
   ]
  },
  {
   "cell_type": "code",
   "execution_count": 20,
   "id": "440edb72-c9d4-4719-8078-c9899702c070",
   "metadata": {},
   "outputs": [
    {
     "data": {
      "text/plain": [
       "13676"
      ]
     },
     "execution_count": 20,
     "metadata": {},
     "output_type": "execute_result"
    }
   ],
   "source": [
    "pred_test.count()"
   ]
  },
  {
   "cell_type": "code",
   "execution_count": 21,
   "id": "aaeb910e-1de2-47f8-a625-72b7eb255ec5",
   "metadata": {},
   "outputs": [
    {
     "data": {
      "text/plain": [
       "0.8450246396968292"
      ]
     },
     "execution_count": 21,
     "metadata": {},
     "output_type": "execute_result"
    }
   ],
   "source": [
    "from pyspark.ml.evaluation import BinaryClassificationEvaluator\n",
    "evaluator = BinaryClassificationEvaluator(labelCol=\"y1\")\n",
    "AUC = evaluator.evaluate(pred_test)\n",
    "AUC"
   ]
  }
 ],
 "metadata": {
  "kernelspec": {
   "display_name": "Python 3 (ipykernel)",
   "language": "python",
   "name": "python3"
  },
  "language_info": {
   "codemirror_mode": {
    "name": "ipython",
    "version": 3
   },
   "file_extension": ".py",
   "mimetype": "text/x-python",
   "name": "python",
   "nbconvert_exporter": "python",
   "pygments_lexer": "ipython3",
   "version": "3.11.6"
  }
 },
 "nbformat": 4,
 "nbformat_minor": 5
}
