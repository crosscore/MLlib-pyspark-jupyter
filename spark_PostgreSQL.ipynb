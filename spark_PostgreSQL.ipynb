{
 "cells": [
  {
   "cell_type": "code",
   "execution_count": 1,
   "id": "301e0b67-f464-47af-82ec-33134273451f",
   "metadata": {},
   "outputs": [],
   "source": [
    "from pyspark.sql import SparkSession\n",
    "import psycopg2\n",
    "import os\n",
    "os.environ['PYSPARK_SUBMIT_ARGS'] = '--jars /usr/local/spark/jars/postgresql-42.7.3.jar pyspark-shell'"
   ]
  },
  {
   "cell_type": "code",
   "execution_count": 2,
   "id": "ed1a8893-dee9-4f2b-8d84-c6c15a1b6ae8",
   "metadata": {},
   "outputs": [],
   "source": [
    "spark = SparkSession.builder \\\n",
    "    .appName(\"PostgreSQL JDBC Example\") \\\n",
    "    .getOrCreate()"
   ]
  },
  {
   "cell_type": "code",
   "execution_count": 3,
   "id": "b6705906-adec-4c50-868f-6902435534a2",
   "metadata": {},
   "outputs": [],
   "source": [
    "df = spark.read \\\n",
    "    .format(\"csv\") \\\n",
    "    .option(\"header\", \"true\") \\\n",
    "    .option(\"inferSchema\", \"true\") \\\n",
    "    .load(\"./data/Online_Retail.csv\")"
   ]
  },
  {
   "cell_type": "code",
   "execution_count": 4,
   "id": "931431d2-4816-4d47-a75a-3b123bec2f38",
   "metadata": {},
   "outputs": [
    {
     "name": "stdout",
     "output_type": "stream",
     "text": [
      "+---------+---------+--------------------+--------+-------------------+---------+----------+--------------+\n",
      "|InvoiceNo|StockCode|         Description|Quantity|        InvoiceDate|UnitPrice|CustomerID|       Country|\n",
      "+---------+---------+--------------------+--------+-------------------+---------+----------+--------------+\n",
      "|   536365|   85123A|WHITE HANGING HEA...|       6|2010-12-01 08:26:00|     2.55|     17850|United Kingdom|\n",
      "|   536365|    71053| WHITE METAL LANTERN|       6|2010-12-01 08:26:00|     3.39|     17850|United Kingdom|\n",
      "|   536365|   84406B|CREAM CUPID HEART...|       8|2010-12-01 08:26:00|     2.75|     17850|United Kingdom|\n",
      "|   536365|   84029G|KNITTED UNION FLA...|       6|2010-12-01 08:26:00|     3.39|     17850|United Kingdom|\n",
      "|   536365|   84029E|RED WOOLLY HOTTIE...|       6|2010-12-01 08:26:00|     3.39|     17850|United Kingdom|\n",
      "|   536365|    22752|SET 7 BABUSHKA NE...|       2|2010-12-01 08:26:00|     7.65|     17850|United Kingdom|\n",
      "|   536365|    21730|GLASS STAR FROSTE...|       6|2010-12-01 08:26:00|     4.25|     17850|United Kingdom|\n",
      "|   536366|    22633|HAND WARMER UNION...|       6|2010-12-01 08:28:00|     1.85|     17850|United Kingdom|\n",
      "|   536366|    22632|HAND WARMER RED P...|       6|2010-12-01 08:28:00|     1.85|     17850|United Kingdom|\n",
      "|   536367|    84879|ASSORTED COLOUR B...|      32|2010-12-01 08:34:00|     1.69|     13047|United Kingdom|\n",
      "|   536367|    22745|POPPY'S PLAYHOUSE...|       6|2010-12-01 08:34:00|      2.1|     13047|United Kingdom|\n",
      "|   536367|    22748|POPPY'S PLAYHOUSE...|       6|2010-12-01 08:34:00|      2.1|     13047|United Kingdom|\n",
      "|   536367|    22749|FELTCRAFT PRINCES...|       8|2010-12-01 08:34:00|     3.75|     13047|United Kingdom|\n",
      "|   536367|    22310|IVORY KNITTED MUG...|       6|2010-12-01 08:34:00|     1.65|     13047|United Kingdom|\n",
      "|   536367|    84969|BOX OF 6 ASSORTED...|       6|2010-12-01 08:34:00|     4.25|     13047|United Kingdom|\n",
      "|   536367|    22623|BOX OF VINTAGE JI...|       3|2010-12-01 08:34:00|     4.95|     13047|United Kingdom|\n",
      "|   536367|    22622|BOX OF VINTAGE AL...|       2|2010-12-01 08:34:00|     9.95|     13047|United Kingdom|\n",
      "|   536367|    21754|HOME BUILDING BLO...|       3|2010-12-01 08:34:00|     5.95|     13047|United Kingdom|\n",
      "|   536367|    21755|LOVE BUILDING BLO...|       3|2010-12-01 08:34:00|     5.95|     13047|United Kingdom|\n",
      "|   536367|    21777|RECIPE BOX WITH M...|       4|2010-12-01 08:34:00|     7.95|     13047|United Kingdom|\n",
      "+---------+---------+--------------------+--------+-------------------+---------+----------+--------------+\n",
      "only showing top 20 rows\n",
      "\n"
     ]
    }
   ],
   "source": [
    "df.show()"
   ]
  },
  {
   "cell_type": "code",
   "execution_count": 5,
   "id": "5f23085a-bba0-4d54-aa50-2e897cceca41",
   "metadata": {},
   "outputs": [
    {
     "name": "stdout",
     "output_type": "stream",
     "text": [
      "+---------+---------+--------------------+--------+-------------------+---------+----------+--------------+------------------+\n",
      "|InvoiceNo|StockCode|         Description|Quantity|        InvoiceDate|UnitPrice|CustomerID|       Country|            Amount|\n",
      "+---------+---------+--------------------+--------+-------------------+---------+----------+--------------+------------------+\n",
      "|   536365|   85123A|WHITE HANGING HEA...|       6|2010-12-01 08:26:00|     2.55|     17850|United Kingdom|15.299999999999999|\n",
      "|   536365|    71053| WHITE METAL LANTERN|       6|2010-12-01 08:26:00|     3.39|     17850|United Kingdom|             20.34|\n",
      "|   536365|   84406B|CREAM CUPID HEART...|       8|2010-12-01 08:26:00|     2.75|     17850|United Kingdom|              22.0|\n",
      "|   536365|   84029G|KNITTED UNION FLA...|       6|2010-12-01 08:26:00|     3.39|     17850|United Kingdom|             20.34|\n",
      "|   536365|   84029E|RED WOOLLY HOTTIE...|       6|2010-12-01 08:26:00|     3.39|     17850|United Kingdom|             20.34|\n",
      "|   536365|    22752|SET 7 BABUSHKA NE...|       2|2010-12-01 08:26:00|     7.65|     17850|United Kingdom|              15.3|\n",
      "|   536365|    21730|GLASS STAR FROSTE...|       6|2010-12-01 08:26:00|     4.25|     17850|United Kingdom|              25.5|\n",
      "|   536366|    22633|HAND WARMER UNION...|       6|2010-12-01 08:28:00|     1.85|     17850|United Kingdom|11.100000000000001|\n",
      "|   536366|    22632|HAND WARMER RED P...|       6|2010-12-01 08:28:00|     1.85|     17850|United Kingdom|11.100000000000001|\n",
      "|   536367|    84879|ASSORTED COLOUR B...|      32|2010-12-01 08:34:00|     1.69|     13047|United Kingdom|             54.08|\n",
      "|   536367|    22745|POPPY'S PLAYHOUSE...|       6|2010-12-01 08:34:00|      2.1|     13047|United Kingdom|12.600000000000001|\n",
      "|   536367|    22748|POPPY'S PLAYHOUSE...|       6|2010-12-01 08:34:00|      2.1|     13047|United Kingdom|12.600000000000001|\n",
      "|   536367|    22749|FELTCRAFT PRINCES...|       8|2010-12-01 08:34:00|     3.75|     13047|United Kingdom|              30.0|\n",
      "|   536367|    22310|IVORY KNITTED MUG...|       6|2010-12-01 08:34:00|     1.65|     13047|United Kingdom| 9.899999999999999|\n",
      "|   536367|    84969|BOX OF 6 ASSORTED...|       6|2010-12-01 08:34:00|     4.25|     13047|United Kingdom|              25.5|\n",
      "|   536367|    22623|BOX OF VINTAGE JI...|       3|2010-12-01 08:34:00|     4.95|     13047|United Kingdom|14.850000000000001|\n",
      "|   536367|    22622|BOX OF VINTAGE AL...|       2|2010-12-01 08:34:00|     9.95|     13047|United Kingdom|              19.9|\n",
      "|   536367|    21754|HOME BUILDING BLO...|       3|2010-12-01 08:34:00|     5.95|     13047|United Kingdom|             17.85|\n",
      "|   536367|    21755|LOVE BUILDING BLO...|       3|2010-12-01 08:34:00|     5.95|     13047|United Kingdom|             17.85|\n",
      "|   536367|    21777|RECIPE BOX WITH M...|       4|2010-12-01 08:34:00|     7.95|     13047|United Kingdom|              31.8|\n",
      "+---------+---------+--------------------+--------+-------------------+---------+----------+--------------+------------------+\n",
      "only showing top 20 rows\n",
      "\n"
     ]
    }
   ],
   "source": [
    "df = df.withColumn(\"Amount\", df['Quantity'] * df['UnitPrice'])\n",
    "df.show()"
   ]
  },
  {
   "cell_type": "code",
   "execution_count": 6,
   "id": "fa844975-b223-43cd-b3ca-86633100b9c0",
   "metadata": {},
   "outputs": [],
   "source": [
    "conn = psycopg2.connect(\n",
    "    host=\"postgres\",\n",
    "    database=\"my_database\",\n",
    "    user=\"my_username\",\n",
    "    password=\"my_password\"\n",
    ")"
   ]
  },
  {
   "cell_type": "code",
   "execution_count": 7,
   "id": "c39c8214-8c7c-48bd-acf0-83a04f85bed7",
   "metadata": {},
   "outputs": [],
   "source": [
    "cur = conn.cursor()"
   ]
  },
  {
   "cell_type": "code",
   "execution_count": 8,
   "id": "e9612d16-2617-4f50-a59c-73eae22fd1d2",
   "metadata": {},
   "outputs": [],
   "source": [
    "cur.execute(\"\"\"\n",
    "   CREATE TABLE IF NOT EXISTS sales (\n",
    "       InvoiceNo VARCHAR(255),\n",
    "       StockCode VARCHAR(255),\n",
    "       Description VARCHAR(255),\n",
    "       Quantity INTEGER,\n",
    "       InvoiceDate DATE,\n",
    "       UnitPrice FLOAT,\n",
    "       CustomerID INTEGER,\n",
    "       Country VARCHAR(255),\n",
    "       Amount FLOAT\n",
    "   ) \n",
    "\"\"\")"
   ]
  },
  {
   "cell_type": "code",
   "execution_count": 9,
   "id": "be8d6ba2-5570-4f09-9d58-400670f858f0",
   "metadata": {},
   "outputs": [],
   "source": [
    "for row in df.rdd.collect():\n",
    "    cur.execute(\"\"\"\n",
    "        INSERT INTO sales (InvoiceNo, StockCode, Description, Quantity, InvoiceDate, UnitPrice, CustomerID, Country, Amount)\n",
    "        VALUES (%s, %s, %s, %s, %s, %s, %s, %s, %s)\n",
    "    \"\"\", (row.InvoiceNo, row.StockCode, row.Description, row.Quantity, row.InvoiceDate, row.UnitPrice, row.CustomerID, row.Country, row.Amount))"
   ]
  },
  {
   "cell_type": "code",
   "execution_count": 10,
   "id": "9bd54694-fbb4-4556-ad62-57550173b4a4",
   "metadata": {},
   "outputs": [],
   "source": [
    "conn.commit()"
   ]
  },
  {
   "cell_type": "code",
   "execution_count": 11,
   "id": "7d9708cd-922b-4949-b94a-8d92a68a70fb",
   "metadata": {},
   "outputs": [],
   "source": [
    "query = \"SELECT * FROM sales\""
   ]
  },
  {
   "cell_type": "code",
   "execution_count": 12,
   "id": "13a572c7-3500-4100-9e73-7952645d02bc",
   "metadata": {},
   "outputs": [],
   "source": [
    "df = spark.read \\\n",
    "    .format(\"jdbc\") \\\n",
    "    .option(\"url\", \"jdbc:postgresql://postgres:5432/my_database\") \\\n",
    "    .option(\"dbtable\", f\"({query}) as tmp\") \\\n",
    "    .option(\"user\", \"my_username\") \\\n",
    "    .option(\"password\", \"my_password\") \\\n",
    "    .load()"
   ]
  },
  {
   "cell_type": "code",
   "execution_count": 13,
   "id": "4bd2ec16-534b-4002-b47e-8227c2fc8639",
   "metadata": {},
   "outputs": [
    {
     "name": "stdout",
     "output_type": "stream",
     "text": [
      "+---------+---------+-----------------------------------+--------+-----------+---------+----------+--------------+------------------+\n",
      "|invoiceno|stockcode|description                        |quantity|invoicedate|unitprice|customerid|country       |amount            |\n",
      "+---------+---------+-----------------------------------+--------+-----------+---------+----------+--------------+------------------+\n",
      "|536365   |85123A   |WHITE HANGING HEART T-LIGHT HOLDER |6       |2010-12-01 |2.55     |17850     |United Kingdom|15.299999999999999|\n",
      "|536365   |71053    |WHITE METAL LANTERN                |6       |2010-12-01 |3.39     |17850     |United Kingdom|20.34             |\n",
      "|536365   |84406B   |CREAM CUPID HEARTS COAT HANGER     |8       |2010-12-01 |2.75     |17850     |United Kingdom|22.0              |\n",
      "|536365   |84029G   |KNITTED UNION FLAG HOT WATER BOTTLE|6       |2010-12-01 |3.39     |17850     |United Kingdom|20.34             |\n",
      "|536365   |84029E   |RED WOOLLY HOTTIE WHITE HEART.     |6       |2010-12-01 |3.39     |17850     |United Kingdom|20.34             |\n",
      "|536365   |22752    |SET 7 BABUSHKA NESTING BOXES       |2       |2010-12-01 |7.65     |17850     |United Kingdom|15.3              |\n",
      "|536365   |21730    |GLASS STAR FROSTED T-LIGHT HOLDER  |6       |2010-12-01 |4.25     |17850     |United Kingdom|25.5              |\n",
      "|536366   |22633    |HAND WARMER UNION JACK             |6       |2010-12-01 |1.85     |17850     |United Kingdom|11.100000000000001|\n",
      "|536366   |22632    |HAND WARMER RED POLKA DOT          |6       |2010-12-01 |1.85     |17850     |United Kingdom|11.100000000000001|\n",
      "|536367   |84879    |ASSORTED COLOUR BIRD ORNAMENT      |32      |2010-12-01 |1.69     |13047     |United Kingdom|54.08             |\n",
      "|536367   |22745    |POPPY'S PLAYHOUSE BEDROOM          |6       |2010-12-01 |2.1      |13047     |United Kingdom|12.600000000000001|\n",
      "|536367   |22748    |POPPY'S PLAYHOUSE KITCHEN          |6       |2010-12-01 |2.1      |13047     |United Kingdom|12.600000000000001|\n",
      "|536367   |22749    |FELTCRAFT PRINCESS CHARLOTTE DOLL  |8       |2010-12-01 |3.75     |13047     |United Kingdom|30.0              |\n",
      "|536367   |22310    |IVORY KNITTED MUG COSY             |6       |2010-12-01 |1.65     |13047     |United Kingdom|9.899999999999999 |\n",
      "|536367   |84969    |BOX OF 6 ASSORTED COLOUR TEASPOONS |6       |2010-12-01 |4.25     |13047     |United Kingdom|25.5              |\n",
      "|536367   |22623    |BOX OF VINTAGE JIGSAW BLOCKS       |3       |2010-12-01 |4.95     |13047     |United Kingdom|14.850000000000001|\n",
      "|536367   |22622    |BOX OF VINTAGE ALPHABET BLOCKS     |2       |2010-12-01 |9.95     |13047     |United Kingdom|19.9              |\n",
      "|536367   |21754    |HOME BUILDING BLOCK WORD           |3       |2010-12-01 |5.95     |13047     |United Kingdom|17.85             |\n",
      "|536367   |21755    |LOVE BUILDING BLOCK WORD           |3       |2010-12-01 |5.95     |13047     |United Kingdom|17.85             |\n",
      "|536367   |21777    |RECIPE BOX WITH METAL HEART        |4       |2010-12-01 |7.95     |13047     |United Kingdom|31.8              |\n",
      "+---------+---------+-----------------------------------+--------+-----------+---------+----------+--------------+------------------+\n",
      "only showing top 20 rows\n",
      "\n"
     ]
    }
   ],
   "source": [
    "df.show(truncate=False)"
   ]
  },
  {
   "cell_type": "code",
   "execution_count": 14,
   "id": "97c318f5-baf1-4a5a-8c5e-403354412996",
   "metadata": {},
   "outputs": [],
   "source": [
    "cur.close()"
   ]
  },
  {
   "cell_type": "code",
   "execution_count": 15,
   "id": "6526af35-b054-47cb-9bca-30a1aa0a9ee0",
   "metadata": {},
   "outputs": [],
   "source": [
    "conn.close()"
   ]
  }
 ],
 "metadata": {
  "kernelspec": {
   "display_name": "Python 3 (ipykernel)",
   "language": "python",
   "name": "python3"
  },
  "language_info": {
   "codemirror_mode": {
    "name": "ipython",
    "version": 3
   },
   "file_extension": ".py",
   "mimetype": "text/x-python",
   "name": "python",
   "nbconvert_exporter": "python",
   "pygments_lexer": "ipython3",
   "version": "3.11.6"
  }
 },
 "nbformat": 4,
 "nbformat_minor": 5
}
